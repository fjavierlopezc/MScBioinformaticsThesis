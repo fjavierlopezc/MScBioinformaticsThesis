{
 "cells": [
  {
   "cell_type": "markdown",
   "metadata": {},
   "source": [
    "At first, we load **libraries with functions needed for analysis** (cobra), dataframe and graph generation, as well as requests for access to open APIs."
   ]
  },
  {
   "cell_type": "code",
   "execution_count": 1,
   "metadata": {},
   "outputs": [
    {
     "name": "stderr",
     "output_type": "stream",
     "text": [
      "GUROBI is available but could not load with error:\n",
      "  Traceback (most recent call last):\n",
      "    File \"/usr/local/lib/python3.6/site-packages/optlang/gurobi_interface.py\", line 40, in <module>\n",
      "      raise RuntimeError()\n",
      "  RuntimeError\n",
      "  \n",
      "  During handling of the above exception, another exception occurred:\n",
      "  \n",
      "  Traceback (most recent call last):\n",
      "    File \"/usr/local/lib/python3.6/site-packages/optlang/__init__.py\", line 49, in <module>\n",
      "      from optlang import gurobi_interface\n",
      "    File \"/usr/local/lib/python3.6/site-packages/optlang/gurobi_interface.py\", line 43, in <module>\n",
      "      \"This version of optlang requires a Gurobi version of 9.5 or above.\")\n",
      "  RuntimeError: This version of optlang requires a Gurobi version of 9.5 or above.\n"
     ]
    }
   ],
   "source": [
    "import cobra\n",
    "cobra.Configuration().solver='cplex'\n",
    "import os\n",
    "import pickle\n",
    "import pandas as pd\n",
    "import matplotlib.pyplot as plt\n",
    "import mygene\n",
    "import requests, sys\n",
    "from Bio import Entrez\n",
    "from chembl_webresource_client.new_client import new_client"
   ]
  },
  {
   "cell_type": "markdown",
   "metadata": {},
   "source": [
    "**Loading reaction and model data and information**\n",
    "- namesBase, namesMM, namesTissues\n",
    "- Remove the last 7 letters: name = name[:len(name)-7].\n",
    "- Names is a list of all 49 names\n",
    "- Two dictionaries: indexModel[model], modelName[index], modelName[index].\n",
    "- modelBase : generic model Human-GEM\n",
    "- myGroup[r.id] : name of the subsystem it belongs to\n",
    "- reactionsIncluded[model] : ids of the reactions of the model"
   ]
  },
  {
   "cell_type": "code",
   "execution_count": 2,
   "metadata": {},
   "outputs": [],
   "source": [
    "nombresBase=os.listdir(\"/home/alumno15/MCS/base/\")\n",
    "nombresTejidos=os.listdir(\"/home/alumno15/MCS/tejidos/\")\n",
    "nombresMM=os.listdir(\"/home/alumno15/MCS/MM/\")"
   ]
  },
  {
   "cell_type": "code",
   "execution_count": 3,
   "metadata": {},
   "outputs": [],
   "source": [
    "nombres=[]\n",
    "for nombre in nombresBase:\n",
    "    nombres.append(nombre[:len(nombre)-7])\n",
    "for nombre in nombresTejidos:\n",
    "    nombres.append(nombre[:len(nombre)-7])\n",
    "for nombre in nombresMM:\n",
    "    nombres.append(nombre[:len(nombre)-7])"
   ]
  },
  {
   "cell_type": "code",
   "execution_count": 4,
   "metadata": {},
   "outputs": [],
   "source": [
    "nombreModelo={}\n",
    "indiceModelo={}\n",
    "for i,modelo in enumerate(nombres):\n",
    "    nombreModelo[i]=modelo\n",
    "    indiceModelo[modelo]=i"
   ]
  },
  {
   "cell_type": "code",
   "execution_count": 5,
   "metadata": {},
   "outputs": [],
   "source": [
    "with open(\"/home/alumno15/modelos/base/Human-GEM.dat\",\"rb\") as f:\n",
    "    modeloBase=pickle.load(f)"
   ]
  },
  {
   "cell_type": "code",
   "execution_count": 6,
   "metadata": {},
   "outputs": [],
   "source": [
    "miGrupo={}\n",
    "for group in modeloBase.groups:\n",
    "    for r in group.members:\n",
    "        miGrupo[r.id]=group.name"
   ]
  },
  {
   "cell_type": "code",
   "execution_count": 7,
   "metadata": {},
   "outputs": [],
   "source": [
    "'''\n",
    "reaccionesIncluidas={}\n",
    "for nombre in nombresMM:\n",
    "    nombre=nombre[:len(nombre)-7]\n",
    "    with open(\"/home/alumno15/modelos/MM/\"+nombre+\".dat\",\"rb\") as f:\n",
    "        modelo=pickle.load(f)\n",
    "    reaccionesIncluidas[nombre]=set([r.id for r in modelo.reactions])\n",
    "for nombre in nombresTejidos:\n",
    "    nombre=nombre[:len(nombre)-7]\n",
    "    with open(\"/home/alumno15/modelos/tejidos/\"+nombre+\".dat\",\"rb\") as f:\n",
    "        modelo=pickle.load(f)\n",
    "    reaccionesIncluidas[nombre]=set([r.id for r in modelo.reactions])\n",
    "\n",
    "with open(\"reaccionesIncluidas.dat\",\"wb\") as f:\n",
    "    pickle.dump(reaccionesIncluidas,f)\n",
    "'''\n",
    "\n",
    "with open(\"reaccionesIncluidas.dat\",\"rb\") as f:\n",
    "    reaccionesIncluidas = pickle.load(f)"
   ]
  },
  {
   "cell_type": "markdown",
   "metadata": {},
   "source": [
    "**Tools to analyse MCS**\n",
    "- MCSByTask [model] [task]: dictionary storing MCS of all models classified by metabolic task\n",
    "- MCSAllTasks [model]: dictionary storing all MCSs of all models without distinguishing by metabolic task\n",
    "- We load a single line, in this case it will be **MMIS**"
   ]
  },
  {
   "cell_type": "code",
   "execution_count": 8,
   "metadata": {},
   "outputs": [],
   "source": [
    "MCSByTask={}\n",
    "MCSAllTasks={}\n",
    "\n",
    "for nombre in nombresBase:\n",
    "    nombre=nombre[:len(nombre)-7]\n",
    "    with open(\"/home/alumno15/MCS/base/\"+nombre+\"MCS.dat\",\"rb\") as f:\n",
    "        MCS=pickle.load(f)\n",
    "    todos=set()\n",
    "    for task in range(57):\n",
    "        todos.update(MCS[task][0])\n",
    "    ByTask=[set()]\n",
    "    for task in range(57):\n",
    "        ByTask.append(MCS[task][0])\n",
    "    MCSByTask[nombre]=ByTask\n",
    "    MCSAllTasks[nombre]=todos\n",
    "    \n",
    "for nombre in nombresTejidos:\n",
    "    nombre=nombre[:len(nombre)-7]\n",
    "    with open(\"/home/alumno15/MCS/tejidos/\"+nombre+\"MCS.dat\",\"rb\") as f:\n",
    "        MCS=pickle.load(f)\n",
    "    todos=set()\n",
    "    for task in range(57):\n",
    "        todos.update(MCS[task][0])\n",
    "    ByTask=[set()]\n",
    "    for task in range(57):\n",
    "        ByTask.append(MCS[task][0])\n",
    "    MCSByTask[nombre]=ByTask\n",
    "    MCSAllTasks[nombre]=todos\n",
    "    \n",
    "#Specify line by changing model ID\n",
    "nombre=\"ACH_000763\"\n",
    "with open(\"/home/alumno15/MCS/MM/\"+nombre+\"MCS.dat\",\"rb\") as f:\n",
    "    MCS=pickle.load(f)\n",
    "todos=set()\n",
    "for task in range(57):\n",
    "    todos.update(MCS[task][0])\n",
    "ByTask=[set()]\n",
    "for task in range(57):\n",
    "    ByTask.append(MCS[task][0])\n",
    "MCSByTask[nombre]=ByTask\n",
    "MCSAllTasks[nombre]=todos"
   ]
  },
  {
   "cell_type": "markdown",
   "metadata": {},
   "source": [
    "**Toxicity studies (MCSs that affect healthy tissues)**\n",
    "- modelsAffected[r.id] : list of tissues affected by some MCSs\n",
    "- numeroModelosAfectados[r.id] : list of the ‘number’ of tissues affected by some MCSs\n",
    "- Level1,..., Level5: toxicity levels\n",
    "- generic: MCS of the base model\n",
    "- someModel: MCSs which block some tissue\n",
    "- specific: MCSs which block some tissue and are not generic"
   ]
  },
  {
   "cell_type": "code",
   "execution_count": 9,
   "metadata": {},
   "outputs": [
    {
     "name": "stdout",
     "output_type": "stream",
     "text": [
      "Number of MCSs in the generic model: 441\n"
     ]
    }
   ],
   "source": [
    "genericas=MCSAllTasks[nombreModelo[0]]\n",
    "print(\"Number of MCSs in the generic model:\",len(genericas))"
   ]
  },
  {
   "cell_type": "code",
   "execution_count": 10,
   "metadata": {},
   "outputs": [
    {
     "name": "stdout",
     "output_type": "stream",
     "text": [
      "Number of MCSs in some healthy tissue model: 912\n"
     ]
    }
   ],
   "source": [
    "algunModelo=set()\n",
    "for i in range(1,31):\n",
    "    especificasTask=MCSAllTasks[nombreModelo[i]]\n",
    "    algunModelo.update(especificasTask)\n",
    "print(\"Number of MCSs in some healthy tissue model:\",len(algunModelo))"
   ]
  },
  {
   "cell_type": "code",
   "execution_count": 11,
   "metadata": {},
   "outputs": [
    {
     "name": "stdout",
     "output_type": "stream",
     "text": [
      "Number of MCSs specific to healthy tissue models: 471\n"
     ]
    }
   ],
   "source": [
    "especificas=algunModelo.difference(genericas)\n",
    "print(\"Number of MCSs specific to healthy tissue models:\",len(especificas))"
   ]
  },
  {
   "cell_type": "code",
   "execution_count": 12,
   "metadata": {},
   "outputs": [],
   "source": [
    "numeroModelosAfectados={}\n",
    "modelosAfectados={}\n",
    "for r in especificas:\n",
    "    afectados=set()\n",
    "    for i in range(1,31):\n",
    "        if r in MCSAllTasks[nombreModelo[i]]:\n",
    "            afectados.add(nombreModelo[i])\n",
    "    numeroModelosAfectados[r]=len(afectados)\n",
    "    modelosAfectados[r]=afectados"
   ]
  },
  {
   "cell_type": "markdown",
   "metadata": {},
   "source": [
    "**Target studies (MCSs that affect KMM1 line in particular)**\n",
    "- targetsModeloMM: MCSs which block some line\n",
    "- especificasLineaMM: MCSs which block some line and are not generic"
   ]
  },
  {
   "cell_type": "code",
   "execution_count": 15,
   "metadata": {},
   "outputs": [
    {
     "data": {
      "text/plain": [
       "680"
      ]
     },
     "execution_count": 15,
     "metadata": {},
     "output_type": "execute_result"
    }
   ],
   "source": [
    "targetsModeloMM=set()\n",
    "especificasTask=MCSAllTasks[\"ACH_000763\"] #Specify line by changing model ID\n",
    "targetsModeloMM.update(especificasTask)\n",
    "len(targetsModeloMM)"
   ]
  },
  {
   "cell_type": "code",
   "execution_count": 16,
   "metadata": {},
   "outputs": [
    {
     "data": {
      "text/plain": [
       "239"
      ]
     },
     "execution_count": 16,
     "metadata": {},
     "output_type": "execute_result"
    }
   ],
   "source": [
    "especificasLineaMM=targetsModeloMM.difference(genericas)\n",
    "len(especificasLineaMM)"
   ]
  },
  {
   "cell_type": "markdown",
   "metadata": {},
   "source": [
    "**Classification by range of toxicities**\n",
    "\n",
    "- We are grouping the MCS found for the line considered based on the number of healthy tissues they affect. \n",
    "- If they do not affect any of them, said MCS will not have been included in the \"numeroModelosAfectados\" dictionary and therefore we must show it and consider it, since it will not present toxicities in healthy tissue."
   ]
  },
  {
   "cell_type": "code",
   "execution_count": 17,
   "metadata": {},
   "outputs": [
    {
     "name": "stdout",
     "output_type": "stream",
     "text": [
      "Warning: Key 'MAR04473' not found in numeroModelosAfectados\n",
      "Warning: Key 'MAR20111' not found in numeroModelosAfectados\n",
      "Warning: Key 'MAR04922' not found in numeroModelosAfectados\n",
      "Warning: Key 'MAR06662' not found in numeroModelosAfectados\n",
      "Warning: Key 'MAR08009' not found in numeroModelosAfectados\n",
      "Warning: Key 'MAR07702' not found in numeroModelosAfectados\n",
      "Warning: Key 'MAR06386' not found in numeroModelosAfectados\n",
      "Warning: Key 'MAR02598' not found in numeroModelosAfectados\n",
      "Warning: Key 'MAR04623' not found in numeroModelosAfectados\n",
      "Warning: Key 'MAR07708' not found in numeroModelosAfectados\n",
      "MCS que tienen menos de 5 toxicidades\n",
      "  ID Reaction  Toxicities\n",
      "0    MAR06644           1\n",
      "1    MAR06645           4\n",
      "2    MAR02299           3\n",
      "3    MAR06466           4\n",
      "4    MAR08702           1\n",
      "5    MAR08710           4\n",
      "6    MAR06464           4\n",
      "7    MAR06660           1\n",
      "\n",
      "MCS que tienen entre 5-9 toxicidades\n",
      "   ID Reaction  Toxicities\n",
      "0     MAR04917           8\n",
      "1     MAR03386           8\n",
      "2     MAR00638           8\n",
      "3     MAR01648           8\n",
      "4     MAR01645           8\n",
      "5     MAR04336           7\n",
      "6     MAR02594           9\n",
      "7     MAR00636           8\n",
      "8     MAR00651           7\n",
      "9     MAR03037           9\n",
      "10    MAR00589           8\n",
      "11    MAR06476           5\n",
      "12    MAR06505           7\n",
      "13    MAR00597           8\n",
      "14    MAR05029           7\n",
      "15    MAR04898           6\n",
      "16    MAR00067           8\n",
      "17    MAR06478           5\n",
      "18    MAR00625           8\n",
      "\n",
      "MCS que tienen entre 10-18 toxicidades\n",
      "   ID Reaction  Toxicities\n",
      "0     MAR00526          11\n",
      "1     MAR00517          11\n",
      "2     MAR00521          11\n",
      "3     MAR00508          11\n",
      "4     MAR00512          11\n",
      "..         ...         ...\n",
      "78    MAR00488          11\n",
      "79    MAR00491          11\n",
      "80    MAR00511          11\n",
      "81    MAR00524          11\n",
      "82    MAR06780          10\n",
      "\n",
      "[83 rows x 2 columns]\n",
      "\n",
      "MCS que tienen entre 20-29 toxicidades\n",
      "   ID Reaction  Toxicities\n",
      "0     MAR04040          22\n",
      "1     MAR00313          29\n",
      "2     MAR04408          25\n",
      "3     MAR01437          27\n",
      "4     MAR02993          28\n",
      "5     MAR02960          28\n",
      "6     MAR03438          29\n",
      "7     MAR02132          26\n",
      "8     MAR09064          24\n",
      "9     MAR03355          29\n",
      "10    MAR00361          29\n",
      "11    MAR06636          25\n",
      "12    MAR04954          28\n",
      "13    MAR00353          28\n",
      "14    MAR07764          25\n",
      "15    MAR02730          29\n",
      "16    MAR00753          26\n",
      "17    MAR02897          29\n",
      "18    MAR02759          29\n",
      "19    MAR03843          26\n",
      "20    MAR08000          26\n",
      "21    MAR07856          20\n",
      "22    MAR04410          25\n",
      "23    MAR09378          25\n",
      "24    MAR04969          25\n",
      "25    MAR05128          25\n",
      "26    MAR02896          29\n",
      "27    MAR07794          29\n",
      "28    MAR06675          21\n",
      "29    MAR01506          25\n",
      "30    MAR08006          25\n",
      "31    MAR02130          26\n",
      "32    MAR05127          25\n",
      "\n",
      "Mas 86 toxicidades casi genericas\n"
     ]
    }
   ],
   "source": [
    "#Initialize counters and lists for each category\n",
    "cont = 0\n",
    "menos_de_5 = []\n",
    "entre_5_y_9 = []\n",
    "entre_10_y_18 = []\n",
    "entre_20_y_29 = []\n",
    "\n",
    "#Iterate through the list and categorize\n",
    "for r in especificasLineaMM:\n",
    "    if r in numeroModelosAfectados:\n",
    "        count = numeroModelosAfectados[r]\n",
    "        if count < 5:\n",
    "            menos_de_5.append((r, count))\n",
    "        elif 5 <= count < 10:\n",
    "            entre_5_y_9.append((r, count))\n",
    "        elif 10 <= count < 19:\n",
    "            entre_10_y_18.append((r, count))\n",
    "        elif 20 <= count < 30:\n",
    "            entre_20_y_29.append((r, count))\n",
    "        else:\n",
    "            cont += 1\n",
    "    else:\n",
    "        print(f\"Warning: Key '{r}' not found in numeroModelosAfectados\")\n",
    "\n",
    "#Create a DataFrame for each category\n",
    "df_menos_de_5 = pd.DataFrame(menos_de_5, columns=['ID Reaction', 'Toxicities'])\n",
    "df_entre_5_y_9 = pd.DataFrame(entre_5_y_9, columns=['ID Reaction', 'Toxicities'])\n",
    "df_entre_10_y_18 = pd.DataFrame(entre_10_y_18, columns=['ID Reaction', 'Toxicities'])\n",
    "df_entre_20_y_29 = pd.DataFrame(entre_20_y_29, columns=['ID Reaction', 'Toxicities'])\n",
    "\n",
    "#Print the results in blocks\n",
    "if not df_menos_de_5.empty:\n",
    "    print(\"MCS que tienen menos de 5 toxicidades\")\n",
    "    print(df_menos_de_5)\n",
    "\n",
    "if not df_entre_5_y_9.empty:\n",
    "    print(\"\\nMCS que tienen entre 5-9 toxicidades\")\n",
    "    print(df_entre_5_y_9)\n",
    "\n",
    "if not df_entre_10_y_18.empty:\n",
    "    print(\"\\nMCS que tienen entre 10-18 toxicidades\")\n",
    "    print(df_entre_10_y_18)\n",
    "\n",
    "if not df_entre_20_y_29.empty:\n",
    "    print(\"\\nMCS que tienen entre 20-29 toxicidades\")\n",
    "    print(df_entre_20_y_29)\n",
    "\n",
    "#Print the count of toxicities almost generic\n",
    "print(f\"\\nMas {cont} toxicidades casi genericas\")"
   ]
  },
  {
   "cell_type": "markdown",
   "metadata": {},
   "source": [
    "**Comparison with candidate MCS for various MM lines**\n",
    "\n",
    "- The next step is to consider the MCS obtained as promising in the analysis for several MM lines (buenasTodas: they kill a minimum of 10 lines and present a maximum of 5 different toxicities) and see if they are also promising for this specific line.\n",
    "- Explore which are promising MCS unique to this line (set(buenasLinea).difference(buenasTodas)), the metabolites associated with the reaction and the subsystem to which they belong.\n",
    "- Furthermore, we will investigate the identity of the toxicities associated with some of them."
   ]
  },
  {
   "cell_type": "code",
   "execution_count": 18,
   "metadata": {},
   "outputs": [],
   "source": [
    "buenasTodas=set([\"MAR04623\", \"MAR02598\", \"MAR04473\", \"MAR06660\", \"MAR06644\", \"MAR08702\", \"MAR06386\"])"
   ]
  },
  {
   "cell_type": "code",
   "execution_count": 19,
   "metadata": {},
   "outputs": [
    {
     "data": {
      "text/plain": [
       "['MAR04473',\n",
       " 'MAR20111',\n",
       " 'MAR04922',\n",
       " 'MAR06662',\n",
       " 'MAR08009',\n",
       " 'MAR07702',\n",
       " 'MAR06386',\n",
       " 'MAR02598',\n",
       " 'MAR04623',\n",
       " 'MAR07708']"
      ]
     },
     "execution_count": 19,
     "metadata": {},
     "output_type": "execute_result"
    }
   ],
   "source": [
    "noToxicities=[r for r in especificasLineaMM if r not in numeroModelosAfectados]\n",
    "noToxicities"
   ]
  },
  {
   "cell_type": "code",
   "execution_count": 20,
   "metadata": {},
   "outputs": [
    {
     "name": "stdout",
     "output_type": "stream",
     "text": [
      "MAR07708 Toxicidades 0 Transport reactions\n",
      "MAR06464 Toxicidades 4 Vitamin E metabolism\n",
      "MAR20111 Toxicidades 0 Miscellaneous\n",
      "MAR04922 Toxicidades 0 Transport reactions\n",
      "MAR08009 Toxicidades 0 Transport reactions\n",
      "MAR07702 Toxicidades 0 Glycine, serine and threonine metabolism\n",
      "MAR06645 Toxicidades 4 Retinol metabolism\n",
      "MAR08710 Toxicidades 4 Retinol metabolism\n",
      "MAR06662 Toxicidades 0 Retinol metabolism\n",
      "MAR02299 Toxicidades 3 Transport reactions\n",
      "MAR06466 Toxicidades 4 Vitamin E metabolism\n"
     ]
    }
   ],
   "source": [
    "buenasLinea=set([caso[0] for caso in menos_de_5])\n",
    "buenasLinea.update(noToxicities)\n",
    "for r in set(buenasLinea).difference(buenasTodas):\n",
    "    if r not in numeroModelosAfectados:\n",
    "        afecta=0\n",
    "    else:\n",
    "        afecta=numeroModelosAfectados[r]\n",
    "    print(r,\"Toxicidades\",afecta,miGrupo[r])"
   ]
  },
  {
   "cell_type": "code",
   "execution_count": 21,
   "metadata": {},
   "outputs": [
    {
     "name": "stdout",
     "output_type": "stream",
     "text": [
      "MAR04473 Pentose phosphate pathway\n",
      "MAR20111 Miscellaneous\n",
      "MAR04922 Transport reactions\n",
      "MAR06662 Retinol metabolism\n",
      "MAR08009 Transport reactions\n",
      "MAR07702 Glycine, serine and threonine metabolism\n",
      "MAR06386 Transport reactions\n",
      "MAR02598 Carnitine shuttle (mitochondrial)\n",
      "MAR04623 Pentose phosphate pathway\n",
      "MAR07708 Transport reactions\n"
     ]
    }
   ],
   "source": [
    "for r in especificasLineaMM:\n",
    "    if r not in numeroModelosAfectados:\n",
    "        print(r, miGrupo[r])"
   ]
  },
  {
   "cell_type": "markdown",
   "metadata": {},
   "source": [
    "**MCS analysis with less than 5 toxicities**"
   ]
  },
  {
   "cell_type": "code",
   "execution_count": 22,
   "metadata": {},
   "outputs": [
    {
     "name": "stdout",
     "output_type": "stream",
     "text": [
      "MAR06644 || Retinol metabolism\n",
      "{'blood'}\n",
      "\n",
      "MAR06645 || Retinol metabolism\n",
      "{'spleen', 'thyroid', 'esophagus', 'brain'}\n",
      "\n",
      "MAR02299 || Transport reactions\n",
      "{'blood_vessel', 'pancreas', 'heart'}\n",
      "\n",
      "MAR06466 || Vitamin E metabolism\n",
      "{'esophagus', 'colon', 'heart', 'ovary'}\n",
      "\n",
      "MAR08702 || Retinol metabolism\n",
      "{'blood'}\n",
      "\n",
      "MAR08710 || Retinol metabolism\n",
      "{'spleen', 'thyroid', 'esophagus', 'brain'}\n",
      "\n",
      "MAR06464 || Vitamin E metabolism\n",
      "{'esophagus', 'colon', 'heart', 'ovary'}\n",
      "\n",
      "MAR06660 || Retinol metabolism\n",
      "{'blood'}\n",
      "\n",
      "Reacciones no encontradas en numeroModelosAfectados:\n",
      "MAR04473\n",
      "MAR20111\n",
      "MAR04922\n",
      "MAR06662\n",
      "MAR08009\n",
      "MAR07702\n",
      "MAR06386\n",
      "MAR02598\n",
      "MAR04623\n",
      "MAR07708\n"
     ]
    }
   ],
   "source": [
    "not_found = []\n",
    "\n",
    "for r in especificasLineaMM:\n",
    "    if r in numeroModelosAfectados:\n",
    "        if numeroModelosAfectados[r] < 5:\n",
    "            print(r, \"||\", miGrupo[r])\n",
    "            print(modelosAfectados[r])\n",
    "            print()\n",
    "    else:\n",
    "        not_found.append(r)\n",
    "\n",
    "if not_found:\n",
    "    print(\"Reacciones no encontradas en numeroModelosAfectados:\")\n",
    "    for r in not_found:\n",
    "        print(r)"
   ]
  },
  {
   "cell_type": "markdown",
   "metadata": {},
   "source": [
    "**MCS analysis with associated toxicities ranging from 5 to 10**"
   ]
  },
  {
   "cell_type": "code",
   "execution_count": 23,
   "metadata": {},
   "outputs": [
    {
     "name": "stdout",
     "output_type": "stream",
     "text": [
      "MAR04917 || Transport reactions\n",
      "{'muscle', 'testis', 'spleen', 'prostate', 'uterus', 'brain', 'liver', 'ovary'}\n",
      "\n",
      "MAR03386 || Fatty acid oxidation\n",
      "{'nerve', 'blood_vessel', 'small_intestine', 'esophagus', 'colon', 'cervix_uteri', 'pancreas', 'pituitary'}\n",
      "\n",
      "MAR00638 || Glycerophospholipid metabolism\n",
      "{'blood_vessel', 'small_intestine', 'muscle', 'skin', 'heart', 'esophagus', 'salivary_gland', 'blood'}\n",
      "\n",
      "MAR01648 || Transport reactions\n",
      "{'nerve', 'blood_vessel', 'small_intestine', 'esophagus', 'colon', 'cervix_uteri', 'pancreas', 'pituitary'}\n",
      "\n",
      "MAR01645 || Transport reactions\n",
      "{'nerve', 'blood_vessel', 'small_intestine', 'esophagus', 'colon', 'cervix_uteri', 'pancreas', 'pituitary'}\n",
      "\n",
      "MAR04336 || Folate metabolism\n",
      "{'blood_vessel', 'muscle', 'skin', 'heart', 'esophagus', 'salivary_gland', 'blood'}\n",
      "\n",
      "MAR02594 || Carnitine shuttle (cytosolic)\n",
      "{'nerve', 'small_intestine', 'breast', 'testis', 'prostate', 'uterus', 'brain', 'adrenal_gland', 'ovary'}\n",
      "\n",
      "MAR00636 || Glycerophospholipid metabolism\n",
      "{'blood_vessel', 'small_intestine', 'muscle', 'skin', 'heart', 'esophagus', 'salivary_gland', 'blood'}\n",
      "\n",
      "MAR00651 || Glycerophospholipid metabolism\n",
      "{'blood_vessel', 'small_intestine', 'muscle', 'skin', 'esophagus', 'salivary_gland', 'blood'}\n",
      "\n",
      "MAR03037 || Carnitine shuttle (peroxisomal)\n",
      "{'nerve', 'small_intestine', 'breast', 'testis', 'prostate', 'uterus', 'brain', 'adrenal_gland', 'ovary'}\n",
      "\n",
      "MAR00589 || Glycerophospholipid metabolism\n",
      "{'blood_vessel', 'small_intestine', 'muscle', 'skin', 'heart', 'esophagus', 'salivary_gland', 'blood'}\n",
      "\n",
      "MAR06476 || Vitamin E metabolism\n",
      "{'muscle', 'heart', 'colon', 'pituitary', 'ovary'}\n",
      "\n",
      "MAR06505 || Transport reactions\n",
      "{'blood_vessel', 'muscle', 'spleen', 'liver', 'adrenal_gland', 'blood', 'pituitary'}\n",
      "\n",
      "MAR00597 || Glycerophospholipid metabolism\n",
      "{'blood_vessel', 'small_intestine', 'muscle', 'skin', 'heart', 'esophagus', 'salivary_gland', 'blood'}\n",
      "\n",
      "MAR05029 || Transport reactions\n",
      "{'adipose_tissue', 'blood_vessel', 'breast', 'muscle', 'esophagus', 'adrenal_gland', 'blood'}\n",
      "\n",
      "MAR04898 || Transport reactions\n",
      "{'muscle', 'esophagus', 'cervix_uteri', 'vagina', 'blood', 'ovary'}\n",
      "\n",
      "MAR00067 || Fatty acid oxidation\n",
      "{'nerve', 'blood_vessel', 'small_intestine', 'esophagus', 'colon', 'cervix_uteri', 'pancreas', 'pituitary'}\n",
      "\n",
      "MAR06478 || Vitamin E metabolism\n",
      "{'muscle', 'heart', 'colon', 'pituitary', 'ovary'}\n",
      "\n",
      "MAR00625 || Glycerophospholipid metabolism\n",
      "{'blood_vessel', 'small_intestine', 'muscle', 'skin', 'heart', 'esophagus', 'salivary_gland', 'blood'}\n",
      "\n",
      "Reacciones no encontradas en numeroModelosAfectados:\n",
      "MAR04473\n",
      "MAR20111\n",
      "MAR04922\n",
      "MAR06662\n",
      "MAR08009\n",
      "MAR07702\n",
      "MAR06386\n",
      "MAR02598\n",
      "MAR04623\n",
      "MAR07708\n"
     ]
    }
   ],
   "source": [
    "not_found2 = []\n",
    "\n",
    "for r in especificasLineaMM:\n",
    "    if r in numeroModelosAfectados:\n",
    "        if 5 <= numeroModelosAfectados[r] < 10:\n",
    "            print(r, \"||\", miGrupo[r])\n",
    "            print(modelosAfectados[r])\n",
    "            print()\n",
    "    else:\n",
    "        not_found2.append(r)\n",
    "\n",
    "if not_found2:\n",
    "    print(\"Reacciones no encontradas en numeroModelosAfectados:\")\n",
    "    for r in not_found2:\n",
    "        print(r)"
   ]
  },
  {
   "cell_type": "markdown",
   "metadata": {},
   "source": [
    "**Search for genes and metabolites involved in good MCSs**.\n",
    "- Search and addition of all GPR rules in a dictionary called genes.\n",
    "- Search and addition of the ID and the name of the reaction-forming metabolites for each good reaction.\n",
    "- ID scanning of different gene databases (Entrez, Symbol and name) by accessing the corresponding API endpoint."
   ]
  },
  {
   "cell_type": "code",
   "execution_count": 24,
   "metadata": {},
   "outputs": [],
   "source": [
    "genes=dict()\n",
    "for r in modeloBase.reactions:\n",
    "    if len(r.genes)==0:\n",
    "        genes[r.id]=set()\n",
    "    if len(r.genes)==1:\n",
    "        genes[r.id]=set([g.id for g in r.genes])\n",
    "    if len(r.genes)>=2:\n",
    "        exp=r.gene_reaction_rule\n",
    "        if \"and\" in exp and not \"or\" in exp:\n",
    "            genes[r.id]=set([g.id for g in r.genes])\n",
    "        if \"or\" in exp and not \"and\" in exp:\n",
    "            genes[r.id]=set([g.id for g in r.genes])\n",
    "        if \"and\" in exp and \"or\" in exp:\n",
    "            genes[r.id]=set([g.id for g in r.genes])"
   ]
  },
  {
   "cell_type": "code",
   "execution_count": 25,
   "metadata": {},
   "outputs": [],
   "source": [
    "metabolites = dict()\n",
    "names_met = dict()\n",
    "for r in modeloBase.reactions:\n",
    "    metabolite_list = [metabolite.id for metabolite in r.metabolites]\n",
    "    met_names = [metabolite.name for metabolite in r.metabolites]\n",
    "    metabolites[r.id] = metabolite_list\n",
    "    names_met[r.id] = met_names"
   ]
  },
  {
   "cell_type": "code",
   "execution_count": 26,
   "metadata": {},
   "outputs": [
    {
     "name": "stdout",
     "output_type": "stream",
     "text": [
      "MAR07708 Genes asociados set()\n",
      "Metabolitos asociados ['MAM02007c', 'MAM02007m']\n",
      "Metabolitos names ['glyoxalate', 'glyoxalate']\n",
      "\n",
      "\n",
      "MAR06464 Genes asociados {'ENSG00000186115', 'ENSG00000186526', 'ENSG00000171903', 'ENSG00000171954', 'ENSG00000186529'}\n",
      "Metabolitos asociados ['MAM01935c', 'MAM02039c', 'MAM02555c', 'MAM02630c', 'MAM00360c', 'MAM02040c', 'MAM02554c']\n",
      "Metabolitos names ['gamma-tocopherol', 'H+', 'NADPH', 'O2', '13-hydroxy-gamma-tocopherol', 'H2O', 'NADP+']\n",
      "\n",
      "\n",
      "MAR20111 Genes asociados {'ENSG00000125246'}\n",
      "Metabolitos asociados ['MAM01261m', 'MAM02007m', 'MAM02040m', 'MAM01597m', 'MAM02439m']\n",
      "Metabolitos names ['acetyl-CoA', 'glyoxalate', 'H2O', 'CoA', 'malate']\n",
      "\n",
      "\n",
      "MAR04922 Genes asociados set()\n",
      "Metabolitos asociados ['MAM01596c', 'MAM01596m']\n",
      "Metabolitos names ['CO2', 'CO2']\n",
      "\n",
      "\n",
      "MAR08009 Genes asociados set()\n",
      "Metabolitos asociados ['MAM01415c', 'MAM01415m']\n",
      "Metabolitos names ['calcidiol', 'calcidiol']\n",
      "\n",
      "\n",
      "MAR07702 Genes asociados {'ENSG00000137106'}\n",
      "Metabolitos asociados ['MAM02007c', 'MAM02039c', 'MAM02555c', 'MAM01998c', 'MAM02554c']\n",
      "Metabolitos names ['glyoxalate', 'H+', 'NADPH', 'glycolate', 'NADP+']\n",
      "\n",
      "\n",
      "MAR06645 Genes asociados {'ENSG00000114113', 'ENSG00000114115'}\n",
      "Metabolitos asociados ['MAM02834c', 'MAM00351c']\n",
      "Metabolitos names ['retinol', '13-cis-retinol']\n",
      "\n",
      "\n",
      "MAR08710 Genes asociados {'ENSG00000135437'}\n",
      "Metabolitos asociados ['MAM00349c', 'MAM02039c', 'MAM02553c', 'MAM00351c', 'MAM02552c']\n",
      "Metabolitos names ['13-cis-retinal', 'H+', 'NADH', '13-cis-retinol', 'NAD+']\n",
      "\n",
      "\n",
      "MAR06662 Genes asociados set()\n",
      "Metabolitos asociados ['MAM00350r', 'MAM02833r']\n",
      "Metabolitos names ['13-cis-retinoate', 'retinoate']\n",
      "\n",
      "\n",
      "MAR02299 Genes asociados set()\n",
      "Metabolitos asociados ['MAM03101c', 'MAM03101m']\n",
      "Metabolitos names ['tyrosine', 'tyrosine']\n",
      "\n",
      "\n",
      "MAR06466 Genes asociados {'ENSG00000186115', 'ENSG00000186526', 'ENSG00000171903', 'ENSG00000171954', 'ENSG00000186529'}\n",
      "Metabolitos asociados ['MAM00360c', 'MAM02039c', 'MAM02555c', 'MAM02630c', 'MAM00346c', 'MAM02040c', 'MAM02554c']\n",
      "Metabolitos names ['13-hydroxy-gamma-tocopherol', 'H+', 'NADPH', 'O2', '13-carboxy-gamma-tocopherol', 'H2O', 'NADP+']\n",
      "\n",
      "\n"
     ]
    }
   ],
   "source": [
    "genes_interes = []\n",
    "nombres_metabolitos_unicos = set() \n",
    "for r in set(buenasLinea).difference(buenasTodas):\n",
    "    print(r, \"Genes asociados\", genes[r])\n",
    "    genes_interes.append(genes[r])\n",
    "    print(\"Metabolitos asociados\", metabolites[r])\n",
    "    print(\"Metabolitos names\", names_met[r])\n",
    "    nombres_metabolitos_unicos.update(names_met[r]) \n",
    "    print()\n",
    "    print()\n",
    "\n",
    "nombres_metabolitos_unicos_lista = list(nombres_metabolitos_unicos)"
   ]
  },
  {
   "cell_type": "code",
   "execution_count": 27,
   "metadata": {},
   "outputs": [
    {
     "name": "stdout",
     "output_type": "stream",
     "text": [
      "[{'ENSG00000186115', 'ENSG00000186526', 'ENSG00000171903', 'ENSG00000171954', 'ENSG00000186529'}, {'ENSG00000125246'}, {'ENSG00000137106'}, {'ENSG00000114113', 'ENSG00000114115'}, {'ENSG00000135437'}, {'ENSG00000186115', 'ENSG00000186526', 'ENSG00000171903', 'ENSG00000171954', 'ENSG00000186529'}]\n"
     ]
    }
   ],
   "source": [
    "for elemento in genes_interes[:]: \n",
    "    if isinstance(elemento, set) and not elemento:\n",
    "        genes_interes.remove(elemento)\n",
    "print(genes_interes)"
   ]
  },
  {
   "cell_type": "code",
   "execution_count": 28,
   "metadata": {},
   "outputs": [
    {
     "name": "stderr",
     "output_type": "stream",
     "text": [
      "5 input query terms found dup hits:\t[('ENSG00000186115', 2), ('ENSG00000186526', 2), ('ENSG00000171903', 2), ('ENSG00000171954', 2), ('E\n"
     ]
    },
    {
     "data": {
      "text/html": [
       "<div>\n",
       "<style scoped>\n",
       "    .dataframe tbody tr th:only-of-type {\n",
       "        vertical-align: middle;\n",
       "    }\n",
       "\n",
       "    .dataframe tbody tr th {\n",
       "        vertical-align: top;\n",
       "    }\n",
       "\n",
       "    .dataframe thead th {\n",
       "        text-align: right;\n",
       "    }\n",
       "</style>\n",
       "<table border=\"1\" class=\"dataframe\">\n",
       "  <thead>\n",
       "    <tr style=\"text-align: right;\">\n",
       "      <th></th>\n",
       "      <th>entrezgene</th>\n",
       "      <th>name</th>\n",
       "      <th>symbol</th>\n",
       "    </tr>\n",
       "    <tr>\n",
       "      <th>query</th>\n",
       "      <th></th>\n",
       "      <th></th>\n",
       "      <th></th>\n",
       "    </tr>\n",
       "  </thead>\n",
       "  <tbody>\n",
       "    <tr>\n",
       "      <th>ENSG00000186115</th>\n",
       "      <td>8529</td>\n",
       "      <td>cytochrome P450 family 4 subfamily F member 2</td>\n",
       "      <td>CYP4F2</td>\n",
       "    </tr>\n",
       "    <tr>\n",
       "      <th>ENSG00000186526</th>\n",
       "      <td>11283</td>\n",
       "      <td>cytochrome P450 family 4 subfamily F member 8</td>\n",
       "      <td>CYP4F8</td>\n",
       "    </tr>\n",
       "    <tr>\n",
       "      <th>ENSG00000171903</th>\n",
       "      <td>57834</td>\n",
       "      <td>cytochrome P450 family 4 subfamily F member 11</td>\n",
       "      <td>CYP4F11</td>\n",
       "    </tr>\n",
       "    <tr>\n",
       "      <th>ENSG00000171954</th>\n",
       "      <td>126410</td>\n",
       "      <td>cytochrome P450 family 4 subfamily F member 22</td>\n",
       "      <td>CYP4F22</td>\n",
       "    </tr>\n",
       "    <tr>\n",
       "      <th>ENSG00000186529</th>\n",
       "      <td>4051</td>\n",
       "      <td>cytochrome P450 family 4 subfamily F member 3</td>\n",
       "      <td>CYP4F3</td>\n",
       "    </tr>\n",
       "    <tr>\n",
       "      <th>ENSG00000125246</th>\n",
       "      <td>171425</td>\n",
       "      <td>citramalyl-CoA lyase</td>\n",
       "      <td>CLYBL</td>\n",
       "    </tr>\n",
       "    <tr>\n",
       "      <th>ENSG00000137106</th>\n",
       "      <td>9380</td>\n",
       "      <td>glyoxylate and hydroxypyruvate reductase</td>\n",
       "      <td>GRHPR</td>\n",
       "    </tr>\n",
       "    <tr>\n",
       "      <th>ENSG00000114113</th>\n",
       "      <td>5948</td>\n",
       "      <td>retinol binding protein 2</td>\n",
       "      <td>RBP2</td>\n",
       "    </tr>\n",
       "    <tr>\n",
       "      <th>ENSG00000114115</th>\n",
       "      <td>5947</td>\n",
       "      <td>retinol binding protein 1</td>\n",
       "      <td>RBP1</td>\n",
       "    </tr>\n",
       "    <tr>\n",
       "      <th>ENSG00000135437</th>\n",
       "      <td>5959</td>\n",
       "      <td>retinol dehydrogenase 5</td>\n",
       "      <td>RDH5</td>\n",
       "    </tr>\n",
       "    <tr>\n",
       "      <th>ENSG00000186115</th>\n",
       "      <td>8529</td>\n",
       "      <td>cytochrome P450 family 4 subfamily F member 2</td>\n",
       "      <td>CYP4F2</td>\n",
       "    </tr>\n",
       "    <tr>\n",
       "      <th>ENSG00000186526</th>\n",
       "      <td>11283</td>\n",
       "      <td>cytochrome P450 family 4 subfamily F member 8</td>\n",
       "      <td>CYP4F8</td>\n",
       "    </tr>\n",
       "    <tr>\n",
       "      <th>ENSG00000171903</th>\n",
       "      <td>57834</td>\n",
       "      <td>cytochrome P450 family 4 subfamily F member 11</td>\n",
       "      <td>CYP4F11</td>\n",
       "    </tr>\n",
       "    <tr>\n",
       "      <th>ENSG00000171954</th>\n",
       "      <td>126410</td>\n",
       "      <td>cytochrome P450 family 4 subfamily F member 22</td>\n",
       "      <td>CYP4F22</td>\n",
       "    </tr>\n",
       "  </tbody>\n",
       "</table>\n",
       "</div>"
      ],
      "text/plain": [
       "                entrezgene                                            name  \\\n",
       "query                                                                        \n",
       "ENSG00000186115       8529   cytochrome P450 family 4 subfamily F member 2   \n",
       "ENSG00000186526      11283   cytochrome P450 family 4 subfamily F member 8   \n",
       "ENSG00000171903      57834  cytochrome P450 family 4 subfamily F member 11   \n",
       "ENSG00000171954     126410  cytochrome P450 family 4 subfamily F member 22   \n",
       "ENSG00000186529       4051   cytochrome P450 family 4 subfamily F member 3   \n",
       "ENSG00000125246     171425                            citramalyl-CoA lyase   \n",
       "ENSG00000137106       9380        glyoxylate and hydroxypyruvate reductase   \n",
       "ENSG00000114113       5948                       retinol binding protein 2   \n",
       "ENSG00000114115       5947                       retinol binding protein 1   \n",
       "ENSG00000135437       5959                         retinol dehydrogenase 5   \n",
       "ENSG00000186115       8529   cytochrome P450 family 4 subfamily F member 2   \n",
       "ENSG00000186526      11283   cytochrome P450 family 4 subfamily F member 8   \n",
       "ENSG00000171903      57834  cytochrome P450 family 4 subfamily F member 11   \n",
       "ENSG00000171954     126410  cytochrome P450 family 4 subfamily F member 22   \n",
       "\n",
       "                  symbol  \n",
       "query                     \n",
       "ENSG00000186115   CYP4F2  \n",
       "ENSG00000186526   CYP4F8  \n",
       "ENSG00000171903  CYP4F11  \n",
       "ENSG00000171954  CYP4F22  \n",
       "ENSG00000186529   CYP4F3  \n",
       "ENSG00000125246    CLYBL  \n",
       "ENSG00000137106    GRHPR  \n",
       "ENSG00000114113     RBP2  \n",
       "ENSG00000114115     RBP1  \n",
       "ENSG00000135437     RDH5  \n",
       "ENSG00000186115   CYP4F2  \n",
       "ENSG00000186526   CYP4F8  \n",
       "ENSG00000171903  CYP4F11  \n",
       "ENSG00000171954  CYP4F22  "
      ]
     },
     "execution_count": 28,
     "metadata": {},
     "output_type": "execute_result"
    }
   ],
   "source": [
    "genes_a_buscar = [gene for conjunto in genes_interes for gene in conjunto]\n",
    "mg = mygene.MyGeneInfo()\n",
    "df = mg.querymany(genes_a_buscar, scopes='ensembl.gene', species=9606, as_dataframe=True)\n",
    "df_sin_duplicados = df.drop_duplicates()\n",
    "pd.set_option('display.max_rows', None)\n",
    "pd.set_option('display.max_columns', None)\n",
    "df_sin_duplicados.iloc[:, [2, 3, 4]]"
   ]
  },
  {
   "cell_type": "code",
   "execution_count": 29,
   "metadata": {},
   "outputs": [
    {
     "data": {
      "text/plain": [
       "{'ENSG00000186115': 'CYP4F2',\n",
       " 'ENSG00000186526': 'CYP4F8',\n",
       " 'ENSG00000171903': 'CYP4F11',\n",
       " 'ENSG00000171954': 'CYP4F22',\n",
       " 'ENSG00000186529': 'CYP4F3',\n",
       " 'ENSG00000125246': 'CLYBL',\n",
       " 'ENSG00000137106': 'GRHPR',\n",
       " 'ENSG00000114113': 'RBP2',\n",
       " 'ENSG00000114115': 'RBP1',\n",
       " 'ENSG00000135437': 'RDH5'}"
      ]
     },
     "execution_count": 29,
     "metadata": {},
     "output_type": "execute_result"
    }
   ],
   "source": [
    "symbol_dict={}\n",
    "for g in genes_a_buscar:\n",
    "    gene = mg.getgene(g, fields='symbol')\n",
    "    if \"symbol\" in gene:\n",
    "        symbol_dict[g]= gene[\"symbol\"]\n",
    "symbol_dict"
   ]
  },
  {
   "cell_type": "markdown",
   "metadata": {},
   "source": [
    "**Drug search for diseases, genes and coincidences**\n",
    "- We access the chEMBL API endpoint and retrieve any molecule that has activity against our genes of interest that control the most promising reactions (MCSs).\n",
    "- The idea is to see if we can propose a drug that attacks our therapeutic targets in a way that might be interesting to explore our results experimentally."
   ]
  },
  {
   "cell_type": "markdown",
   "metadata": {},
   "source": [
    "**Get approved drugs for MM**"
   ]
  },
  {
   "cell_type": "code",
   "execution_count": 30,
   "metadata": {},
   "outputs": [
    {
     "data": {
      "text/plain": [
       "436"
      ]
     },
     "execution_count": 30,
     "metadata": {},
     "output_type": "execute_result"
    }
   ],
   "source": [
    "drug_indication = new_client.drug_indication\n",
    "molecules = new_client.molecule\n",
    "\n",
    "MM_ind = drug_indication.filter(efo_term__icontains=\"MULTIPLE MYELOMA\")\n",
    "MM_mols = molecules.filter(\n",
    "    molecule_chembl_id__in=[x['molecule_chembl_id'] for x in MM_ind])\n",
    "\n",
    "len(MM_mols)"
   ]
  },
  {
   "cell_type": "markdown",
   "metadata": {},
   "source": [
    "**Get approved drugs for cancer**"
   ]
  },
  {
   "cell_type": "code",
   "execution_count": 31,
   "metadata": {},
   "outputs": [
    {
     "data": {
      "text/plain": [
       "1734"
      ]
     },
     "execution_count": 31,
     "metadata": {},
     "output_type": "execute_result"
    }
   ],
   "source": [
    "drug_indication = new_client.drug_indication\n",
    "molecules = new_client.molecule\n",
    "\n",
    "cancer_ind = drug_indication.filter(efo_term__icontains=\"CANCER\")\n",
    "cancer_mols = molecules.filter(\n",
    "    molecule_chembl_id__in=[x['molecule_chembl_id'] for x in cancer_ind])\n",
    "\n",
    "len(cancer_mols)"
   ]
  },
  {
   "cell_type": "code",
   "execution_count": 32,
   "metadata": {},
   "outputs": [],
   "source": [
    "df_MM_mols = pd.DataFrame(MM_mols)\n",
    "df_MM_pref_name = df_MM_mols[['pref_name']]\n",
    "df_cancer_mols = pd.DataFrame(cancer_mols)\n",
    "df_cancer_pref_name = df_cancer_mols[['pref_name']]\n",
    "df_coincidencias_diseases = pd.merge(df_MM_pref_name, df_cancer_pref_name, on=\"pref_name\")\n",
    "df_outer = pd.merge(df_MM_pref_name, df_cancer_pref_name, on=\"pref_name\", how=\"outer\", indicator=True)\n",
    "df_no_coincidencias_cancer = df_outer[df_outer[\"_merge\"] == \"right_only\"]\n",
    "df_no_coincidencias_final_cancer = df_no_coincidencias_cancer[df_cancer_pref_name.columns]"
   ]
  },
  {
   "cell_type": "code",
   "execution_count": 33,
   "metadata": {},
   "outputs": [],
   "source": [
    "def buscar_drugs(gene_symbol):\n",
    "    target = new_client.target\n",
    "    gene_name = gene_symbol\n",
    "    res = target.filter(target_synonym__icontains=gene_name).only(['organism'[\"organism\" == \"Homo sapiens\"], 'target_chembl_id'])\n",
    "    chembl_id = None\n",
    "    for i in res:\n",
    "        chembl_id=i[\"target_chembl_id\"]\n",
    "        break\n",
    "     \n",
    "    activity = new_client.activity\n",
    "    res2 = activity.filter(target_chembl_id=chembl_id, assay_type='B').only([\"target_organism\"[\"target_organism\" == \"Homo sapiens\"],\n",
    "                                                                                'target_chembl_id', \n",
    "                                                                                'target_pref_name', \n",
    "                                                                                'molecule_pref_name'])\n",
    "\n",
    "    if len(res2) > 0:\n",
    "        res2 = pd.DataFrame(res2)\n",
    "        res2[\"gen_symbol\"] = gene_name\n",
    "        res2 = res2[res2[\"molecule_pref_name\"].notna()]\n",
    "        return res2"
   ]
  },
  {
   "cell_type": "code",
   "execution_count": 34,
   "metadata": {},
   "outputs": [
    {
     "data": {
      "text/html": [
       "<div>\n",
       "<style scoped>\n",
       "    .dataframe tbody tr th:only-of-type {\n",
       "        vertical-align: middle;\n",
       "    }\n",
       "\n",
       "    .dataframe tbody tr th {\n",
       "        vertical-align: top;\n",
       "    }\n",
       "\n",
       "    .dataframe thead th {\n",
       "        text-align: right;\n",
       "    }\n",
       "</style>\n",
       "<table border=\"1\" class=\"dataframe\">\n",
       "  <thead>\n",
       "    <tr style=\"text-align: right;\">\n",
       "      <th></th>\n",
       "      <th>molecule_pref_name</th>\n",
       "      <th>target_chembl_id</th>\n",
       "      <th>target_pref_name</th>\n",
       "      <th>gen_symbol</th>\n",
       "    </tr>\n",
       "  </thead>\n",
       "  <tbody>\n",
       "    <tr>\n",
       "      <th>0</th>\n",
       "      <td>ENOXACIN</td>\n",
       "      <td>CHEMBL2098</td>\n",
       "      <td>TAR RNA binding protein 2</td>\n",
       "      <td>RBP2</td>\n",
       "    </tr>\n",
       "  </tbody>\n",
       "</table>\n",
       "</div>"
      ],
      "text/plain": [
       "  molecule_pref_name target_chembl_id           target_pref_name gen_symbol\n",
       "0           ENOXACIN       CHEMBL2098  TAR RNA binding protein 2       RBP2"
      ]
     },
     "execution_count": 34,
     "metadata": {},
     "output_type": "execute_result"
    }
   ],
   "source": [
    "resultados_drogas=pd.DataFrame({})\n",
    "for g in symbol_dict:\n",
    "    gen= symbol_dict[g]\n",
    "    drogas=buscar_drugs(gen)\n",
    "    resultados_drogas=pd.concat([resultados_drogas, drogas], ignore_index=True)\n",
    "df_buenos_drugs = resultados_drogas.drop_duplicates()\n",
    "df_buenos_drugs"
   ]
  },
  {
   "cell_type": "code",
   "execution_count": 35,
   "metadata": {},
   "outputs": [
    {
     "data": {
      "text/html": [
       "<div>\n",
       "<style scoped>\n",
       "    .dataframe tbody tr th:only-of-type {\n",
       "        vertical-align: middle;\n",
       "    }\n",
       "\n",
       "    .dataframe tbody tr th {\n",
       "        vertical-align: top;\n",
       "    }\n",
       "\n",
       "    .dataframe thead th {\n",
       "        text-align: right;\n",
       "    }\n",
       "</style>\n",
       "<table border=\"1\" class=\"dataframe\">\n",
       "  <thead>\n",
       "    <tr style=\"text-align: right;\">\n",
       "      <th></th>\n",
       "      <th>gen_symbol</th>\n",
       "    </tr>\n",
       "  </thead>\n",
       "  <tbody>\n",
       "    <tr>\n",
       "      <th>RBP2</th>\n",
       "      <td>1</td>\n",
       "    </tr>\n",
       "  </tbody>\n",
       "</table>\n",
       "</div>"
      ],
      "text/plain": [
       "      gen_symbol\n",
       "RBP2           1"
      ]
     },
     "execution_count": 35,
     "metadata": {},
     "output_type": "execute_result"
    }
   ],
   "source": [
    "pd.DataFrame(df_buenos_drugs[\"gen_symbol\"].value_counts())"
   ]
  },
  {
   "cell_type": "code",
   "execution_count": 36,
   "metadata": {},
   "outputs": [
    {
     "name": "stdout",
     "output_type": "stream",
     "text": [
      "\n",
      "DataFrame with matches between approved MM drugs and drugs associated with our genes of interest:\n",
      "\n",
      "DataFrame with matches between approved cáncer drugs and drugs associated with our genes of interest:\n"
     ]
    },
    {
     "data": {
      "text/html": [
       "<div>\n",
       "<style scoped>\n",
       "    .dataframe tbody tr th:only-of-type {\n",
       "        vertical-align: middle;\n",
       "    }\n",
       "\n",
       "    .dataframe tbody tr th {\n",
       "        vertical-align: top;\n",
       "    }\n",
       "\n",
       "    .dataframe thead th {\n",
       "        text-align: right;\n",
       "    }\n",
       "</style>\n",
       "<table border=\"1\" class=\"dataframe\">\n",
       "  <thead>\n",
       "    <tr style=\"text-align: right;\">\n",
       "      <th></th>\n",
       "      <th>pref_name</th>\n",
       "      <th>molecule_pref_name</th>\n",
       "      <th>target_chembl_id</th>\n",
       "      <th>target_pref_name</th>\n",
       "      <th>gen_symbol</th>\n",
       "    </tr>\n",
       "  </thead>\n",
       "  <tbody>\n",
       "  </tbody>\n",
       "</table>\n",
       "</div>"
      ],
      "text/plain": [
       "Empty DataFrame\n",
       "Columns: [pref_name, molecule_pref_name, target_chembl_id, target_pref_name, gen_symbol]\n",
       "Index: []"
      ]
     },
     "execution_count": 36,
     "metadata": {},
     "output_type": "execute_result"
    }
   ],
   "source": [
    "df_coincidencias_MM = pd.merge(df_MM_pref_name, df_buenos_drugs, left_on=\"pref_name\", right_on=\"molecule_pref_name\")\n",
    "print(\"\\nDataFrame with matches between approved MM drugs and drugs associated with our genes of interest:\")\n",
    "df_coincidencias_MM\n",
    "df_coincidencias_cancer = pd.merge(df_no_coincidencias_final_cancer, df_buenos_drugs, left_on=\"pref_name\", right_on=\"molecule_pref_name\")\n",
    "print(\"\\nDataFrame with matches between approved cáncer drugs and drugs associated with our genes of interest:\")\n",
    "df_coincidencias_cancer"
   ]
  },
  {
   "cell_type": "markdown",
   "metadata": {},
   "source": [
    "**The next step will be to analyse how the reactions that emerge as new MCS affect the rest of the tissues and lines**\n",
    "\n",
    "- To do this, we are going to load all the MCS of MM lines, since we only had the MCS of healthy tissues loaded.\n",
    "- Next, we are going to generate two dictionaries where we will store the number of MM models affected and in another one the name of those affected."
   ]
  },
  {
   "cell_type": "markdown",
   "metadata": {},
   "source": [
    "**Target studies (MCSs that affect MM lines)**\n",
    "- modelsMMAffected[r.id] : list of MM lines affected by some MCSs\n",
    "- numberMMAffectedModels[r.id]: list with the number of toxicities MM lines\n",
    "- Level1,..., Level5: level of scope MM\n",
    "- generic: MCS of the base model\n",
    "- someModelMM: MCSs which block some line\n",
    "- specificMM: MCSs which block some line and are not generic"
   ]
  },
  {
   "cell_type": "code",
   "execution_count": 37,
   "metadata": {},
   "outputs": [],
   "source": [
    "for nombre in nombresMM:\n",
    "    nombre=nombre[:len(nombre)-7]\n",
    "    with open(\"/home/alumno15/MCS/MM/\"+nombre+\"MCS.dat\",\"rb\") as f:\n",
    "        MCS=pickle.load(f)\n",
    "    todos=set()\n",
    "    for task in range(57):\n",
    "        todos.update(MCS[task][0])\n",
    "    ByTask=[set()]\n",
    "    for task in range(57):\n",
    "        ByTask.append(MCS[task][0])\n",
    "    MCSByTask[nombre]=ByTask\n",
    "    MCSAllTasks[nombre]=todos"
   ]
  },
  {
   "cell_type": "code",
   "execution_count": 38,
   "metadata": {},
   "outputs": [
    {
     "name": "stdout",
     "output_type": "stream",
     "text": [
      "Number of MCSs in some MM line model: 972\n"
     ]
    }
   ],
   "source": [
    "algunModeloMM=set()\n",
    "for i in range(31,49):\n",
    "    especificasTask=MCSAllTasks[nombreModelo[i]]\n",
    "    algunModeloMM.update(especificasTask)\n",
    "print(\"Number of MCSs in some MM line model:\",len(algunModeloMM))"
   ]
  },
  {
   "cell_type": "code",
   "execution_count": 39,
   "metadata": {},
   "outputs": [
    {
     "name": "stdout",
     "output_type": "stream",
     "text": [
      "Number of MCSs specific to MM line models: 531\n"
     ]
    }
   ],
   "source": [
    "especificasMM=algunModeloMM.difference(genericas)\n",
    "print(\"Number of MCSs specific to MM line models:\",len(especificasMM))"
   ]
  },
  {
   "cell_type": "code",
   "execution_count": 40,
   "metadata": {},
   "outputs": [],
   "source": [
    "numeroModelosMMAfectados={}\n",
    "modelosMMAfectados={}\n",
    "for r in especificasMM:\n",
    "    afectados=set()\n",
    "    for i in range(31,49):\n",
    "        if r in MCSAllTasks[nombreModelo[i]]:\n",
    "            afectados.add(nombreModelo[i])\n",
    "    numeroModelosMMAfectados[r]=len(afectados)\n",
    "    modelosMMAfectados[r]=afectados\n",
    "    \n",
    "# Ampliamos modelosAfectados y numeroModelosAfectados para incluir estas\n",
    "for r in especificasMM:\n",
    "    if not r in modelosAfectados:\n",
    "        numeroModelosAfectados[r]=0\n",
    "        modelosAfectados[r]=set()"
   ]
  },
  {
   "cell_type": "markdown",
   "metadata": {},
   "source": [
    "**Analysis of subsystem reactions and how they affect models other than the one considered for the MMIS line**"
   ]
  },
  {
   "cell_type": "code",
   "execution_count": 41,
   "metadata": {},
   "outputs": [],
   "source": [
    "retinolNuevas=[\"MAR06662\",\"MAR06645\",\"MAR08710\"]"
   ]
  },
  {
   "cell_type": "code",
   "execution_count": 42,
   "metadata": {},
   "outputs": [
    {
     "name": "stdout",
     "output_type": "stream",
     "text": [
      "MAR06662 set()\n",
      "MAR06645 {'spleen', 'thyroid', 'esophagus', 'brain'}\n",
      "MAR08710 {'spleen', 'thyroid', 'esophagus', 'brain'}\n"
     ]
    }
   ],
   "source": [
    "for r in retinolNuevas:\n",
    "    print(r,modelosAfectados[r])"
   ]
  },
  {
   "cell_type": "code",
   "execution_count": 43,
   "metadata": {},
   "outputs": [
    {
     "name": "stdout",
     "output_type": "stream",
     "text": [
      "MAR06662 {'ACH_000588', 'ACH_000763', 'ACH_000829'}\n",
      "MAR06645 {'ACH_000363', 'ACH_000576', 'ACH_000714', 'ACH_000512', 'ACH_000838', 'ACH_000889', 'ACH_000183', 'ACH_000763'}\n",
      "MAR08710 {'ACH_000363', 'ACH_000576', 'ACH_000714', 'ACH_000512', 'ACH_000838', 'ACH_000889', 'ACH_000183', 'ACH_000763'}\n"
     ]
    }
   ],
   "source": [
    "for r in retinolNuevas:\n",
    "    print(r,modelosMMAfectados[r])"
   ]
  },
  {
   "cell_type": "code",
   "execution_count": 44,
   "metadata": {},
   "outputs": [
    {
     "name": "stdout",
     "output_type": "stream",
     "text": [
      "MAR07708\n",
      "glyoxalate MAM02007c\n",
      "glyoxalate MAM02007m\n",
      "\n",
      "MAR08009\n",
      "calcidiol MAM01415c\n",
      "calcidiol MAM01415m\n",
      "\n",
      "MAR04922\n",
      "CO2 MAM01596c\n",
      "CO2 MAM01596m\n",
      "\n",
      "MAR02299\n",
      "tyrosine MAM03101c\n",
      "tyrosine MAM03101m\n",
      "\n"
     ]
    }
   ],
   "source": [
    "transporteNuevas=set([\"MAR07708\",\"MAR08009\",\"MAR02299\",\"MAR04922\"])\n",
    "for r in transporteNuevas:\n",
    "    print(r)\n",
    "    reaccion=modeloBase.reactions.get_by_id(r)\n",
    "    for m in reaccion.metabolites:\n",
    "        print(m.name,m.id)\n",
    "    print()"
   ]
  },
  {
   "cell_type": "code",
   "execution_count": 45,
   "metadata": {},
   "outputs": [
    {
     "name": "stdout",
     "output_type": "stream",
     "text": [
      "MAR07708 set()\n",
      "MAR08009 set()\n",
      "MAR04922 set()\n",
      "MAR02299 {'blood_vessel', 'pancreas', 'heart'}\n"
     ]
    }
   ],
   "source": [
    "for r in transporteNuevas:\n",
    "    print(r,modelosAfectados[r])"
   ]
  },
  {
   "cell_type": "code",
   "execution_count": 46,
   "metadata": {},
   "outputs": [
    {
     "name": "stdout",
     "output_type": "stream",
     "text": [
      "MAR07708 5 0 \n",
      "MAR08009 8 0 \n",
      "MAR04922 7 0 \n",
      "MAR02299 6 3 \n"
     ]
    }
   ],
   "source": [
    "for r in transporteNuevas:\n",
    "    print(r,numeroModelosMMAfectados[r],numeroModelosAfectados[r],modeloBase.reactions.get_by_id(r).gene_reaction_rule)"
   ]
  },
  {
   "cell_type": "code",
   "execution_count": 47,
   "metadata": {},
   "outputs": [
    {
     "name": "stdout",
     "output_type": "stream",
     "text": [
      "MAR20111 5 0 ENSG00000125246\n",
      "{'ACH_000363', 'ACH_000426', 'ACH_000829', 'ACH_000889', 'ACH_000763'}\n"
     ]
    }
   ],
   "source": [
    "r=\"MAR20111\"\n",
    "print(r,numeroModelosMMAfectados[r],numeroModelosAfectados[r],modeloBase.reactions.get_by_id(r).gene_reaction_rule)\n",
    "print(modelosMMAfectados[r])"
   ]
  },
  {
   "cell_type": "code",
   "execution_count": 48,
   "metadata": {},
   "outputs": [
    {
     "name": "stdout",
     "output_type": "stream",
     "text": [
      "MAR07708 5 0 \n",
      "{'ACH_000363', 'ACH_000426', 'ACH_000829', 'ACH_000889', 'ACH_000763'}\n"
     ]
    }
   ],
   "source": [
    "r=\"MAR07708\"\n",
    "print(r,numeroModelosMMAfectados[r],numeroModelosAfectados[r],modeloBase.reactions.get_by_id(r).gene_reaction_rule)\n",
    "print(modelosMMAfectados[r])"
   ]
  },
  {
   "cell_type": "code",
   "execution_count": 49,
   "metadata": {},
   "outputs": [
    {
     "name": "stdout",
     "output_type": "stream",
     "text": [
      "MAR06464 5 4 ENSG00000171903 or ENSG00000171954 or ENSG00000186115 or ENSG00000186526 or ENSG00000186529\n",
      "{'ACH_000363', 'ACH_000821', 'ACH_000183', 'ACH_000763', 'ACH_000653'}\n",
      "{'esophagus', 'colon', 'heart', 'ovary'}\n"
     ]
    }
   ],
   "source": [
    "r=\"MAR06464\"\n",
    "print(r,numeroModelosMMAfectados[r],numeroModelosAfectados[r],modeloBase.reactions.get_by_id(r).gene_reaction_rule)\n",
    "print(modelosMMAfectados[r])\n",
    "print(modelosAfectados[r])"
   ]
  },
  {
   "cell_type": "code",
   "execution_count": 50,
   "metadata": {},
   "outputs": [
    {
     "name": "stdout",
     "output_type": "stream",
     "text": [
      "MAR06466 5 4 ENSG00000171903 or ENSG00000171954 or ENSG00000186115 or ENSG00000186526 or ENSG00000186529\n",
      "{'ACH_000363', 'ACH_000821', 'ACH_000183', 'ACH_000763', 'ACH_000653'}\n",
      "{'esophagus', 'colon', 'heart', 'ovary'}\n"
     ]
    }
   ],
   "source": [
    "r=\"MAR06466\"\n",
    "print(r,numeroModelosMMAfectados[r],numeroModelosAfectados[r],modeloBase.reactions.get_by_id(r).gene_reaction_rule)\n",
    "print(modelosMMAfectados[r])\n",
    "print(modelosAfectados[r])"
   ]
  },
  {
   "cell_type": "code",
   "execution_count": 51,
   "metadata": {},
   "outputs": [
    {
     "name": "stdout",
     "output_type": "stream",
     "text": [
      "MAR07702 5 0 ENSG00000137106\n",
      "{'ACH_000363', 'ACH_000426', 'ACH_000829', 'ACH_000889', 'ACH_000763'}\n",
      "set()\n"
     ]
    }
   ],
   "source": [
    "r=\"MAR07702\"\n",
    "print(r,numeroModelosMMAfectados[r],numeroModelosAfectados[r],modeloBase.reactions.get_by_id(r).gene_reaction_rule)\n",
    "print(modelosMMAfectados[r])\n",
    "print(modelosAfectados[r])"
   ]
  }
 ],
 "metadata": {
  "kernelspec": {
   "display_name": "Python3.6",
   "language": "python",
   "name": "python3.6"
  },
  "language_info": {
   "codemirror_mode": {
    "name": "ipython",
    "version": 3
   },
   "file_extension": ".py",
   "mimetype": "text/x-python",
   "name": "python",
   "nbconvert_exporter": "python",
   "pygments_lexer": "ipython3",
   "version": "3.6.8"
  }
 },
 "nbformat": 4,
 "nbformat_minor": 4
}
