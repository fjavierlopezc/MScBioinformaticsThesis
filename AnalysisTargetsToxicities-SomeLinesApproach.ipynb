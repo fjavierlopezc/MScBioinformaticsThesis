{
 "cells": [
  {
   "cell_type": "markdown",
   "metadata": {},
   "source": [
    "At first, we load **libraries with functions needed for analysis** (cobra), dataframe and graph generation, as well as requests for access to open APIs."
   ]
  },
  {
   "cell_type": "code",
   "execution_count": 2,
   "metadata": {},
   "outputs": [
    {
     "name": "stderr",
     "output_type": "stream",
     "text": [
      "GUROBI is available but could not load with error:\n",
      "  Traceback (most recent call last):\n",
      "    File \"/usr/local/lib/python3.6/site-packages/optlang/gurobi_interface.py\", line 40, in <module>\n",
      "      raise RuntimeError()\n",
      "  RuntimeError\n",
      "  \n",
      "  During handling of the above exception, another exception occurred:\n",
      "  \n",
      "  Traceback (most recent call last):\n",
      "    File \"/usr/local/lib/python3.6/site-packages/optlang/__init__.py\", line 49, in <module>\n",
      "      from optlang import gurobi_interface\n",
      "    File \"/usr/local/lib/python3.6/site-packages/optlang/gurobi_interface.py\", line 43, in <module>\n",
      "      \"This version of optlang requires a Gurobi version of 9.5 or above.\")\n",
      "  RuntimeError: This version of optlang requires a Gurobi version of 9.5 or above.\n"
     ]
    }
   ],
   "source": [
    "import cobra\n",
    "cobra.Configuration().solver='cplex'\n",
    "import os\n",
    "import pickle\n",
    "import pandas as pd\n",
    "import matplotlib.pyplot as plt\n",
    "import mygene\n",
    "import requests, sys\n",
    "from Bio import Entrez\n",
    "from chembl_webresource_client.new_client import new_client"
   ]
  },
  {
   "cell_type": "markdown",
   "metadata": {},
   "source": [
    "**Loading reaction and model data and information**\n",
    "- namesBase, namesMM, namesTissues\n",
    "- Remove the last 7 letters: name = name[:len(name)-7].\n",
    "- Names is a list of all 49 names\n",
    "- Two dictionaries: indexModel[model], modelName[index], modelName[index].\n",
    "- modelBase : generic model Human-GEM\n",
    "- myGroup[r.id] : name of the subsystem it belongs to\n",
    "- reactionsIncluded[model] : ids of the reactions of the model"
   ]
  },
  {
   "cell_type": "code",
   "execution_count": 3,
   "metadata": {},
   "outputs": [],
   "source": [
    "nombresBase=os.listdir(\"/home/alumno15/modelos/base/\")\n",
    "nombresTejidos=os.listdir(\"/home/alumno15/modelos/tejidos/\")\n",
    "nombresMM=os.listdir(\"/home/alumno15/modelos/MM/\")"
   ]
  },
  {
   "cell_type": "code",
   "execution_count": 4,
   "metadata": {},
   "outputs": [],
   "source": [
    "nombres=[]\n",
    "for nombre in nombresBase:\n",
    "    if nombre.endswith(\".dat\"):\n",
    "        nombres.append(nombre[:len(nombre)-4])\n",
    "for nombre in nombresTejidos:\n",
    "    if nombre.endswith(\".dat\"):\n",
    "        nombres.append(nombre[:len(nombre)-4])\n",
    "for nombre in nombresMM:\n",
    "    if nombre.endswith(\".dat\"):\n",
    "        nombres.append(nombre[:len(nombre)-4])"
   ]
  },
  {
   "cell_type": "code",
   "execution_count": 5,
   "metadata": {},
   "outputs": [
    {
     "name": "stdout",
     "output_type": "stream",
     "text": [
      "Human-GEM\n",
      "adipose_tissue\n",
      "adrenal_gland\n",
      "bladder\n",
      "blood\n",
      "blood_vessel\n",
      "brain\n",
      "breast\n",
      "colon\n",
      "esophagus\n",
      "heart\n",
      "lung\n",
      "kidney\n",
      "muscle\n",
      "nerve\n",
      "pancreas\n",
      "pituitary\n",
      "small_intestine\n",
      "stomach\n",
      "vagina\n",
      "prostate\n",
      "skin\n",
      "testis\n",
      "thyroid\n",
      "uterus\n",
      "cervix_uteri\n",
      "fallopian_tube\n",
      "liver\n",
      "ovary\n",
      "salivary_gland\n",
      "spleen\n",
      "ACH_000838\n",
      "ACH_000889\n",
      "ACH_000512\n",
      "ACH_000426\n",
      "ACH_000436\n",
      "ACH_000363\n",
      "ACH_000183\n",
      "ACH_000204\n",
      "ACH_000541\n",
      "ACH_000576\n",
      "ACH_000588\n",
      "ACH_000653\n",
      "ACH_000714\n",
      "ACH_000658\n",
      "ACH_000763\n",
      "ACH_000817\n",
      "ACH_000821\n",
      "ACH_000829\n"
     ]
    }
   ],
   "source": [
    "for nombre in nombres:\n",
    "    print(nombre)"
   ]
  },
  {
   "cell_type": "code",
   "execution_count": 6,
   "metadata": {},
   "outputs": [],
   "source": [
    "nombreModelo={}\n",
    "indiceModelo={}\n",
    "for i,modelo in enumerate(nombres):\n",
    "    nombreModelo[i]=modelo\n",
    "    indiceModelo[modelo]=i"
   ]
  },
  {
   "cell_type": "code",
   "execution_count": 7,
   "metadata": {},
   "outputs": [],
   "source": [
    "with open(\"/home/alumno15/modelos/base/Human-GEM.dat\",\"rb\") as f:\n",
    "    modeloBase=pickle.load(f)"
   ]
  },
  {
   "cell_type": "code",
   "execution_count": 8,
   "metadata": {},
   "outputs": [
    {
     "name": "stdout",
     "output_type": "stream",
     "text": [
      "Human1 19.0 version model contains: 12995 reactions, 8456 metabolites and 2889 genes\n"
     ]
    }
   ],
   "source": [
    "print(\"Human1 19.0 version model contains:\", len(modeloBase.reactions),\"reactions,\", \n",
    "      len(modeloBase.metabolites),\"metabolites and\",len(modeloBase.genes),\"genes\")"
   ]
  },
  {
   "cell_type": "code",
   "execution_count": 9,
   "metadata": {},
   "outputs": [
    {
     "name": "stdout",
     "output_type": "stream",
     "text": [
      "Human1 19.0 version model contains: 148 metabolic subsystems\n"
     ]
    }
   ],
   "source": [
    "print(\"Human1 19.0 version model contains:\", len(modeloBase.groups),\"metabolic subsystems\")"
   ]
  },
  {
   "cell_type": "code",
   "execution_count": 10,
   "metadata": {},
   "outputs": [
    {
     "name": "stdout",
     "output_type": "stream",
     "text": [
      " Arachidonic acid metabolism\n",
      "Acyl-CoA hydrolysis\n",
      "Acylglycerides metabolism\n",
      "Alanine, aspartate and glutamate metabolism\n",
      "Alkaloids biosynthesis\n",
      "Amino sugar and nucleotide sugar metabolism\n",
      "Aminoacyl-tRNA biosynthesis\n",
      "Androgen metabolism\n",
      "Arachidonic acid metabolism\n",
      "Arginine and proline metabolism\n",
      "Artificial reactions\n",
      "Ascorbate and aldarate metabolism\n",
      "Beta oxidation of branched-chain fatty acids (mitochondrial)\n",
      "Beta oxidation of di-unsaturated fatty acids (n-6) (mitochondrial)\n",
      "Beta oxidation of di-unsaturated fatty acids (n-6) (peroxisomal)\n",
      "Beta oxidation of even-chain fatty acids (mitochondrial)\n",
      "Beta oxidation of even-chain fatty acids (peroxisomal)\n",
      "Beta oxidation of odd-chain fatty acids (mitochondrial)\n",
      "Beta oxidation of odd-chain fatty acids (peroxisomal)\n",
      "Beta oxidation of phytanic acid (peroxisomal)\n",
      "Beta oxidation of poly-unsaturated fatty acids (mitochondrial)\n",
      "Beta oxidation of unsaturated fatty acids (n-7) (mitochondrial)\n",
      "Beta oxidation of unsaturated fatty acids (n-7) (peroxisomal)\n",
      "Beta oxidation of unsaturated fatty acids (n-9) (mitochondrial)\n",
      "Beta oxidation of unsaturated fatty acids (n-9) (peroxisomal)\n",
      "Beta-alanine metabolism\n",
      "Bile acid biosynthesis\n",
      "Bile acid recycling\n",
      "Biopterin metabolism\n",
      "Biotin metabolism\n",
      "Blood group biosynthesis\n",
      "Butanoate metabolism\n",
      "C5-branched dibasic acid metabolism\n",
      "Carnitine shuttle (cytosolic)\n",
      "Carnitine shuttle (endoplasmic reticular)\n",
      "Carnitine shuttle (mitochondrial)\n",
      "Carnitine shuttle (peroxisomal)\n",
      "Cholesterol biosynthesis 1 (Bloch pathway)\n",
      "Cholesterol biosynthesis 2\n",
      "Cholesterol biosynthesis 3 (Kandustch-Russell pathway)\n",
      "Cholesterol metabolism\n",
      "Chondroitin / heparan sulfate biosynthesis\n",
      "Chondroitin sulfate degradation\n",
      "Cysteine and methionine metabolism\n",
      "Dietary fiber binding\n",
      "Drug metabolism\n",
      "Eicosanoid metabolism\n",
      "Estrogen metabolism\n",
      "Ether lipid metabolism\n",
      "Exchange/demand reactions\n",
      "Fatty acid activation (cytosolic)\n",
      "Fatty acid activation (endoplasmic reticular)\n",
      "Fatty acid biosynthesis\n",
      "Fatty acid biosynthesis (even-chain)\n",
      "Fatty acid biosynthesis (odd-chain)\n",
      "Fatty acid biosynthesis (unsaturated)\n",
      "Fatty acid degradation\n",
      "Fatty acid desaturation (even-chain)\n",
      "Fatty acid desaturation (odd-chain)\n",
      "Fatty acid elongation (even-chain)\n",
      "Fatty acid elongation (odd-chain)\n",
      "Fatty acid metabolism\n",
      "Fatty acid oxidation\n",
      "Folate metabolism\n",
      "Formation and hydrolysis of cholesterol esters\n",
      "Fructose and mannose metabolism\n",
      "Galactose metabolism\n",
      "Glucocorticoid biosynthesis\n",
      "Glutathione metabolism\n",
      "Glycerolipid metabolism\n",
      "Glycerophospholipid metabolism\n",
      "Glycine, serine and threonine metabolism\n",
      "Glycolysis / Gluconeogenesis\n",
      "Glycosphingolipid biosynthesis-ganglio series\n",
      "Glycosphingolipid biosynthesis-globo series\n",
      "Glycosphingolipid biosynthesis-lacto and neolacto series\n",
      "Glycosphingolipid metabolism\n",
      "Glycosylphosphatidylinositol (GPI)-anchor biosynthesis\n",
      "Glyoxylate and dicarboxylate metabolism\n",
      "Heme degradation\n",
      "Heparan sulfate degradation\n",
      "Hippurate metabolism\n",
      "Histidine metabolism\n",
      "Inositol phosphate metabolism\n",
      "Insect hormone biosynthesis\n",
      "Isolated\n",
      "Keratan sulfate biosynthesis\n",
      "Keratan sulfate degradation\n",
      "Leukotriene metabolism\n",
      "Linoleate metabolism\n",
      "Lipoic acid metabolism\n",
      "Lysine metabolism\n",
      "Metabolism of other amino acids\n",
      "Miscellaneous\n",
      "N-glycan metabolism\n",
      "Nicotinate and nicotinamide metabolism\n",
      "Nucleotide metabolism\n",
      "O-glycan metabolism\n",
      "Omega-3 fatty acid metabolism\n",
      "Omega-6 fatty acid metabolism\n",
      "Oxidative phosphorylation\n",
      "Pantothenate and CoA metabolism\n",
      "Pentose Phosphate Pathway\n",
      "Pentose and glucuronate interconversions\n",
      "Pentose phosphate pathway\n",
      "Peptide metabolism\n",
      "Phenylalanine metabolism\n",
      "Phenylalanine, tyrosine and tryptophan biosynthesis\n",
      "Phosphatidylinositol phosphate metabolism\n",
      "Pool reactions\n",
      "Porphyrin metabolism\n",
      "Propanoate metabolism\n",
      "Prostaglandin biosynthesis\n",
      "Protein assembly\n",
      "Protein degradation\n",
      "Protein modification\n",
      "Purine metabolism\n",
      "Pyrimidine metabolism\n",
      "Pyruvate metabolism\n",
      "ROS detoxification\n",
      "Retinol metabolism\n",
      "Riboflavin metabolism\n",
      "Serotonin and melatonin biosynthesis\n",
      "Sphingolipid metabolism\n",
      "Starch and sucrose metabolism\n",
      "Steroid metabolism\n",
      "Sulfur metabolism\n",
      "Terpenoid backbone biosynthesis\n",
      "Thiamine metabolism\n",
      "Toluene degradation\n",
      "Transport reactions\n",
      "Triacylglycerol synthesis\n",
      "Tricarboxylic acid cycle and glyoxylate/dicarboxylate metabolism\n",
      "Tryptophan metabolism\n",
      "Tyrosine metabolism\n",
      "Ubiquinone and other terpenoid-quinone biosynthesis\n",
      "Ubiquinone synthesis\n",
      "Urea cycle\n",
      "Valine, leucine, and isoleucine metabolism\n",
      "Vitamin A metabolism\n",
      "Vitamin B12 metabolism\n",
      "Vitamin B2 metabolism\n",
      "Vitamin B6 metabolism\n",
      "Vitamin C metabolism\n",
      "Vitamin D metabolism\n",
      "Vitamin E metabolism\n",
      "Xenobiotics metabolism\n",
      "octane oxidation\n"
     ]
    }
   ],
   "source": [
    "for group in modeloBase.groups:\n",
    "    print(group.name)"
   ]
  },
  {
   "cell_type": "code",
   "execution_count": 11,
   "metadata": {},
   "outputs": [],
   "source": [
    "miGrupo={}\n",
    "for group in modeloBase.groups:\n",
    "    for r in group.members:\n",
    "        miGrupo[r.id]=group.name"
   ]
  },
  {
   "cell_type": "code",
   "execution_count": 12,
   "metadata": {},
   "outputs": [],
   "source": [
    "'''\n",
    "reaccionesIncluidas={}\n",
    "for nombre in nombresMM:\n",
    "    nombre=nombre[:len(nombre)-7]\n",
    "    with open(\"/home/alumno15/modelos/MM/\"+nombre+\".dat\",\"rb\") as f:\n",
    "        modelo=pickle.load(f)\n",
    "    reaccionesIncluidas[nombre]=set([r.id for r in modelo.reactions])\n",
    "for nombre in nombresTejidos:\n",
    "    nombre=nombre[:len(nombre)-7]\n",
    "    with open(\"/home/alumno15/modelos/tejidos/\"+nombre+\".dat\",\"rb\") as f:\n",
    "        modelo=pickle.load(f)\n",
    "    reaccionesIncluidas[nombre]=set([r.id for r in modelo.reactions])\n",
    "\n",
    "with open(\"reaccionesIncluidas.dat\",\"wb\") as f:\n",
    "    pickle.dump(reaccionesIncluidas,f)\n",
    "'''\n",
    "\n",
    "with open(\"reaccionesIncluidas.dat\",\"rb\") as f:\n",
    "    reaccionesIncluidas = pickle.load(f)"
   ]
  },
  {
   "cell_type": "markdown",
   "metadata": {},
   "source": [
    "**Tools to analyse MCS**\n",
    "- MCSByTask [model] [task]: dictionary storing MCS of all models classified by metabolic task\n",
    "- MCSAllTasks [model]: dictionary storing all MCSs of all models without distinguishing by metabolic task"
   ]
  },
  {
   "cell_type": "code",
   "execution_count": 13,
   "metadata": {},
   "outputs": [],
   "source": [
    "MCSByTask={}\n",
    "MCSAllTasks={}\n",
    "\n",
    "for nombre in nombresBase:\n",
    "    if nombre.endswith(\".dat\"):\n",
    "        nombre=nombre[:len(nombre)-4]\n",
    "        with open(\"/home/alumno15/MCS/base/\"+nombre+\"MCS.dat\",\"rb\") as f:\n",
    "            MCS=pickle.load(f)\n",
    "        todos=set()\n",
    "        for task in range(57):\n",
    "            todos.update(MCS[task][0])\n",
    "        ByTask=[set()]\n",
    "        for task in range(57):\n",
    "            ByTask.append(MCS[task][0])\n",
    "        MCSByTask[nombre]=ByTask\n",
    "        MCSAllTasks[nombre]=todos \n",
    "    \n",
    "for nombre in nombresTejidos:\n",
    "    if nombre.endswith(\".dat\"):\n",
    "        nombre=nombre[:len(nombre)-4]\n",
    "        with open(\"/home/alumno15/MCS/tejidos/\"+nombre+\"MCS.dat\",\"rb\") as f:\n",
    "            MCS=pickle.load(f)\n",
    "        todos=set()\n",
    "        for task in range(57):\n",
    "            todos.update(MCS[task][0])\n",
    "        ByTask=[set()]\n",
    "        for task in range(57):\n",
    "            ByTask.append(MCS[task][0])\n",
    "        MCSByTask[nombre]=ByTask\n",
    "        MCSAllTasks[nombre]=todos\n",
    "    \n",
    "for nombre in nombresMM:\n",
    "    if nombre.endswith(\".dat\"):\n",
    "        nombre=nombre[:len(nombre)-4]\n",
    "        with open(\"/home/alumno15/MCS/MM/\"+nombre+\"MCS.dat\",\"rb\") as f:\n",
    "            MCS=pickle.load(f)\n",
    "        todos=set()\n",
    "        for task in range(57):\n",
    "            todos.update(MCS[task][0])\n",
    "        ByTask=[set()]\n",
    "        for task in range(57):\n",
    "            ByTask.append(MCS[task][0])\n",
    "        MCSByTask[nombre]=ByTask\n",
    "        MCSAllTasks[nombre]=todos"
   ]
  },
  {
   "cell_type": "markdown",
   "metadata": {},
   "source": [
    "**MCSs results for each model, first base model (Human-GEM), then healthy tissues and then MM lines**"
   ]
  },
  {
   "cell_type": "markdown",
   "metadata": {},
   "source": [
    "tasksUsadas=set()\n",
    "tasks={}\n",
    "for i in range(0,1):\n",
    "    reactions=[r for r in MCSAllTasks[nombreModelo[i]] if r.startswith(\"MAR\")]\n",
    "    tasks[nombreModelo[i]]={}\n",
    "    for reaction in reactions:\n",
    "        tasks[nombreModelo[i]][reaction]=set()\n",
    "        for task in range(58):\n",
    "            if reaction in MCSByTask[nombreModelo[i]][task]:\n",
    "                tasks[nombreModelo[i]][reaction].add(task)\n",
    "                tasksUsadas.add(task)\n",
    "        print(nombreModelo[i],reaction,tasks[nombreModelo[i]][reaction])\n",
    "    tasksUsadas=list(tasksUsadas)\n",
    "    tasksUsadas.sort()\n",
    "    print(\"Model:\",nombreModelo[i],\"|\",\"Total MCS:\",len(MCSAllTasks[nombreModelo[i]]),\"|\",\"Tasks:\",tasksUsadas)"
   ]
  },
  {
   "cell_type": "markdown",
   "metadata": {},
   "source": [
    "comunes=set()\n",
    "for reaccion in reactions:\n",
    "    if len(tasks[nombreModelo[0]][reaccion])>10:\n",
    "        comunes.add(reaccion)"
   ]
  },
  {
   "cell_type": "markdown",
   "metadata": {},
   "source": [
    "for r in comunes:\n",
    "    reaccion=modeloBase.reactions.get_by_id(r)\n",
    "    print(reaccion,len(tasks[nombreModelo[0]][r]))\n",
    "    for m in reaccion.metabolites:\n",
    "        print(m.name)\n",
    "    print()"
   ]
  },
  {
   "cell_type": "markdown",
   "metadata": {},
   "source": [
    "entradasComunes=set(r for r in comunes if len(modeloBase.reactions.get_by_id(r).metabolites)<=2)\n",
    "len(entradasComunes)"
   ]
  },
  {
   "cell_type": "markdown",
   "metadata": {},
   "source": [
    "tasksUsadas=set()\n",
    "tasks={}\n",
    "for i in range(0,1):\n",
    "    reactions=[r for r in MCSAllTasks[nombreModelo[i]] if r.startswith(\"MAR\")]\n",
    "    tasks[nombreModelo[i]]={}\n",
    "    for reaction in set(reactions).difference(entradasComunes):\n",
    "        tasks[nombreModelo[i]][reaction]=set()\n",
    "        for task in range(58):\n",
    "            if reaction in MCSByTask[nombreModelo[i]][task]:\n",
    "                tasks[nombreModelo[i]][reaction].add(task)\n",
    "                tasksUsadas.add(task)\n",
    "        print(reaction,nombreModelo[i],tasks[nombreModelo[i]][reaction])\n",
    "    tasksUsadas=list(tasksUsadas)\n",
    "    tasksUsadas.sort()\n",
    "    print(\"Model:\",nombreModelo[i],\"|\",\"Total MCS:\",len(MCSAllTasks[nombreModelo[i]]),\"|\",\"Tasks:\",tasksUsadas)"
   ]
  },
  {
   "cell_type": "code",
   "execution_count": 14,
   "metadata": {},
   "outputs": [
    {
     "name": "stdout",
     "output_type": "stream",
     "text": [
      "Number of MCSs in the generic model: 441\n"
     ]
    }
   ],
   "source": [
    "genericas=MCSAllTasks[nombreModelo[0]]\n",
    "print(\"Number of MCSs in the generic model:\",len(genericas))"
   ]
  },
  {
   "cell_type": "code",
   "execution_count": 15,
   "metadata": {},
   "outputs": [
    {
     "name": "stdout",
     "output_type": "stream",
     "text": [
      "Model: adipose_tissue | Total MCS: 638 | 197\n",
      "Model: adrenal_gland | Total MCS: 612 | 171\n",
      "Model: bladder | Total MCS: 664 | 223\n",
      "Model: blood | Total MCS: 637 | 196\n",
      "Model: blood_vessel | Total MCS: 682 | 241\n",
      "Model: brain | Total MCS: 646 | 205\n",
      "Model: breast | Total MCS: 715 | 274\n",
      "Model: colon | Total MCS: 623 | 182\n",
      "Model: esophagus | Total MCS: 642 | 201\n",
      "Model: heart | Total MCS: 626 | 185\n",
      "Model: lung | Total MCS: 671 | 230\n",
      "Model: kidney | Total MCS: 657 | 216\n",
      "Model: muscle | Total MCS: 717 | 276\n",
      "Model: nerve | Total MCS: 680 | 239\n",
      "Model: pancreas | Total MCS: 598 | 157\n",
      "Model: pituitary | Total MCS: 628 | 187\n",
      "Model: small_intestine | Total MCS: 595 | 154\n",
      "Model: stomach | Total MCS: 612 | 171\n",
      "Model: vagina | Total MCS: 698 | 257\n",
      "Model: prostate | Total MCS: 635 | 194\n",
      "Model: skin | Total MCS: 688 | 247\n",
      "Model: testis | Total MCS: 612 | 171\n",
      "Model: thyroid | Total MCS: 667 | 226\n",
      "Model: uterus | Total MCS: 729 | 288\n",
      "Model: cervix_uteri | Total MCS: 654 | 213\n",
      "Model: fallopian_tube | Total MCS: 716 | 275\n",
      "Model: liver | Total MCS: 626 | 185\n",
      "Model: ovary | Total MCS: 655 | 214\n",
      "Model: salivary_gland | Total MCS: 664 | 223\n",
      "Model: spleen | Total MCS: 687 | 246\n"
     ]
    }
   ],
   "source": [
    "for i in range(1,31):\n",
    "    MCS_tissues=MCSAllTasks[nombreModelo[i]]\n",
    "    print(\"Model:\",nombreModelo[i],\"|\",\"Total MCS:\",len(MCS_tissues),\"|\",len(MCS_tissues.difference(genericas)))"
   ]
  },
  {
   "cell_type": "code",
   "execution_count": 16,
   "metadata": {},
   "outputs": [
    {
     "name": "stdout",
     "output_type": "stream",
     "text": [
      "Model: ACH_000838 | Total MCS: 784 | 343\n",
      "Model: ACH_000889 | Total MCS: 702 | 261\n",
      "Model: ACH_000512 | Total MCS: 710 | 269\n",
      "Model: ACH_000426 | Total MCS: 619 | 178\n",
      "Model: ACH_000436 | Total MCS: 677 | 236\n",
      "Model: ACH_000363 | Total MCS: 683 | 242\n",
      "Model: ACH_000183 | Total MCS: 711 | 270\n",
      "Model: ACH_000204 | Total MCS: 636 | 195\n",
      "Model: ACH_000541 | Total MCS: 670 | 229\n",
      "Model: ACH_000576 | Total MCS: 647 | 206\n",
      "Model: ACH_000588 | Total MCS: 676 | 235\n",
      "Model: ACH_000653 | Total MCS: 709 | 268\n",
      "Model: ACH_000714 | Total MCS: 643 | 202\n",
      "Model: ACH_000658 | Total MCS: 670 | 229\n",
      "Model: ACH_000763 | Total MCS: 680 | 239\n",
      "Model: ACH_000817 | Total MCS: 713 | 272\n",
      "Model: ACH_000821 | Total MCS: 620 | 179\n",
      "Model: ACH_000829 | Total MCS: 663 | 222\n"
     ]
    }
   ],
   "source": [
    "for i in range(31,49):\n",
    "    MCS_MMlines=MCSAllTasks[nombreModelo[i]]\n",
    "    print(\"Model:\",nombreModelo[i],\"|\",\"Total MCS:\",len(MCS_MMlines),\"|\",len(MCS_MMlines.difference(genericas)))"
   ]
  },
  {
   "cell_type": "markdown",
   "metadata": {},
   "source": [
    "**Toxicity studies (MCSs that affect healthy tissues)**\n",
    "- modelsAffected[r.id] : list of tissues affected by some MCSs\n",
    "- numeroModelosAfectados[r.id] : list of the ‘number’ of tissues affected by some MCSs\n",
    "- Level1,..., Level5: toxicity levels\n",
    "- generic: MCS of the base model\n",
    "- someModel: MCSs which block some tissue\n",
    "- specific: MCSs which block some tissue and are not generic"
   ]
  },
  {
   "cell_type": "code",
   "execution_count": 17,
   "metadata": {},
   "outputs": [
    {
     "name": "stdout",
     "output_type": "stream",
     "text": [
      "Number of MCSs in some healthy tissue model: 912\n"
     ]
    }
   ],
   "source": [
    "algunModelo=set()\n",
    "for i in range(1,31):\n",
    "    especificasTask=MCSAllTasks[nombreModelo[i]]\n",
    "    algunModelo.update(especificasTask)\n",
    "print(\"Number of MCSs in some healthy tissue model:\",len(algunModelo))"
   ]
  },
  {
   "cell_type": "code",
   "execution_count": 18,
   "metadata": {},
   "outputs": [
    {
     "name": "stdout",
     "output_type": "stream",
     "text": [
      "Number of MCSs specific to healthy tissue models: 471\n"
     ]
    }
   ],
   "source": [
    "especificas=algunModelo.difference(genericas)\n",
    "print(\"Number of MCSs specific to healthy tissue models:\",len(especificas))"
   ]
  },
  {
   "cell_type": "code",
   "execution_count": 19,
   "metadata": {},
   "outputs": [],
   "source": [
    "numeroModelosAfectados={}\n",
    "modelosAfectados={}\n",
    "for r in especificas:\n",
    "    afectados=set()\n",
    "    for i in range(1,31):\n",
    "        if r in MCSAllTasks[nombreModelo[i]]:\n",
    "            afectados.add(nombreModelo[i])\n",
    "    numeroModelosAfectados[r]=len(afectados)\n",
    "    modelosAfectados[r]=afectados"
   ]
  },
  {
   "cell_type": "code",
   "execution_count": 20,
   "metadata": {},
   "outputs": [
    {
     "name": "stdout",
     "output_type": "stream",
     "text": [
      "Model name ACH_000838 Total MCS 784 MCS low tox 26 MCS middle tox 40\n",
      "Model name ACH_000889 Total MCS 702 MCS low tox 15 MCS middle tox 28\n",
      "Model name ACH_000512 Total MCS 710 MCS low tox 36 MCS middle tox 55\n",
      "Model name ACH_000426 Total MCS 619 MCS low tox 13 MCS middle tox 27\n",
      "Model name ACH_000436 Total MCS 677 MCS low tox 10 MCS middle tox 24\n",
      "Model name ACH_000363 Total MCS 683 MCS low tox 26 MCS middle tox 76\n",
      "Model name ACH_000183 Total MCS 711 MCS low tox 33 MCS middle tox 51\n",
      "Model name ACH_000204 Total MCS 636 MCS low tox 13 MCS middle tox 29\n",
      "Model name ACH_000541 Total MCS 670 MCS low tox 6 MCS middle tox 19\n",
      "Model name ACH_000576 Total MCS 647 MCS low tox 15 MCS middle tox 33\n",
      "Model name ACH_000588 Total MCS 676 MCS low tox 8 MCS middle tox 22\n",
      "Model name ACH_000653 Total MCS 709 MCS low tox 16 MCS middle tox 43\n",
      "Model name ACH_000714 Total MCS 643 MCS low tox 19 MCS middle tox 32\n",
      "Model name ACH_000658 Total MCS 670 MCS low tox 9 MCS middle tox 23\n",
      "Model name ACH_000763 Total MCS 680 MCS low tox 8 MCS middle tox 27\n",
      "Model name ACH_000817 Total MCS 713 MCS low tox 26 MCS middle tox 43\n",
      "Model name ACH_000821 Total MCS 620 MCS low tox 5 MCS middle tox 23\n",
      "Model name ACH_000829 Total MCS 663 MCS low tox 32 MCS middle tox 47\n"
     ]
    }
   ],
   "source": [
    "Nivel1T=[r for r in numeroModelosAfectados if numeroModelosAfectados[r]<5]\n",
    "Nivel2T=[r for r in numeroModelosAfectados if numeroModelosAfectados[r]<10]\n",
    "for i in range(31,49):\n",
    "    buenosMM=MCSAllTasks[nombreModelo[i]].intersection(Nivel1T)\n",
    "    notanbuenosMM=MCSAllTasks[nombreModelo[i]].intersection(Nivel2T)\n",
    "    print(\"Model name\",nombreModelo[i],\"Total MCS\",len(MCSAllTasks[nombreModelo[i]]),\"MCS low tox\",len(buenosMM),\"MCS middle tox\",len(notanbuenosMM))"
   ]
  },
  {
   "cell_type": "code",
   "execution_count": 21,
   "metadata": {},
   "outputs": [],
   "source": [
    "todas=set([r.id for r in modeloBase.reactions])"
   ]
  },
  {
   "cell_type": "code",
   "execution_count": 22,
   "metadata": {},
   "outputs": [],
   "source": [
    "Nivel1T=[numeroModelosAfectados[r] for r in numeroModelosAfectados if numeroModelosAfectados[r]<5]\n",
    "Nivel2T=[numeroModelosAfectados[r] for r in numeroModelosAfectados if 5<=numeroModelosAfectados[r]<10]\n",
    "Nivel3T=[numeroModelosAfectados[r] for r in numeroModelosAfectados if 10<=numeroModelosAfectados[r]<19]\n",
    "Nivel4T=[numeroModelosAfectados[r] for r in numeroModelosAfectados if 20<=numeroModelosAfectados[r]<30]\n",
    "Nivel5T=[numeroModelosAfectados[r] for r in numeroModelosAfectados if numeroModelosAfectados[r]==30]"
   ]
  },
  {
   "cell_type": "code",
   "execution_count": 23,
   "metadata": {},
   "outputs": [
    {
     "name": "stdout",
     "output_type": "stream",
     "text": [
      "Nivel 0: 12093 mata 0 tejidos\n",
      "Nivel 1: 106 mata 1-4 tejidos\n",
      "Nivel 2: 95 mata 5-9 tejidos\n",
      "Nivel 3: 121 mata 10-19 tejidos\n",
      "Nivel 4: 53 mata 20-29 tejidos\n",
      "Nivel 5: 87 mata 30 tejidos\n"
     ]
    }
   ],
   "source": [
    "print(\"Nivel 0:\",len(todas.difference(genericas.union(especificas))), \"mata 0 tejidos\")\n",
    "print(\"Nivel 1:\",len(Nivel1T), \"mata 1-4 tejidos\")\n",
    "print(\"Nivel 2:\",len(Nivel2T), \"mata 5-9 tejidos\")\n",
    "print(\"Nivel 3:\",len(Nivel3T), \"mata 10-19 tejidos\")\n",
    "print(\"Nivel 4:\",len(Nivel4T), \"mata 20-29 tejidos\")\n",
    "print(\"Nivel 5:\",len(Nivel5T), \"mata 30 tejidos\")"
   ]
  },
  {
   "cell_type": "code",
   "execution_count": 24,
   "metadata": {},
   "outputs": [
    {
     "name": "stdout",
     "output_type": "stream",
     "text": [
      "     Nivel         Descripción  Cantidad\n",
      "0  Level 1    kill 1-4 tissues       106\n",
      "1  Level 2    kill 5-9 tissues        95\n",
      "2  Level 3  kill 10-19 tissues       121\n",
      "3  Level 4  kill 20-29 tissues        53\n",
      "4  Level 5     kill 30 tissues        87\n"
     ]
    },
    {
     "data": {
      "image/png": "[encoded data removed]",
      "text/plain": [
       "<Figure size 720x432 with 1 Axes>"
      ]
     },
     "metadata": {
      "needs_background": "light"
     },
     "output_type": "display_data"
    }
   ],
   "source": [
    "toxicitydata = {\n",
    "    \"Nivel\": [\"Level 1\", \"Level 2\", \"Level 3\", \"Level 4\", \"Level 5\"],\n",
    "    \"Descripción\": [\"kill 1-4 tissues\", \"kill 5-9 tissues\", \"kill 10-19 tissues\", \"kill 20-29 tissues\", \"kill 30 tissues\"],\n",
    "    \"Cantidad\": [\n",
    "        len(Nivel1T),\n",
    "        len(Nivel2T),\n",
    "        len(Nivel3T),\n",
    "        len(Nivel4T),\n",
    "        len(Nivel5T)\n",
    "    ]\n",
    "}\n",
    "\n",
    "df_tox = pd.DataFrame(toxicitydata)\n",
    "print(df_tox)\n",
    "colors = ['lightgreen', 'salmon', 'orange', 'purple', 'pink']\n",
    "\n",
    "plt.figure(figsize=(10, 6))\n",
    "bars = plt.bar(df_tox['Nivel'], df_tox['Cantidad'], color=colors)\n",
    "#Añadir leyenda\n",
    "for bar, desc in zip(bars, df_tox['Descripción']):\n",
    "    bar.set_label(desc)\n",
    "plt.legend(fontsize=12,loc='center left', bbox_to_anchor=(1, 0.5))\n",
    "\n",
    "plt.xlabel('Toxicity level',fontsize=14,labelpad=10)\n",
    "plt.ylabel('MCS amount',fontsize=14,labelpad=10)\n",
    "plt.title('Toxicity levels in terms of MCS number', fontweight='bold',fontsize=16)\n",
    "\n",
    "#Añadir etiquetas de cantidad encima de las barras\n",
    "for i, v in enumerate(df_tox['Cantidad']):\n",
    "    plt.text(i, v + 0.2, str(v), ha='center', va='bottom',fontsize=12)\n",
    "    \n",
    "plt.xticks(fontsize=12)\n",
    "plt.yticks(fontsize=12)\n",
    "\n",
    "\n",
    "plt.savefig(\"/home/alumno15/notebooks-tfm-javi/toxicity_levels_ajustada.png\", bbox_inches=\"tight\", dpi=300, pad_inches=0.1)\n",
    "plt.show()"
   ]
  },
  {
   "cell_type": "markdown",
   "metadata": {},
   "source": [
    "**Target studies (MCSs that affect MM lines)**\n",
    "- modelsMMAffected[r.id] : list of MM lines affected by some MCSs\n",
    "- numberMMAffectedModels[r.id]: list with the number of toxicities MM lines\n",
    "- Level1,..., Level5: level of scope MM\n",
    "- generic: MCS of the base model\n",
    "- someModelMM: MCSs which block some line\n",
    "- specificMM: MCSs which block some line and are not generic"
   ]
  },
  {
   "cell_type": "code",
   "execution_count": 25,
   "metadata": {},
   "outputs": [
    {
     "name": "stdout",
     "output_type": "stream",
     "text": [
      "Number of MCSs in some MM line model: 972\n"
     ]
    }
   ],
   "source": [
    "algunModeloMM=set()\n",
    "for i in range(31,49):\n",
    "    especificasTask=MCSAllTasks[nombreModelo[i]]\n",
    "    algunModeloMM.update(especificasTask)\n",
    "print(\"Number of MCSs in some MM line model:\",len(algunModeloMM))"
   ]
  },
  {
   "cell_type": "code",
   "execution_count": 26,
   "metadata": {},
   "outputs": [
    {
     "name": "stdout",
     "output_type": "stream",
     "text": [
      "Number of MCSs specific to MM line models: 531\n"
     ]
    }
   ],
   "source": [
    "especificasMM=algunModeloMM.difference(genericas)\n",
    "print(\"Number of MCSs specific to MM line models:\",len(especificasMM))"
   ]
  },
  {
   "cell_type": "code",
   "execution_count": 27,
   "metadata": {},
   "outputs": [],
   "source": [
    "numeroModelosMMAfectados={}\n",
    "modelosMMAfectados={}\n",
    "for r in especificasMM:\n",
    "    afectados=set()\n",
    "    for i in range(31,49):\n",
    "        if r in MCSAllTasks[nombreModelo[i]]:\n",
    "            afectados.add(nombreModelo[i])\n",
    "    numeroModelosMMAfectados[r]=len(afectados)\n",
    "    modelosMMAfectados[r]=afectados\n",
    "    \n",
    "# Ampliamos modelosAfectados y numeroModelosAfectados para incluir estas\n",
    "for r in especificasMM:\n",
    "    if not r in modelosAfectados:\n",
    "        numeroModelosAfectados[r]=0\n",
    "        modelosAfectados[r]=set()"
   ]
  },
  {
   "cell_type": "code",
   "execution_count": 28,
   "metadata": {},
   "outputs": [],
   "source": [
    "Nivel1M=[numeroModelosMMAfectados[r] for r in numeroModelosMMAfectados if numeroModelosMMAfectados[r]<5]\n",
    "Nivel2M=[numeroModelosMMAfectados[r] for r in numeroModelosMMAfectados if 5<=numeroModelosMMAfectados[r]<10]\n",
    "Nivel3M=[numeroModelosMMAfectados[r] for r in numeroModelosMMAfectados if 10<=numeroModelosMMAfectados[r]<18]\n",
    "Nivel4M=[numeroModelosMMAfectados[r] for r in numeroModelosMMAfectados if numeroModelosMMAfectados[r]==18]"
   ]
  },
  {
   "cell_type": "code",
   "execution_count": 29,
   "metadata": {},
   "outputs": [
    {
     "name": "stdout",
     "output_type": "stream",
     "text": [
      "Nivel 1: 237 mata < 5 líneas\n",
      "Nivel 2: 70 mata 5-9 líneas\n",
      "Nivel 3: 134 mata 10-17 líneas\n",
      "Nivel 4: 90 mata 18 líneas\n"
     ]
    }
   ],
   "source": [
    "print(\"Nivel 1:\",len(Nivel1M),\"mata < 5 líneas\")\n",
    "print(\"Nivel 2:\",len(Nivel2M),\"mata 5-9 líneas\")\n",
    "print(\"Nivel 3:\",len(Nivel3M),\"mata 10-17 líneas\")\n",
    "print(\"Nivel 4:\",len(Nivel4M),\"mata 18 líneas\")"
   ]
  },
  {
   "cell_type": "code",
   "execution_count": 30,
   "metadata": {},
   "outputs": [
    {
     "name": "stdout",
     "output_type": "stream",
     "text": [
      "     Nivel       Descripción  Cantidad\n",
      "0  Level 1    kill < 5 lines       237\n",
      "1  Level 2    kill 5-9 lines        70\n",
      "2  Level 3  kill 10-17 lines       134\n",
      "3  Level 4     kill 18 lines        90\n"
     ]
    },
    {
     "data": {
      "image/png": "[encoded data removed]",
      "text/plain": [
       "<Figure size 720x432 with 1 Axes>"
      ]
     },
     "metadata": {
      "needs_background": "light"
     },
     "output_type": "display_data"
    }
   ],
   "source": [
    "MMleveldata = {\n",
    "    \"Nivel\": [\"Level 1\", \"Level 2\", \"Level 3\", \"Level 4\"],\n",
    "    \"Descripción\": [\"kill < 5 lines\", \"kill 5-9 lines\", \"kill 10-17 lines\", \"kill 18 lines\"],\n",
    "    \"Cantidad\": [\n",
    "        len(Nivel1M),\n",
    "        len(Nivel2M),\n",
    "        len(Nivel3M),\n",
    "        len(Nivel4M)\n",
    "    ]\n",
    "}\n",
    "\n",
    "df_MM = pd.DataFrame(MMleveldata)\n",
    "print(df_MM)\n",
    "colors = ['skyblue', 'lightgreen', 'salmon', 'orange']\n",
    "\n",
    "plt.figure(figsize=(10, 6))\n",
    "bars = plt.bar(df_MM['Nivel'], df_MM['Cantidad'], color=colors)\n",
    "for bar, desc in zip(bars, df_MM['Descripción']):\n",
    "    bar.set_label(desc)\n",
    "plt.legend(fontsize=12,loc='center left', bbox_to_anchor=(1, 0.5))\n",
    "\n",
    "plt.xlabel('MM scope level',fontsize=14,labelpad=10)\n",
    "plt.ylabel('MCS amount',fontsize=14,labelpad=10)\n",
    "plt.title('MM scope in terms of MCS number', fontweight='bold',fontsize=16)\n",
    "\n",
    "for i, v in enumerate(df_MM['Cantidad']):\n",
    "    plt.text(i, v + 0.2, str(v), ha='center', va='bottom',fontsize=12)\n",
    "\n",
    "plt.xticks(fontsize=12)\n",
    "plt.yticks(fontsize=12)\n",
    "plt.savefig(\"/home/alumno15/notebooks-tfm-javi/MMscope_levels_ajustada.png\", bbox_inches=\"tight\", dpi=300, pad_inches=0.1)\n",
    "plt.show()"
   ]
  },
  {
   "cell_type": "markdown",
   "metadata": {},
   "source": [
    "**Target analysis for all or various lines**\n",
    "- general: block all lines\n",
    "- good: kill more than 10 lines and have less than 5 toxicities"
   ]
  },
  {
   "cell_type": "code",
   "execution_count": 31,
   "metadata": {},
   "outputs": [],
   "source": [
    "generales=set(r for r in numeroModelosMMAfectados if numeroModelosMMAfectados[r]==18)"
   ]
  },
  {
   "cell_type": "code",
   "execution_count": 32,
   "metadata": {},
   "outputs": [
    {
     "name": "stdout",
     "output_type": "stream",
     "text": [
      "MAR00361 29 healthy tissues affected\n",
      "MAR09064 24 healthy tissues affected\n",
      "MAR04894 18 healthy tissues affected\n",
      "MAR01437 27 healthy tissues affected\n",
      "MAR09378 25 healthy tissues affected\n",
      "MAR01506 25 healthy tissues affected\n",
      "MAR06636 25 healthy tissues affected\n",
      "MAR04969 25 healthy tissues affected\n",
      "MAR04059 17 healthy tissues affected\n",
      "MAR07794 29 healthy tissues affected\n",
      "MAR00313 29 healthy tissues affected\n",
      "MAR05127 25 healthy tissues affected\n",
      "MAR05128 25 healthy tissues affected\n",
      "MAR02960 28 healthy tissues affected\n",
      "MAR02993 28 healthy tissues affected\n",
      "MAR04954 28 healthy tissues affected\n",
      "\n",
      "Along with 74 almost generic toxicities\n"
     ]
    }
   ],
   "source": [
    "cont=0\n",
    "for r in generales:\n",
    "    if numeroModelosAfectados[r]<30:\n",
    "        print(r,numeroModelosAfectados[r], \"healthy tissues affected\")\n",
    "    else:\n",
    "        cont+=1\n",
    "print()\n",
    "print(\"Along with\",cont,\"almost generic toxicities\")"
   ]
  },
  {
   "cell_type": "markdown",
   "metadata": {},
   "source": [
    "Of the MCSs that kill less than 20 healthy tissues, we show IDs of those MCSs and which tissues they kill"
   ]
  },
  {
   "cell_type": "code",
   "execution_count": 33,
   "metadata": {},
   "outputs": [
    {
     "name": "stdout",
     "output_type": "stream",
     "text": [
      "MAR04894\n",
      "{'small_intestine', 'thyroid', 'salivary_gland', 'kidney', 'spleen', 'fallopian_tube', 'nerve', 'heart', 'colon', 'blood_vessel', 'adipose_tissue', 'esophagus', 'stomach', 'blood', 'bladder', 'skin', 'muscle', 'lung'}\n",
      "\n",
      "MAR04059\n",
      "{'thyroid', 'salivary_gland', 'kidney', 'spleen', 'uterus', 'testis', 'colon', 'cervix_uteri', 'liver', 'esophagus', 'brain', 'stomach', 'blood', 'bladder', 'ovary', 'muscle', 'lung'}\n",
      "\n"
     ]
    }
   ],
   "source": [
    "for r in generales:\n",
    "    if numeroModelosAfectados[r]<20:\n",
    "        print(r)\n",
    "        print(modelosAfectados[r])\n",
    "        print()\n",
    "        "
   ]
  },
  {
   "cell_type": "markdown",
   "metadata": {},
   "source": [
    "None of them seem interesting. We move on to common cut sets for many lines.\n",
    "We set as ‘good’ targets those that kill at most 5 different tissues and kill at least 10 MM lines."
   ]
  },
  {
   "cell_type": "code",
   "execution_count": 34,
   "metadata": {},
   "outputs": [
    {
     "name": "stdout",
     "output_type": "stream",
     "text": [
      "Good reactions: 7 kill at least 10 MM lines and not affect more than 5 healthy tissues\n"
     ]
    }
   ],
   "source": [
    "minLineasMieloma = 10\n",
    "maxLineasTejido=5\n",
    "\n",
    "buenos=[r for r in numeroModelosMMAfectados if numeroModelosMMAfectados[r]>=minLineasMieloma and ((not r in especificas) or numeroModelosAfectados[r]<= maxLineasTejido)]\n",
    "print(\"Good reactions:\",len(buenos),\"kill at least 10 MM lines and not affect more than 5 healthy tissues\")"
   ]
  },
  {
   "cell_type": "markdown",
   "metadata": {},
   "source": [
    "We obtain 7 reactions that comply with the filter and see how many toxicities are associated with each of them, how many lines they kill and the subsystem to which they belong."
   ]
  },
  {
   "cell_type": "code",
   "execution_count": 35,
   "metadata": {},
   "outputs": [
    {
     "name": "stdout",
     "output_type": "stream",
     "text": [
      "MAR06644 Toxicidades 1 Lineas MM mata 15 Grupo Retinol metabolism\n",
      "MAR04623 Toxicidades 0 Lineas MM mata 16 Grupo Pentose phosphate pathway\n",
      "MAR04473 Toxicidades 0 Lineas MM mata 14 Grupo Pentose phosphate pathway\n",
      "MAR06660 Toxicidades 1 Lineas MM mata 17 Grupo Retinol metabolism\n",
      "MAR06386 Toxicidades 0 Lineas MM mata 12 Grupo Transport reactions\n",
      "MAR08702 Toxicidades 1 Lineas MM mata 15 Grupo Retinol metabolism\n",
      "MAR02598 Toxicidades 0 Lineas MM mata 12 Grupo Carnitine shuttle (mitochondrial)\n"
     ]
    }
   ],
   "source": [
    "for r in buenos:\n",
    "    afecta=numeroModelosAfectados[r]\n",
    "    print(r,\"Toxicidades\",afecta,\"Lineas MM mata\",numeroModelosMMAfectados[r],\"Grupo\",miGrupo[r]) "
   ]
  },
  {
   "cell_type": "markdown",
   "metadata": {},
   "source": [
    "We show that all existing toxicities belong to the same subsystem: retinol metabolism."
   ]
  },
  {
   "cell_type": "code",
   "execution_count": 36,
   "metadata": {},
   "outputs": [
    {
     "name": "stdout",
     "output_type": "stream",
     "text": [
      "MAR06644 Retinol metabolism {'blood'}\n",
      "MAR06660 Retinol metabolism {'blood'}\n",
      "MAR08702 Retinol metabolism {'blood'}\n"
     ]
    }
   ],
   "source": [
    "for r in buenos:\n",
    "    if numeroModelosAfectados[r]>0:\n",
    "        print(r,miGrupo[r],modelosAfectados[r])"
   ]
  },
  {
   "cell_type": "markdown",
   "metadata": {},
   "source": [
    "**Remarks**\n",
    "- They seem interesting, they all have 1 or no toxicity, being always blood toxicity and always associated with reactions belonging to the retinol metabolism subsystem.\n",
    "- They all kill more than 12 MM lines and are dominated by the pentose phosphate pathway, retinal metabolism, carnitine metabolism at the mitochondrial level and a transport reaction containing glucose-6-phosphate and Pi as metabolites."
   ]
  },
  {
   "cell_type": "markdown",
   "metadata": {},
   "source": [
    "**Quality check of good MCSs**\n",
    "- We check that the fact that these 7 good reactions kill that number of MM lines is because they do and not because they are not present in the rest of the lines.\n",
    "  lines is because it really happens and not because they are not present in the rest of the lines.\n",
    "- We found two of them where it would probably be cutset of the 18, if they were in all lines."
   ]
  },
  {
   "cell_type": "code",
   "execution_count": 37,
   "metadata": {},
   "outputs": [
    {
     "name": "stdout",
     "output_type": "stream",
     "text": [
      "MAR06644 Retinol metabolism 15 15\n",
      "MAR04623 Pentose phosphate pathway 16 16\n",
      "MAR04473 Pentose phosphate pathway 14 14\n",
      "MAR06660 Retinol metabolism 17 18\n",
      "MAR06386 Transport reactions 12 18\n",
      "MAR08702 Retinol metabolism 15 18\n",
      "MAR02598 Carnitine shuttle (mitochondrial) 12 12\n"
     ]
    }
   ],
   "source": [
    "for r in buenos:\n",
    "    noContiene=set(nombre for nombre in nombres if \"ACH\" in nombre and not r in reaccionesIncluidas[nombre])\n",
    "    print(r,miGrupo[r],len(modelosMMAfectados[r]),len(modelosMMAfectados[r].union(noContiene)))"
   ]
  },
  {
   "cell_type": "markdown",
   "metadata": {},
   "source": [
    "**Is there a way to expand the number of lines we can kill without increasing the number of toxicities?**\n",
    "- We work with pairs of reactions, i.e. pairs formed by two good reactions."
   ]
  },
  {
   "cell_type": "code",
   "execution_count": 38,
   "metadata": {},
   "outputs": [
    {
     "name": "stdout",
     "output_type": "stream",
     "text": [
      "MAR04623 MAR06644 18\n",
      "Pentose phosphate pathway Retinol metabolism\n",
      "0 1\n",
      "\n",
      "MAR06660 MAR04623 18\n",
      "Retinol metabolism Pentose phosphate pathway\n",
      "1 0\n",
      "\n",
      "MAR06660 MAR04473 18\n",
      "Retinol metabolism Pentose phosphate pathway\n",
      "1 0\n",
      "\n",
      "MAR08702 MAR04623 18\n",
      "Retinol metabolism Pentose phosphate pathway\n",
      "1 0\n",
      "\n"
     ]
    }
   ],
   "source": [
    "for i,r1 in enumerate(buenos):\n",
    "    for j,r2 in enumerate(buenos):\n",
    "        if i>j:\n",
    "            matan=len(modelosMMAfectados[r1].union(modelosMMAfectados[r2]))\n",
    "            if matan==18:\n",
    "                print(r1,r2,matan)\n",
    "                print(miGrupo[r1],miGrupo[r2])\n",
    "                efectos1=0\n",
    "                efectos2=0\n",
    "                if r1 in numeroModelosAfectados:\n",
    "                    efectos1=numeroModelosAfectados[r1]\n",
    "                if r2 in numeroModelosAfectados:\n",
    "                    efectos2=numeroModelosAfectados[r2]\n",
    "                print(efectos1,efectos2)\n",
    "                print()"
   ]
  },
  {
   "cell_type": "markdown",
   "metadata": {},
   "source": [
    "**Search for genes and metabolites involved in good MCSs**.\n",
    "- Search and addition of all GPR rules in a dictionary called genes.\n",
    "- Search and addition of the ID and the name of the reaction-forming metabolites for each good reaction.\n",
    "- ID scanning of different gene databases (Entrez, Symbol and name) by accessing the corresponding API endpoint."
   ]
  },
  {
   "cell_type": "code",
   "execution_count": 39,
   "metadata": {},
   "outputs": [],
   "source": [
    "genes=dict()\n",
    "for r in modeloBase.reactions:\n",
    "    if len(r.genes)==0:\n",
    "        genes[r.id]=set()\n",
    "    if len(r.genes)==1:\n",
    "        genes[r.id]=set([g.id for g in r.genes])\n",
    "    if len(r.genes)>=2:\n",
    "        exp=r.gene_reaction_rule\n",
    "        if \"and\" in exp and not \"or\" in exp:\n",
    "            genes[r.id]=set([g.id for g in r.genes])\n",
    "        if \"or\" in exp and not \"and\" in exp:\n",
    "            genes[r.id]=set([g.id for g in r.genes])\n",
    "        if \"and\" in exp and \"or\" in exp:\n",
    "            genes[r.id]=set([g.id for g in r.genes]) "
   ]
  },
  {
   "cell_type": "code",
   "execution_count": 40,
   "metadata": {},
   "outputs": [],
   "source": [
    "metabolites = dict()\n",
    "names_met = dict()\n",
    "for r in modeloBase.reactions:\n",
    "    metabolite_list = [metabolite.id for metabolite in r.metabolites]\n",
    "    met_names = [metabolite.name for metabolite in r.metabolites]\n",
    "    metabolites[r.id] = metabolite_list\n",
    "    names_met[r.id] = met_names"
   ]
  },
  {
   "cell_type": "code",
   "execution_count": 41,
   "metadata": {},
   "outputs": [
    {
     "name": "stdout",
     "output_type": "stream",
     "text": [
      "MAR06644 Genes asociados {'ENSG00000187630', 'ENSG00000265203', 'ENSG00000170786', 'ENSG00000198099', 'ENSG00000135437', 'ENSG00000025423', 'ENSG00000139547', 'ENSG00000140522', 'ENSG00000157326'}\n",
      "Metabolitos asociados ['MAM01230c', 'MAM02039c', 'MAM02553c', 'MAM01232c', 'MAM02552c']\n",
      "Metabolitos names ['9-cis-retinal', 'H+', 'NADH', '9-cis-retinol', 'NAD+']\n",
      "\n",
      "\n",
      "MAR04623 Genes asociados {'ENSG00000049239'}\n",
      "Metabolitos asociados ['MAM01961r', 'MAM02040r', 'MAM01169r', 'MAM02039r']\n",
      "Metabolitos names ['glucono-1,5-lactone-6-phosphate', 'H2O', '6-phospho-D-gluconate', 'H+']\n",
      "\n",
      "\n",
      "MAR04473 Genes asociados {'ENSG00000142657'}\n",
      "Metabolitos asociados ['MAM01169r', 'MAM02554r', 'MAM01596r', 'MAM02555r', 'MAM02846r']\n",
      "Metabolitos names ['6-phospho-D-gluconate', 'NADP+', 'CO2', 'NADPH', 'ribulose-5-phosphate']\n",
      "\n",
      "\n",
      "MAR06660 Genes asociados set()\n",
      "Metabolitos asociados ['MAM01231r', 'MAM02833r']\n",
      "Metabolitos names ['9-cis-retinoate', 'retinoate']\n",
      "\n",
      "\n",
      "MAR06386 Genes asociados {'ENSG00000281500'}\n",
      "Metabolitos asociados ['MAM01968c', 'MAM02751r', 'MAM01968r', 'MAM02751c']\n",
      "Metabolitos names ['glucose-6-phosphate', 'Pi', 'glucose-6-phosphate', 'Pi']\n",
      "\n",
      "\n",
      "MAR08702 Genes asociados set()\n",
      "Metabolitos asociados ['MAM01230c', 'MAM02832c']\n",
      "Metabolitos names ['9-cis-retinal', 'retinal']\n",
      "\n",
      "\n",
      "MAR02598 Genes asociados {'ENSG00000095321', 'ENSG00000157184'}\n",
      "Metabolitos asociados ['MAM01597m', 'MAM02657m', 'MAM02348m', 'MAM02774m']\n",
      "Metabolitos names ['CoA', 'O-propanoylcarnitine', 'L-carnitine', 'propanoyl-CoA']\n",
      "\n",
      "\n"
     ]
    }
   ],
   "source": [
    "genes_interes = []\n",
    "nombres_metabolitos_unicos = set() \n",
    "\n",
    "for r in buenos:\n",
    "    print(r, \"Genes asociados\", genes[r])\n",
    "    genes_interes.append(genes[r])\n",
    "    print(\"Metabolitos asociados\", metabolites[r])\n",
    "    print(\"Metabolitos names\", names_met[r])\n",
    "    nombres_metabolitos_unicos.update(names_met[r]) \n",
    "    print()\n",
    "    print()\n",
    "\n",
    "nombres_metabolitos_unicos_lista = list(nombres_metabolitos_unicos)"
   ]
  },
  {
   "cell_type": "code",
   "execution_count": 42,
   "metadata": {},
   "outputs": [
    {
     "name": "stdout",
     "output_type": "stream",
     "text": [
      "[{'ENSG00000187630', 'ENSG00000265203', 'ENSG00000170786', 'ENSG00000198099', 'ENSG00000135437', 'ENSG00000025423', 'ENSG00000139547', 'ENSG00000140522', 'ENSG00000157326'}, {'ENSG00000049239'}, {'ENSG00000142657'}, {'ENSG00000281500'}, {'ENSG00000095321', 'ENSG00000157184'}]\n"
     ]
    }
   ],
   "source": [
    "for elemento in genes_interes[:]:  \n",
    "    if isinstance(elemento, set) and not elemento:\n",
    "        genes_interes.remove(elemento)\n",
    "print(genes_interes)"
   ]
  },
  {
   "cell_type": "code",
   "execution_count": 43,
   "metadata": {},
   "outputs": [
    {
     "data": {
      "text/html": [
       "<div>\n",
       "<style scoped>\n",
       "    .dataframe tbody tr th:only-of-type {\n",
       "        vertical-align: middle;\n",
       "    }\n",
       "\n",
       "    .dataframe tbody tr th {\n",
       "        vertical-align: top;\n",
       "    }\n",
       "\n",
       "    .dataframe thead th {\n",
       "        text-align: right;\n",
       "    }\n",
       "</style>\n",
       "<table border=\"1\" class=\"dataframe\">\n",
       "  <thead>\n",
       "    <tr style=\"text-align: right;\">\n",
       "      <th></th>\n",
       "      <th>entrezgene</th>\n",
       "      <th>name</th>\n",
       "      <th>symbol</th>\n",
       "    </tr>\n",
       "    <tr>\n",
       "      <th>query</th>\n",
       "      <th></th>\n",
       "      <th></th>\n",
       "      <th></th>\n",
       "    </tr>\n",
       "  </thead>\n",
       "  <tbody>\n",
       "    <tr>\n",
       "      <th>ENSG00000187630</th>\n",
       "      <td>317749</td>\n",
       "      <td>dehydrogenase/reductase 4 like 2</td>\n",
       "      <td>DHRS4L2</td>\n",
       "    </tr>\n",
       "    <tr>\n",
       "      <th>ENSG00000265203</th>\n",
       "      <td>5949</td>\n",
       "      <td>retinol binding protein 3</td>\n",
       "      <td>RBP3</td>\n",
       "    </tr>\n",
       "    <tr>\n",
       "      <th>ENSG00000170786</th>\n",
       "      <td>195814</td>\n",
       "      <td>short chain dehydrogenase/reductase family 16C...</td>\n",
       "      <td>SDR16C5</td>\n",
       "    </tr>\n",
       "    <tr>\n",
       "      <th>ENSG00000198099</th>\n",
       "      <td>127</td>\n",
       "      <td>alcohol dehydrogenase 4 (class II), pi polypep...</td>\n",
       "      <td>ADH4</td>\n",
       "    </tr>\n",
       "    <tr>\n",
       "      <th>ENSG00000135437</th>\n",
       "      <td>5959</td>\n",
       "      <td>retinol dehydrogenase 5</td>\n",
       "      <td>RDH5</td>\n",
       "    </tr>\n",
       "    <tr>\n",
       "      <th>ENSG00000025423</th>\n",
       "      <td>8630</td>\n",
       "      <td>hydroxysteroid 17-beta dehydrogenase 6</td>\n",
       "      <td>HSD17B6</td>\n",
       "    </tr>\n",
       "    <tr>\n",
       "      <th>ENSG00000139547</th>\n",
       "      <td>8608</td>\n",
       "      <td>retinol dehydrogenase 16</td>\n",
       "      <td>RDH16</td>\n",
       "    </tr>\n",
       "    <tr>\n",
       "      <th>ENSG00000140522</th>\n",
       "      <td>6017</td>\n",
       "      <td>retinaldehyde binding protein 1</td>\n",
       "      <td>RLBP1</td>\n",
       "    </tr>\n",
       "    <tr>\n",
       "      <th>ENSG00000157326</th>\n",
       "      <td>10901</td>\n",
       "      <td>dehydrogenase/reductase 4</td>\n",
       "      <td>DHRS4</td>\n",
       "    </tr>\n",
       "    <tr>\n",
       "      <th>ENSG00000049239</th>\n",
       "      <td>9563</td>\n",
       "      <td>hexose-6-phosphate dehydrogenase/glucose 1-deh...</td>\n",
       "      <td>H6PD</td>\n",
       "    </tr>\n",
       "    <tr>\n",
       "      <th>ENSG00000142657</th>\n",
       "      <td>5226</td>\n",
       "      <td>phosphogluconate dehydrogenase</td>\n",
       "      <td>PGD</td>\n",
       "    </tr>\n",
       "    <tr>\n",
       "      <th>ENSG00000281500</th>\n",
       "      <td>2542</td>\n",
       "      <td>solute carrier family 37 member 4</td>\n",
       "      <td>SLC37A4</td>\n",
       "    </tr>\n",
       "    <tr>\n",
       "      <th>ENSG00000095321</th>\n",
       "      <td>1384</td>\n",
       "      <td>carnitine O-acetyltransferase</td>\n",
       "      <td>CRAT</td>\n",
       "    </tr>\n",
       "    <tr>\n",
       "      <th>ENSG00000157184</th>\n",
       "      <td>1376</td>\n",
       "      <td>carnitine palmitoyltransferase 2</td>\n",
       "      <td>CPT2</td>\n",
       "    </tr>\n",
       "  </tbody>\n",
       "</table>\n",
       "</div>"
      ],
      "text/plain": [
       "                entrezgene                                               name  \\\n",
       "query                                                                           \n",
       "ENSG00000187630     317749                   dehydrogenase/reductase 4 like 2   \n",
       "ENSG00000265203       5949                          retinol binding protein 3   \n",
       "ENSG00000170786     195814  short chain dehydrogenase/reductase family 16C...   \n",
       "ENSG00000198099        127  alcohol dehydrogenase 4 (class II), pi polypep...   \n",
       "ENSG00000135437       5959                            retinol dehydrogenase 5   \n",
       "ENSG00000025423       8630             hydroxysteroid 17-beta dehydrogenase 6   \n",
       "ENSG00000139547       8608                           retinol dehydrogenase 16   \n",
       "ENSG00000140522       6017                    retinaldehyde binding protein 1   \n",
       "ENSG00000157326      10901                          dehydrogenase/reductase 4   \n",
       "ENSG00000049239       9563  hexose-6-phosphate dehydrogenase/glucose 1-deh...   \n",
       "ENSG00000142657       5226                     phosphogluconate dehydrogenase   \n",
       "ENSG00000281500       2542                  solute carrier family 37 member 4   \n",
       "ENSG00000095321       1384                      carnitine O-acetyltransferase   \n",
       "ENSG00000157184       1376                   carnitine palmitoyltransferase 2   \n",
       "\n",
       "                  symbol  \n",
       "query                     \n",
       "ENSG00000187630  DHRS4L2  \n",
       "ENSG00000265203     RBP3  \n",
       "ENSG00000170786  SDR16C5  \n",
       "ENSG00000198099     ADH4  \n",
       "ENSG00000135437     RDH5  \n",
       "ENSG00000025423  HSD17B6  \n",
       "ENSG00000139547    RDH16  \n",
       "ENSG00000140522    RLBP1  \n",
       "ENSG00000157326    DHRS4  \n",
       "ENSG00000049239     H6PD  \n",
       "ENSG00000142657      PGD  \n",
       "ENSG00000281500  SLC37A4  \n",
       "ENSG00000095321     CRAT  \n",
       "ENSG00000157184     CPT2  "
      ]
     },
     "execution_count": 43,
     "metadata": {},
     "output_type": "execute_result"
    }
   ],
   "source": [
    "genes_a_buscar = [gene for conjunto in genes_interes for gene in conjunto]\n",
    "mg = mygene.MyGeneInfo()\n",
    "df = mg.querymany(genes_a_buscar, scopes='ensembl.gene', species=9606, as_dataframe=True)\n",
    "df.iloc[:, [2, 3, 4]]"
   ]
  },
  {
   "cell_type": "code",
   "execution_count": 44,
   "metadata": {},
   "outputs": [],
   "source": [
    "symbol_dict={}\n",
    "for g in genes_a_buscar:\n",
    "    gene = mg.getgene(g, fields='symbol')\n",
    "    if \"symbol\" in gene:\n",
    "        symbol_dict[g]= gene[\"symbol\"]"
   ]
  },
  {
   "cell_type": "markdown",
   "metadata": {},
   "source": [
    "**Drug search for diseases, genes and coincidences**\n",
    "- We access the chEMBL API endpoint and retrieve any molecule that has activity against our genes of interest that control the most promising reactions (MCSs).\n",
    "- The idea is to see if we can propose a drug that attacks our therapeutic targets in a way that might be interesting to explore our results experimentally."
   ]
  },
  {
   "cell_type": "markdown",
   "metadata": {},
   "source": [
    "**Get approved drugs for MM**"
   ]
  },
  {
   "cell_type": "code",
   "execution_count": 45,
   "metadata": {},
   "outputs": [
    {
     "data": {
      "text/plain": [
       "436"
      ]
     },
     "execution_count": 45,
     "metadata": {},
     "output_type": "execute_result"
    }
   ],
   "source": [
    "drug_indication = new_client.drug_indication\n",
    "molecules = new_client.molecule\n",
    "\n",
    "MM_ind = drug_indication.filter(efo_term__icontains=\"MULTIPLE MYELOMA\")\n",
    "MM_mols = molecules.filter(\n",
    "    molecule_chembl_id__in=[x['molecule_chembl_id'] for x in MM_ind])\n",
    "\n",
    "len(MM_mols)"
   ]
  },
  {
   "cell_type": "markdown",
   "metadata": {},
   "source": [
    "**Get approved drugs for cancer** *(Note: it will take a few minutes)*"
   ]
  },
  {
   "cell_type": "code",
   "execution_count": 46,
   "metadata": {},
   "outputs": [
    {
     "data": {
      "text/plain": [
       "1734"
      ]
     },
     "execution_count": 46,
     "metadata": {},
     "output_type": "execute_result"
    }
   ],
   "source": [
    "drug_indication = new_client.drug_indication\n",
    "molecules = new_client.molecule\n",
    "\n",
    "cancer_ind = drug_indication.filter(efo_term__icontains=\"CANCER\")\n",
    "cancer_mols = molecules.filter(\n",
    "    molecule_chembl_id__in=[x['molecule_chembl_id'] for x in cancer_ind])\n",
    "\n",
    "len(cancer_mols)"
   ]
  },
  {
   "cell_type": "code",
   "execution_count": 47,
   "metadata": {},
   "outputs": [
    {
     "name": "stdout",
     "output_type": "stream",
     "text": [
      "\n",
      "Columnas del DataFrame:\n",
      "Index(['atc_classifications', 'availability_type', 'biotherapeutic',\n",
      "       'black_box_warning', 'chebi_par_id', 'chemical_probe', 'chirality',\n",
      "       'cross_references', 'dosed_ingredient', 'first_approval',\n",
      "       'first_in_class', 'helm_notation', 'indication_class', 'inorganic_flag',\n",
      "       'max_phase', 'molecule_chembl_id', 'molecule_hierarchy',\n",
      "       'molecule_properties', 'molecule_structures', 'molecule_synonyms',\n",
      "       'molecule_type', 'natural_product', 'oral', 'orphan', 'parenteral',\n",
      "       'polymer_flag', 'pref_name', 'prodrug', 'structure_type',\n",
      "       'therapeutic_flag', 'topical', 'usan_stem', 'usan_stem_definition',\n",
      "       'usan_substem', 'usan_year', 'withdrawn_flag'],\n",
      "      dtype='object')\n"
     ]
    }
   ],
   "source": [
    "df_MM_mols = pd.DataFrame(MM_mols)\n",
    "print(\"\\nColumnas del DataFrame:\")\n",
    "print(df_MM_mols.columns)"
   ]
  },
  {
   "cell_type": "code",
   "execution_count": 48,
   "metadata": {},
   "outputs": [
    {
     "data": {
      "text/html": [
       "<div>\n",
       "<style scoped>\n",
       "    .dataframe tbody tr th:only-of-type {\n",
       "        vertical-align: middle;\n",
       "    }\n",
       "\n",
       "    .dataframe tbody tr th {\n",
       "        vertical-align: top;\n",
       "    }\n",
       "\n",
       "    .dataframe thead th {\n",
       "        text-align: right;\n",
       "    }\n",
       "</style>\n",
       "<table border=\"1\" class=\"dataframe\">\n",
       "  <thead>\n",
       "    <tr style=\"text-align: right;\">\n",
       "      <th></th>\n",
       "      <th>pref_name</th>\n",
       "    </tr>\n",
       "  </thead>\n",
       "  <tbody>\n",
       "    <tr>\n",
       "      <th>0</th>\n",
       "      <td>FENRETINIDE</td>\n",
       "    </tr>\n",
       "    <tr>\n",
       "      <th>1</th>\n",
       "      <td>SIROLIMUS</td>\n",
       "    </tr>\n",
       "    <tr>\n",
       "      <th>2</th>\n",
       "      <td>TACROLIMUS ANHYDROUS</td>\n",
       "    </tr>\n",
       "    <tr>\n",
       "      <th>3</th>\n",
       "      <td>ASPIRIN</td>\n",
       "    </tr>\n",
       "    <tr>\n",
       "      <th>4</th>\n",
       "      <td>PROPRANOLOL</td>\n",
       "    </tr>\n",
       "    <tr>\n",
       "      <th>...</th>\n",
       "      <td>...</td>\n",
       "    </tr>\n",
       "    <tr>\n",
       "      <th>431</th>\n",
       "      <td>SONROTOCLAX</td>\n",
       "    </tr>\n",
       "    <tr>\n",
       "      <th>432</th>\n",
       "      <td>ALTEMINOSTAT</td>\n",
       "    </tr>\n",
       "    <tr>\n",
       "      <th>433</th>\n",
       "      <td>ABBV-383</td>\n",
       "    </tr>\n",
       "    <tr>\n",
       "      <th>434</th>\n",
       "      <td>KEYHOLE LIMPET HEMOCYANIN</td>\n",
       "    </tr>\n",
       "    <tr>\n",
       "      <th>435</th>\n",
       "      <td>ERZOTABART</td>\n",
       "    </tr>\n",
       "  </tbody>\n",
       "</table>\n",
       "<p>436 rows × 1 columns</p>\n",
       "</div>"
      ],
      "text/plain": [
       "                     pref_name\n",
       "0                  FENRETINIDE\n",
       "1                    SIROLIMUS\n",
       "2         TACROLIMUS ANHYDROUS\n",
       "3                      ASPIRIN\n",
       "4                  PROPRANOLOL\n",
       "..                         ...\n",
       "431                SONROTOCLAX\n",
       "432               ALTEMINOSTAT\n",
       "433                   ABBV-383\n",
       "434  KEYHOLE LIMPET HEMOCYANIN\n",
       "435                 ERZOTABART\n",
       "\n",
       "[436 rows x 1 columns]"
      ]
     },
     "execution_count": 48,
     "metadata": {},
     "output_type": "execute_result"
    }
   ],
   "source": [
    "df_MM_pref_name = df_MM_mols[['pref_name']]\n",
    "df_MM_pref_name"
   ]
  },
  {
   "cell_type": "code",
   "execution_count": 49,
   "metadata": {},
   "outputs": [
    {
     "data": {
      "text/html": [
       "<div>\n",
       "<style scoped>\n",
       "    .dataframe tbody tr th:only-of-type {\n",
       "        vertical-align: middle;\n",
       "    }\n",
       "\n",
       "    .dataframe tbody tr th {\n",
       "        vertical-align: top;\n",
       "    }\n",
       "\n",
       "    .dataframe thead th {\n",
       "        text-align: right;\n",
       "    }\n",
       "</style>\n",
       "<table border=\"1\" class=\"dataframe\">\n",
       "  <thead>\n",
       "    <tr style=\"text-align: right;\">\n",
       "      <th></th>\n",
       "      <th>pref_name</th>\n",
       "    </tr>\n",
       "  </thead>\n",
       "  <tbody>\n",
       "    <tr>\n",
       "      <th>0</th>\n",
       "      <td>NICOTINE</td>\n",
       "    </tr>\n",
       "    <tr>\n",
       "      <th>1</th>\n",
       "      <td>INDOMETHACIN</td>\n",
       "    </tr>\n",
       "    <tr>\n",
       "      <th>2</th>\n",
       "      <td>CIPROFLOXACIN</td>\n",
       "    </tr>\n",
       "    <tr>\n",
       "      <th>3</th>\n",
       "      <td>IMIPRAMINE</td>\n",
       "    </tr>\n",
       "    <tr>\n",
       "      <th>4</th>\n",
       "      <td>BICALUTAMIDE</td>\n",
       "    </tr>\n",
       "    <tr>\n",
       "      <th>...</th>\n",
       "      <td>...</td>\n",
       "    </tr>\n",
       "    <tr>\n",
       "      <th>1729</th>\n",
       "      <td>SUVEMCITUG</td>\n",
       "    </tr>\n",
       "    <tr>\n",
       "      <th>1730</th>\n",
       "      <td>ENLONSTOBART</td>\n",
       "    </tr>\n",
       "    <tr>\n",
       "      <th>1731</th>\n",
       "      <td>BENMELSTOBART</td>\n",
       "    </tr>\n",
       "    <tr>\n",
       "      <th>1732</th>\n",
       "      <td>AUTOLOGOUS PERIPHERAL-BLOOD MONONUCLEAR CELLS ...</td>\n",
       "    </tr>\n",
       "    <tr>\n",
       "      <th>1733</th>\n",
       "      <td>LEVOFLOXACIN</td>\n",
       "    </tr>\n",
       "  </tbody>\n",
       "</table>\n",
       "<p>1734 rows × 1 columns</p>\n",
       "</div>"
      ],
      "text/plain": [
       "                                              pref_name\n",
       "0                                              NICOTINE\n",
       "1                                          INDOMETHACIN\n",
       "2                                         CIPROFLOXACIN\n",
       "3                                            IMIPRAMINE\n",
       "4                                          BICALUTAMIDE\n",
       "...                                                 ...\n",
       "1729                                         SUVEMCITUG\n",
       "1730                                       ENLONSTOBART\n",
       "1731                                      BENMELSTOBART\n",
       "1732  AUTOLOGOUS PERIPHERAL-BLOOD MONONUCLEAR CELLS ...\n",
       "1733                                       LEVOFLOXACIN\n",
       "\n",
       "[1734 rows x 1 columns]"
      ]
     },
     "execution_count": 49,
     "metadata": {},
     "output_type": "execute_result"
    }
   ],
   "source": [
    "df_cancer_mols = pd.DataFrame(cancer_mols)\n",
    "df_cancer_pref_name = df_cancer_mols[['pref_name']]\n",
    "df_cancer_pref_name"
   ]
  },
  {
   "cell_type": "code",
   "execution_count": 50,
   "metadata": {},
   "outputs": [
    {
     "name": "stdout",
     "output_type": "stream",
     "text": [
      "\n",
      "DataFrame disease matches between cancer y MM in particular:\n"
     ]
    },
    {
     "data": {
      "text/html": [
       "<div>\n",
       "<style scoped>\n",
       "    .dataframe tbody tr th:only-of-type {\n",
       "        vertical-align: middle;\n",
       "    }\n",
       "\n",
       "    .dataframe tbody tr th {\n",
       "        vertical-align: top;\n",
       "    }\n",
       "\n",
       "    .dataframe thead th {\n",
       "        text-align: right;\n",
       "    }\n",
       "</style>\n",
       "<table border=\"1\" class=\"dataframe\">\n",
       "  <thead>\n",
       "    <tr style=\"text-align: right;\">\n",
       "      <th></th>\n",
       "      <th>pref_name</th>\n",
       "    </tr>\n",
       "  </thead>\n",
       "  <tbody>\n",
       "    <tr>\n",
       "      <th>0</th>\n",
       "      <td>FENRETINIDE</td>\n",
       "    </tr>\n",
       "    <tr>\n",
       "      <th>1</th>\n",
       "      <td>SIROLIMUS</td>\n",
       "    </tr>\n",
       "    <tr>\n",
       "      <th>2</th>\n",
       "      <td>TACROLIMUS ANHYDROUS</td>\n",
       "    </tr>\n",
       "    <tr>\n",
       "      <th>3</th>\n",
       "      <td>ASPIRIN</td>\n",
       "    </tr>\n",
       "    <tr>\n",
       "      <th>4</th>\n",
       "      <td>PROPRANOLOL</td>\n",
       "    </tr>\n",
       "    <tr>\n",
       "      <th>...</th>\n",
       "      <td>...</td>\n",
       "    </tr>\n",
       "    <tr>\n",
       "      <th>288</th>\n",
       "      <td>BELRESTOTUG</td>\n",
       "    </tr>\n",
       "    <tr>\n",
       "      <th>289</th>\n",
       "      <td>MECAPEGFILGRASTIM</td>\n",
       "    </tr>\n",
       "    <tr>\n",
       "      <th>290</th>\n",
       "      <td>XL-999</td>\n",
       "    </tr>\n",
       "    <tr>\n",
       "      <th>291</th>\n",
       "      <td>SONROTOCLAX</td>\n",
       "    </tr>\n",
       "    <tr>\n",
       "      <th>292</th>\n",
       "      <td>KEYHOLE LIMPET HEMOCYANIN</td>\n",
       "    </tr>\n",
       "  </tbody>\n",
       "</table>\n",
       "<p>293 rows × 1 columns</p>\n",
       "</div>"
      ],
      "text/plain": [
       "                     pref_name\n",
       "0                  FENRETINIDE\n",
       "1                    SIROLIMUS\n",
       "2         TACROLIMUS ANHYDROUS\n",
       "3                      ASPIRIN\n",
       "4                  PROPRANOLOL\n",
       "..                         ...\n",
       "288                BELRESTOTUG\n",
       "289          MECAPEGFILGRASTIM\n",
       "290                     XL-999\n",
       "291                SONROTOCLAX\n",
       "292  KEYHOLE LIMPET HEMOCYANIN\n",
       "\n",
       "[293 rows x 1 columns]"
      ]
     },
     "execution_count": 50,
     "metadata": {},
     "output_type": "execute_result"
    }
   ],
   "source": [
    "df_coincidencias_diseases = pd.merge(df_MM_pref_name, df_cancer_pref_name, on=\"pref_name\")\n",
    "print(\"\\nDataFrame disease matches between cancer y MM in particular:\")\n",
    "df_coincidencias_diseases"
   ]
  },
  {
   "cell_type": "code",
   "execution_count": 51,
   "metadata": {},
   "outputs": [
    {
     "name": "stdout",
     "output_type": "stream",
     "text": [
      "\n",
      "DataFrame combined with indicator:\n"
     ]
    },
    {
     "data": {
      "text/html": [
       "<div>\n",
       "<style scoped>\n",
       "    .dataframe tbody tr th:only-of-type {\n",
       "        vertical-align: middle;\n",
       "    }\n",
       "\n",
       "    .dataframe tbody tr th {\n",
       "        vertical-align: top;\n",
       "    }\n",
       "\n",
       "    .dataframe thead th {\n",
       "        text-align: right;\n",
       "    }\n",
       "</style>\n",
       "<table border=\"1\" class=\"dataframe\">\n",
       "  <thead>\n",
       "    <tr style=\"text-align: right;\">\n",
       "      <th></th>\n",
       "      <th>pref_name</th>\n",
       "      <th>_merge</th>\n",
       "    </tr>\n",
       "  </thead>\n",
       "  <tbody>\n",
       "    <tr>\n",
       "      <th>0</th>\n",
       "      <td>FENRETINIDE</td>\n",
       "      <td>both</td>\n",
       "    </tr>\n",
       "    <tr>\n",
       "      <th>1</th>\n",
       "      <td>SIROLIMUS</td>\n",
       "      <td>both</td>\n",
       "    </tr>\n",
       "    <tr>\n",
       "      <th>2</th>\n",
       "      <td>TACROLIMUS ANHYDROUS</td>\n",
       "      <td>both</td>\n",
       "    </tr>\n",
       "    <tr>\n",
       "      <th>3</th>\n",
       "      <td>ASPIRIN</td>\n",
       "      <td>both</td>\n",
       "    </tr>\n",
       "    <tr>\n",
       "      <th>4</th>\n",
       "      <td>PROPRANOLOL</td>\n",
       "      <td>both</td>\n",
       "    </tr>\n",
       "    <tr>\n",
       "      <th>...</th>\n",
       "      <td>...</td>\n",
       "      <td>...</td>\n",
       "    </tr>\n",
       "    <tr>\n",
       "      <th>1872</th>\n",
       "      <td>SUVEMCITUG</td>\n",
       "      <td>right_only</td>\n",
       "    </tr>\n",
       "    <tr>\n",
       "      <th>1873</th>\n",
       "      <td>ENLONSTOBART</td>\n",
       "      <td>right_only</td>\n",
       "    </tr>\n",
       "    <tr>\n",
       "      <th>1874</th>\n",
       "      <td>BENMELSTOBART</td>\n",
       "      <td>right_only</td>\n",
       "    </tr>\n",
       "    <tr>\n",
       "      <th>1875</th>\n",
       "      <td>AUTOLOGOUS PERIPHERAL-BLOOD MONONUCLEAR CELLS ...</td>\n",
       "      <td>right_only</td>\n",
       "    </tr>\n",
       "    <tr>\n",
       "      <th>1876</th>\n",
       "      <td>LEVOFLOXACIN</td>\n",
       "      <td>right_only</td>\n",
       "    </tr>\n",
       "  </tbody>\n",
       "</table>\n",
       "<p>1877 rows × 2 columns</p>\n",
       "</div>"
      ],
      "text/plain": [
       "                                              pref_name      _merge\n",
       "0                                           FENRETINIDE        both\n",
       "1                                             SIROLIMUS        both\n",
       "2                                  TACROLIMUS ANHYDROUS        both\n",
       "3                                               ASPIRIN        both\n",
       "4                                           PROPRANOLOL        both\n",
       "...                                                 ...         ...\n",
       "1872                                         SUVEMCITUG  right_only\n",
       "1873                                       ENLONSTOBART  right_only\n",
       "1874                                      BENMELSTOBART  right_only\n",
       "1875  AUTOLOGOUS PERIPHERAL-BLOOD MONONUCLEAR CELLS ...  right_only\n",
       "1876                                       LEVOFLOXACIN  right_only\n",
       "\n",
       "[1877 rows x 2 columns]"
      ]
     },
     "execution_count": 51,
     "metadata": {},
     "output_type": "execute_result"
    }
   ],
   "source": [
    "df_outer = pd.merge(df_MM_pref_name, df_cancer_pref_name, on=\"pref_name\", how=\"outer\", indicator=True)\n",
    "print(\"\\nDataFrame combined with indicator:\")\n",
    "df_outer"
   ]
  },
  {
   "cell_type": "code",
   "execution_count": 52,
   "metadata": {},
   "outputs": [
    {
     "name": "stdout",
     "output_type": "stream",
     "text": [
      "\n",
      "DataFrame with no coincidences from cancer df:\n"
     ]
    },
    {
     "data": {
      "text/html": [
       "<div>\n",
       "<style scoped>\n",
       "    .dataframe tbody tr th:only-of-type {\n",
       "        vertical-align: middle;\n",
       "    }\n",
       "\n",
       "    .dataframe tbody tr th {\n",
       "        vertical-align: top;\n",
       "    }\n",
       "\n",
       "    .dataframe thead th {\n",
       "        text-align: right;\n",
       "    }\n",
       "</style>\n",
       "<table border=\"1\" class=\"dataframe\">\n",
       "  <thead>\n",
       "    <tr style=\"text-align: right;\">\n",
       "      <th></th>\n",
       "      <th>pref_name</th>\n",
       "    </tr>\n",
       "  </thead>\n",
       "  <tbody>\n",
       "    <tr>\n",
       "      <th>436</th>\n",
       "      <td>NICOTINE</td>\n",
       "    </tr>\n",
       "    <tr>\n",
       "      <th>437</th>\n",
       "      <td>INDOMETHACIN</td>\n",
       "    </tr>\n",
       "    <tr>\n",
       "      <th>438</th>\n",
       "      <td>CIPROFLOXACIN</td>\n",
       "    </tr>\n",
       "    <tr>\n",
       "      <th>439</th>\n",
       "      <td>IMIPRAMINE</td>\n",
       "    </tr>\n",
       "    <tr>\n",
       "      <th>440</th>\n",
       "      <td>BICALUTAMIDE</td>\n",
       "    </tr>\n",
       "    <tr>\n",
       "      <th>...</th>\n",
       "      <td>...</td>\n",
       "    </tr>\n",
       "    <tr>\n",
       "      <th>1872</th>\n",
       "      <td>SUVEMCITUG</td>\n",
       "    </tr>\n",
       "    <tr>\n",
       "      <th>1873</th>\n",
       "      <td>ENLONSTOBART</td>\n",
       "    </tr>\n",
       "    <tr>\n",
       "      <th>1874</th>\n",
       "      <td>BENMELSTOBART</td>\n",
       "    </tr>\n",
       "    <tr>\n",
       "      <th>1875</th>\n",
       "      <td>AUTOLOGOUS PERIPHERAL-BLOOD MONONUCLEAR CELLS ...</td>\n",
       "    </tr>\n",
       "    <tr>\n",
       "      <th>1876</th>\n",
       "      <td>LEVOFLOXACIN</td>\n",
       "    </tr>\n",
       "  </tbody>\n",
       "</table>\n",
       "<p>1441 rows × 1 columns</p>\n",
       "</div>"
      ],
      "text/plain": [
       "                                              pref_name\n",
       "436                                            NICOTINE\n",
       "437                                        INDOMETHACIN\n",
       "438                                       CIPROFLOXACIN\n",
       "439                                          IMIPRAMINE\n",
       "440                                        BICALUTAMIDE\n",
       "...                                                 ...\n",
       "1872                                         SUVEMCITUG\n",
       "1873                                       ENLONSTOBART\n",
       "1874                                      BENMELSTOBART\n",
       "1875  AUTOLOGOUS PERIPHERAL-BLOOD MONONUCLEAR CELLS ...\n",
       "1876                                       LEVOFLOXACIN\n",
       "\n",
       "[1441 rows x 1 columns]"
      ]
     },
     "execution_count": 52,
     "metadata": {},
     "output_type": "execute_result"
    }
   ],
   "source": [
    "df_no_coincidencias_cancer = df_outer[df_outer[\"_merge\"] == \"right_only\"]\n",
    "df_no_coincidencias_final_cancer = df_no_coincidencias_cancer[df_cancer_pref_name.columns]\n",
    "print(\"\\nDataFrame with no coincidences from cancer df:\")\n",
    "df_no_coincidencias_final_cancer"
   ]
  },
  {
   "cell_type": "markdown",
   "metadata": {},
   "source": [
    "**Drug search for genes**"
   ]
  },
  {
   "cell_type": "code",
   "execution_count": 53,
   "metadata": {},
   "outputs": [],
   "source": [
    "def buscar_drugs(gene_symbol):\n",
    "    target = new_client.target\n",
    "    gene_name = gene_symbol\n",
    "    res = target.filter(target_synonym__icontains=gene_name).only(['organism'[\"organism\" == \"Homo sapiens\"], 'target_chembl_id'])\n",
    "    chembl_id = None\n",
    "    for i in res:\n",
    "        chembl_id=i[\"target_chembl_id\"]\n",
    "        break\n",
    "     \n",
    "    activity = new_client.activity\n",
    "    res2 = activity.filter(target_chembl_id=chembl_id, assay_type='B').only([\"target_organism\"[\"target_organism\" == \"Homo sapiens\"],\n",
    "                                                                                'target_chembl_id', \n",
    "                                                                                'target_pref_name', \n",
    "                                                                                'molecule_pref_name'])\n",
    "\n",
    "    if len(res2) > 0:\n",
    "        res2 = pd.DataFrame(res2)\n",
    "        res2[\"gen_symbol\"] = gene_name\n",
    "        res2 = res2[res2[\"molecule_pref_name\"].notna()]\n",
    "        return res2"
   ]
  },
  {
   "cell_type": "code",
   "execution_count": 54,
   "metadata": {},
   "outputs": [
    {
     "data": {
      "text/html": [
       "<div>\n",
       "<style scoped>\n",
       "    .dataframe tbody tr th:only-of-type {\n",
       "        vertical-align: middle;\n",
       "    }\n",
       "\n",
       "    .dataframe tbody tr th {\n",
       "        vertical-align: top;\n",
       "    }\n",
       "\n",
       "    .dataframe thead th {\n",
       "        text-align: right;\n",
       "    }\n",
       "</style>\n",
       "<table border=\"1\" class=\"dataframe\">\n",
       "  <thead>\n",
       "    <tr style=\"text-align: right;\">\n",
       "      <th></th>\n",
       "      <th>molecule_pref_name</th>\n",
       "      <th>target_chembl_id</th>\n",
       "      <th>target_pref_name</th>\n",
       "      <th>gen_symbol</th>\n",
       "    </tr>\n",
       "  </thead>\n",
       "  <tbody>\n",
       "    <tr>\n",
       "      <th>0</th>\n",
       "      <td>HEPTYLFORMAMIDE</td>\n",
       "      <td>CHEMBL2990</td>\n",
       "      <td>Alcohol dehydrogenase class II</td>\n",
       "      <td>ADH4</td>\n",
       "    </tr>\n",
       "    <tr>\n",
       "      <th>1</th>\n",
       "      <td>CYCLOHEXYLFORMAMIDE</td>\n",
       "      <td>CHEMBL2990</td>\n",
       "      <td>Alcohol dehydrogenase class II</td>\n",
       "      <td>ADH4</td>\n",
       "    </tr>\n",
       "    <tr>\n",
       "      <th>2</th>\n",
       "      <td>CYCLOBUTYL(CYCLOPENTYL)FORMAMIDE</td>\n",
       "      <td>CHEMBL2990</td>\n",
       "      <td>Alcohol dehydrogenase class II</td>\n",
       "      <td>ADH4</td>\n",
       "    </tr>\n",
       "    <tr>\n",
       "      <th>3</th>\n",
       "      <td>IBUPROFEN</td>\n",
       "      <td>CHEMBL4334</td>\n",
       "      <td>Prostaglandin-H2 D-isomerase</td>\n",
       "      <td>PGD</td>\n",
       "    </tr>\n",
       "    <tr>\n",
       "      <th>4</th>\n",
       "      <td>PRAVADOLINE</td>\n",
       "      <td>CHEMBL4334</td>\n",
       "      <td>Prostaglandin-H2 D-isomerase</td>\n",
       "      <td>PGD</td>\n",
       "    </tr>\n",
       "    <tr>\n",
       "      <th>5</th>\n",
       "      <td>KETOROLAC</td>\n",
       "      <td>CHEMBL4334</td>\n",
       "      <td>Prostaglandin-H2 D-isomerase</td>\n",
       "      <td>PGD</td>\n",
       "    </tr>\n",
       "    <tr>\n",
       "      <th>6</th>\n",
       "      <td>CLOMETACIN</td>\n",
       "      <td>CHEMBL4334</td>\n",
       "      <td>Prostaglandin-H2 D-isomerase</td>\n",
       "      <td>PGD</td>\n",
       "    </tr>\n",
       "    <tr>\n",
       "      <th>7</th>\n",
       "      <td>NAPROXEN</td>\n",
       "      <td>CHEMBL4334</td>\n",
       "      <td>Prostaglandin-H2 D-isomerase</td>\n",
       "      <td>PGD</td>\n",
       "    </tr>\n",
       "    <tr>\n",
       "      <th>8</th>\n",
       "      <td>INDOMETHACIN</td>\n",
       "      <td>CHEMBL4334</td>\n",
       "      <td>Prostaglandin-H2 D-isomerase</td>\n",
       "      <td>PGD</td>\n",
       "    </tr>\n",
       "    <tr>\n",
       "      <th>11</th>\n",
       "      <td>MUMBAISTATIN</td>\n",
       "      <td>CHEMBL3217398</td>\n",
       "      <td>Glucose-6-phosphate translocase</td>\n",
       "      <td>SLC37A4</td>\n",
       "    </tr>\n",
       "    <tr>\n",
       "      <th>12</th>\n",
       "      <td>CHLOROGENIC ACID</td>\n",
       "      <td>CHEMBL3217398</td>\n",
       "      <td>Glucose-6-phosphate translocase</td>\n",
       "      <td>SLC37A4</td>\n",
       "    </tr>\n",
       "    <tr>\n",
       "      <th>13</th>\n",
       "      <td>ASPULVINONE E</td>\n",
       "      <td>CHEMBL3217398</td>\n",
       "      <td>Glucose-6-phosphate translocase</td>\n",
       "      <td>SLC37A4</td>\n",
       "    </tr>\n",
       "    <tr>\n",
       "      <th>15</th>\n",
       "      <td>PHLORETIN</td>\n",
       "      <td>CHEMBL3217398</td>\n",
       "      <td>Glucose-6-phosphate translocase</td>\n",
       "      <td>SLC37A4</td>\n",
       "    </tr>\n",
       "    <tr>\n",
       "      <th>16</th>\n",
       "      <td>LEVOCARNITINE</td>\n",
       "      <td>CHEMBL3184</td>\n",
       "      <td>Carnitine acetylase</td>\n",
       "      <td>CRAT</td>\n",
       "    </tr>\n",
       "    <tr>\n",
       "      <th>17</th>\n",
       "      <td>TEGLICAR</td>\n",
       "      <td>CHEMBL3238</td>\n",
       "      <td>Carnitine palmitoyltransferase 2</td>\n",
       "      <td>CPT2</td>\n",
       "    </tr>\n",
       "    <tr>\n",
       "      <th>18</th>\n",
       "      <td>PALMITOYLAMINOCARNITINE</td>\n",
       "      <td>CHEMBL3238</td>\n",
       "      <td>Carnitine palmitoyltransferase 2</td>\n",
       "      <td>CPT2</td>\n",
       "    </tr>\n",
       "    <tr>\n",
       "      <th>19</th>\n",
       "      <td>OXFENICINE</td>\n",
       "      <td>CHEMBL3238</td>\n",
       "      <td>Carnitine palmitoyltransferase 2</td>\n",
       "      <td>CPT2</td>\n",
       "    </tr>\n",
       "    <tr>\n",
       "      <th>20</th>\n",
       "      <td>AMIODARONE</td>\n",
       "      <td>CHEMBL3238</td>\n",
       "      <td>Carnitine palmitoyltransferase 2</td>\n",
       "      <td>CPT2</td>\n",
       "    </tr>\n",
       "    <tr>\n",
       "      <th>21</th>\n",
       "      <td>PERHEXILINE</td>\n",
       "      <td>CHEMBL3238</td>\n",
       "      <td>Carnitine palmitoyltransferase 2</td>\n",
       "      <td>CPT2</td>\n",
       "    </tr>\n",
       "    <tr>\n",
       "      <th>22</th>\n",
       "      <td>TRIMETAZIDINE</td>\n",
       "      <td>CHEMBL3238</td>\n",
       "      <td>Carnitine palmitoyltransferase 2</td>\n",
       "      <td>CPT2</td>\n",
       "    </tr>\n",
       "    <tr>\n",
       "      <th>23</th>\n",
       "      <td>HEMIACYLCARNITINIUM</td>\n",
       "      <td>CHEMBL3238</td>\n",
       "      <td>Carnitine palmitoyltransferase 2</td>\n",
       "      <td>CPT2</td>\n",
       "    </tr>\n",
       "    <tr>\n",
       "      <th>26</th>\n",
       "      <td>ROSIGLITAZONE</td>\n",
       "      <td>CHEMBL3238</td>\n",
       "      <td>Carnitine palmitoyltransferase 2</td>\n",
       "      <td>CPT2</td>\n",
       "    </tr>\n",
       "    <tr>\n",
       "      <th>27</th>\n",
       "      <td>PIOGLITAZONE</td>\n",
       "      <td>CHEMBL3238</td>\n",
       "      <td>Carnitine palmitoyltransferase 2</td>\n",
       "      <td>CPT2</td>\n",
       "    </tr>\n",
       "  </tbody>\n",
       "</table>\n",
       "</div>"
      ],
      "text/plain": [
       "                  molecule_pref_name target_chembl_id  \\\n",
       "0                    HEPTYLFORMAMIDE       CHEMBL2990   \n",
       "1                CYCLOHEXYLFORMAMIDE       CHEMBL2990   \n",
       "2   CYCLOBUTYL(CYCLOPENTYL)FORMAMIDE       CHEMBL2990   \n",
       "3                          IBUPROFEN       CHEMBL4334   \n",
       "4                        PRAVADOLINE       CHEMBL4334   \n",
       "5                          KETOROLAC       CHEMBL4334   \n",
       "6                         CLOMETACIN       CHEMBL4334   \n",
       "7                           NAPROXEN       CHEMBL4334   \n",
       "8                       INDOMETHACIN       CHEMBL4334   \n",
       "11                      MUMBAISTATIN    CHEMBL3217398   \n",
       "12                  CHLOROGENIC ACID    CHEMBL3217398   \n",
       "13                     ASPULVINONE E    CHEMBL3217398   \n",
       "15                         PHLORETIN    CHEMBL3217398   \n",
       "16                     LEVOCARNITINE       CHEMBL3184   \n",
       "17                          TEGLICAR       CHEMBL3238   \n",
       "18           PALMITOYLAMINOCARNITINE       CHEMBL3238   \n",
       "19                        OXFENICINE       CHEMBL3238   \n",
       "20                        AMIODARONE       CHEMBL3238   \n",
       "21                       PERHEXILINE       CHEMBL3238   \n",
       "22                     TRIMETAZIDINE       CHEMBL3238   \n",
       "23               HEMIACYLCARNITINIUM       CHEMBL3238   \n",
       "26                     ROSIGLITAZONE       CHEMBL3238   \n",
       "27                      PIOGLITAZONE       CHEMBL3238   \n",
       "\n",
       "                    target_pref_name gen_symbol  \n",
       "0     Alcohol dehydrogenase class II       ADH4  \n",
       "1     Alcohol dehydrogenase class II       ADH4  \n",
       "2     Alcohol dehydrogenase class II       ADH4  \n",
       "3       Prostaglandin-H2 D-isomerase        PGD  \n",
       "4       Prostaglandin-H2 D-isomerase        PGD  \n",
       "5       Prostaglandin-H2 D-isomerase        PGD  \n",
       "6       Prostaglandin-H2 D-isomerase        PGD  \n",
       "7       Prostaglandin-H2 D-isomerase        PGD  \n",
       "8       Prostaglandin-H2 D-isomerase        PGD  \n",
       "11   Glucose-6-phosphate translocase    SLC37A4  \n",
       "12   Glucose-6-phosphate translocase    SLC37A4  \n",
       "13   Glucose-6-phosphate translocase    SLC37A4  \n",
       "15   Glucose-6-phosphate translocase    SLC37A4  \n",
       "16               Carnitine acetylase       CRAT  \n",
       "17  Carnitine palmitoyltransferase 2       CPT2  \n",
       "18  Carnitine palmitoyltransferase 2       CPT2  \n",
       "19  Carnitine palmitoyltransferase 2       CPT2  \n",
       "20  Carnitine palmitoyltransferase 2       CPT2  \n",
       "21  Carnitine palmitoyltransferase 2       CPT2  \n",
       "22  Carnitine palmitoyltransferase 2       CPT2  \n",
       "23  Carnitine palmitoyltransferase 2       CPT2  \n",
       "26  Carnitine palmitoyltransferase 2       CPT2  \n",
       "27  Carnitine palmitoyltransferase 2       CPT2  "
      ]
     },
     "execution_count": 54,
     "metadata": {},
     "output_type": "execute_result"
    }
   ],
   "source": [
    "resultados_drogas=pd.DataFrame({})\n",
    "for g in symbol_dict:\n",
    "    gen= symbol_dict[g]\n",
    "    drogas=buscar_drugs(gen)\n",
    "    resultados_drogas=pd.concat([resultados_drogas, drogas], ignore_index=True)\n",
    "df_buenos_drugs = resultados_drogas.drop_duplicates()\n",
    "df_buenos_drugs"
   ]
  },
  {
   "cell_type": "markdown",
   "metadata": {},
   "source": [
    "We found 27 named drugs (there are many more undescribed). I have chosen named to search for a specific therapy quickly. If you want to search for drugs not yet described you would have to remove the molecule_pref_name filter."
   ]
  },
  {
   "cell_type": "code",
   "execution_count": 55,
   "metadata": {},
   "outputs": [
    {
     "data": {
      "text/html": [
       "<div>\n",
       "<style scoped>\n",
       "    .dataframe tbody tr th:only-of-type {\n",
       "        vertical-align: middle;\n",
       "    }\n",
       "\n",
       "    .dataframe tbody tr th {\n",
       "        vertical-align: top;\n",
       "    }\n",
       "\n",
       "    .dataframe thead th {\n",
       "        text-align: right;\n",
       "    }\n",
       "</style>\n",
       "<table border=\"1\" class=\"dataframe\">\n",
       "  <thead>\n",
       "    <tr style=\"text-align: right;\">\n",
       "      <th></th>\n",
       "      <th>gen_symbol</th>\n",
       "    </tr>\n",
       "  </thead>\n",
       "  <tbody>\n",
       "    <tr>\n",
       "      <th>CPT2</th>\n",
       "      <td>9</td>\n",
       "    </tr>\n",
       "    <tr>\n",
       "      <th>PGD</th>\n",
       "      <td>6</td>\n",
       "    </tr>\n",
       "    <tr>\n",
       "      <th>SLC37A4</th>\n",
       "      <td>4</td>\n",
       "    </tr>\n",
       "    <tr>\n",
       "      <th>ADH4</th>\n",
       "      <td>3</td>\n",
       "    </tr>\n",
       "    <tr>\n",
       "      <th>CRAT</th>\n",
       "      <td>1</td>\n",
       "    </tr>\n",
       "  </tbody>\n",
       "</table>\n",
       "</div>"
      ],
      "text/plain": [
       "         gen_symbol\n",
       "CPT2              9\n",
       "PGD               6\n",
       "SLC37A4           4\n",
       "ADH4              3\n",
       "CRAT              1"
      ]
     },
     "execution_count": 55,
     "metadata": {},
     "output_type": "execute_result"
    }
   ],
   "source": [
    "pd.DataFrame(df_buenos_drugs[\"gen_symbol\"].value_counts())"
   ]
  },
  {
   "cell_type": "code",
   "execution_count": 56,
   "metadata": {},
   "outputs": [
    {
     "name": "stdout",
     "output_type": "stream",
     "text": [
      "\n",
      "DataFrame with matches between approved MM drugs and drugs associated with our genes of interest:\n"
     ]
    },
    {
     "data": {
      "text/html": [
       "<div>\n",
       "<style scoped>\n",
       "    .dataframe tbody tr th:only-of-type {\n",
       "        vertical-align: middle;\n",
       "    }\n",
       "\n",
       "    .dataframe tbody tr th {\n",
       "        vertical-align: top;\n",
       "    }\n",
       "\n",
       "    .dataframe thead th {\n",
       "        text-align: right;\n",
       "    }\n",
       "</style>\n",
       "<table border=\"1\" class=\"dataframe\">\n",
       "  <thead>\n",
       "    <tr style=\"text-align: right;\">\n",
       "      <th></th>\n",
       "      <th>pref_name</th>\n",
       "      <th>molecule_pref_name</th>\n",
       "      <th>target_chembl_id</th>\n",
       "      <th>target_pref_name</th>\n",
       "      <th>gen_symbol</th>\n",
       "    </tr>\n",
       "  </thead>\n",
       "  <tbody>\n",
       "    <tr>\n",
       "      <th>0</th>\n",
       "      <td>PIOGLITAZONE</td>\n",
       "      <td>PIOGLITAZONE</td>\n",
       "      <td>CHEMBL3238</td>\n",
       "      <td>Carnitine palmitoyltransferase 2</td>\n",
       "      <td>CPT2</td>\n",
       "    </tr>\n",
       "  </tbody>\n",
       "</table>\n",
       "</div>"
      ],
      "text/plain": [
       "      pref_name molecule_pref_name target_chembl_id  \\\n",
       "0  PIOGLITAZONE       PIOGLITAZONE       CHEMBL3238   \n",
       "\n",
       "                   target_pref_name gen_symbol  \n",
       "0  Carnitine palmitoyltransferase 2       CPT2  "
      ]
     },
     "execution_count": 56,
     "metadata": {},
     "output_type": "execute_result"
    }
   ],
   "source": [
    "df_coincidencias_MM = pd.merge(df_MM_pref_name, df_buenos_drugs, left_on=\"pref_name\", right_on=\"molecule_pref_name\")\n",
    "print(\"\\nDataFrame with matches between approved MM drugs and drugs associated with our genes of interest:\")\n",
    "df_coincidencias_MM"
   ]
  },
  {
   "cell_type": "markdown",
   "metadata": {},
   "source": [
    "En cuanto a la enfermedad AML, no se encontraron coincidencias de fármacos exclusivos para esta enfermedad"
   ]
  },
  {
   "cell_type": "code",
   "execution_count": 57,
   "metadata": {},
   "outputs": [
    {
     "name": "stdout",
     "output_type": "stream",
     "text": [
      "\n",
      "DataFrame with matches between approved cáncer drugs and drugs associated with our genes of interest:\n"
     ]
    },
    {
     "data": {
      "text/html": [
       "<div>\n",
       "<style scoped>\n",
       "    .dataframe tbody tr th:only-of-type {\n",
       "        vertical-align: middle;\n",
       "    }\n",
       "\n",
       "    .dataframe tbody tr th {\n",
       "        vertical-align: top;\n",
       "    }\n",
       "\n",
       "    .dataframe thead th {\n",
       "        text-align: right;\n",
       "    }\n",
       "</style>\n",
       "<table border=\"1\" class=\"dataframe\">\n",
       "  <thead>\n",
       "    <tr style=\"text-align: right;\">\n",
       "      <th></th>\n",
       "      <th>pref_name</th>\n",
       "      <th>molecule_pref_name</th>\n",
       "      <th>target_chembl_id</th>\n",
       "      <th>target_pref_name</th>\n",
       "      <th>gen_symbol</th>\n",
       "    </tr>\n",
       "  </thead>\n",
       "  <tbody>\n",
       "    <tr>\n",
       "      <th>0</th>\n",
       "      <td>INDOMETHACIN</td>\n",
       "      <td>INDOMETHACIN</td>\n",
       "      <td>CHEMBL4334</td>\n",
       "      <td>Prostaglandin-H2 D-isomerase</td>\n",
       "      <td>PGD</td>\n",
       "    </tr>\n",
       "    <tr>\n",
       "      <th>1</th>\n",
       "      <td>KETOROLAC</td>\n",
       "      <td>KETOROLAC</td>\n",
       "      <td>CHEMBL4334</td>\n",
       "      <td>Prostaglandin-H2 D-isomerase</td>\n",
       "      <td>PGD</td>\n",
       "    </tr>\n",
       "    <tr>\n",
       "      <th>2</th>\n",
       "      <td>IBUPROFEN</td>\n",
       "      <td>IBUPROFEN</td>\n",
       "      <td>CHEMBL4334</td>\n",
       "      <td>Prostaglandin-H2 D-isomerase</td>\n",
       "      <td>PGD</td>\n",
       "    </tr>\n",
       "    <tr>\n",
       "      <th>3</th>\n",
       "      <td>ROSIGLITAZONE</td>\n",
       "      <td>ROSIGLITAZONE</td>\n",
       "      <td>CHEMBL3238</td>\n",
       "      <td>Carnitine palmitoyltransferase 2</td>\n",
       "      <td>CPT2</td>\n",
       "    </tr>\n",
       "    <tr>\n",
       "      <th>4</th>\n",
       "      <td>CHLOROGENIC ACID</td>\n",
       "      <td>CHLOROGENIC ACID</td>\n",
       "      <td>CHEMBL3217398</td>\n",
       "      <td>Glucose-6-phosphate translocase</td>\n",
       "      <td>SLC37A4</td>\n",
       "    </tr>\n",
       "    <tr>\n",
       "      <th>5</th>\n",
       "      <td>NAPROXEN</td>\n",
       "      <td>NAPROXEN</td>\n",
       "      <td>CHEMBL4334</td>\n",
       "      <td>Prostaglandin-H2 D-isomerase</td>\n",
       "      <td>PGD</td>\n",
       "    </tr>\n",
       "  </tbody>\n",
       "</table>\n",
       "</div>"
      ],
      "text/plain": [
       "          pref_name molecule_pref_name target_chembl_id  \\\n",
       "0      INDOMETHACIN       INDOMETHACIN       CHEMBL4334   \n",
       "1         KETOROLAC          KETOROLAC       CHEMBL4334   \n",
       "2         IBUPROFEN          IBUPROFEN       CHEMBL4334   \n",
       "3     ROSIGLITAZONE      ROSIGLITAZONE       CHEMBL3238   \n",
       "4  CHLOROGENIC ACID   CHLOROGENIC ACID    CHEMBL3217398   \n",
       "5          NAPROXEN           NAPROXEN       CHEMBL4334   \n",
       "\n",
       "                   target_pref_name gen_symbol  \n",
       "0      Prostaglandin-H2 D-isomerase        PGD  \n",
       "1      Prostaglandin-H2 D-isomerase        PGD  \n",
       "2      Prostaglandin-H2 D-isomerase        PGD  \n",
       "3  Carnitine palmitoyltransferase 2       CPT2  \n",
       "4   Glucose-6-phosphate translocase    SLC37A4  \n",
       "5      Prostaglandin-H2 D-isomerase        PGD  "
      ]
     },
     "execution_count": 57,
     "metadata": {},
     "output_type": "execute_result"
    }
   ],
   "source": [
    "df_coincidencias_cancer = pd.merge(df_no_coincidencias_final_cancer, df_buenos_drugs, left_on=\"pref_name\", right_on=\"molecule_pref_name\")\n",
    "print(\"\\nDataFrame with matches between approved cáncer drugs and drugs associated with our genes of interest:\")\n",
    "df_coincidencias_cancer"
   ]
  },
  {
   "cell_type": "code",
   "execution_count": 58,
   "metadata": {},
   "outputs": [],
   "source": [
    "#Búsqueda de articulos relacionados con los genes encontrados para dichas reacciones en relación a MM\n",
    "def buscar_articulos(gene, disease, num_salida):\n",
    "    query = f\"{gene}[Title/Abstract] AND {disease}[Title/Abstract]\"\n",
    "    \n",
    "    search_handle = Entrez.esearch(db=\"pubmed\", \n",
    "                                   term=query, \n",
    "                                   retmax=num_salida)\n",
    "    search_results = Entrez.read(search_handle)\n",
    "    search_handle.close()\n",
    "    \n",
    "    pmids = search_results[\"IdList\"]\n",
    "    return pmids\n",
    "\n",
    "def fetch_article_details(pmids):\n",
    "\n",
    "    handle = Entrez.efetch(db=\"pubmed\", \n",
    "                           id=\",\".join(pmids), \n",
    "                           rettype=\"medline\", \n",
    "                           retmode=\"xml\")\n",
    "    records = Entrez.read(handle)\n",
    "    \n",
    "    # Procesa y devuelve la información de cada artículo\n",
    "    articles = []\n",
    "    for record in records['PubmedArticle']:\n",
    "        article = {\n",
    "            \"title\": record.get(\"MedlineCitation\", {}).get(\"Article\", {}).get(\"ArticleTitle\", \"\"),\n",
    "            \"authors\": [author.get('ForeName', '') + ' ' + author.get('LastName', '') for author in record.get(\"MedlineCitation\", {}).get(\"Article\", {}).get(\"AuthorList\", [])],\n",
    "            \"abstract\": \"\".join(record.get(\"MedlineCitation\", {}).get(\"Article\", {}).get(\"Abstract\", {}).get(\"AbstractText\", []))\n",
    "        }\n",
    "        articles.append(article)\n",
    "    handle.close()\n",
    "    return articles"
   ]
  },
  {
   "cell_type": "code",
   "execution_count": 59,
   "metadata": {},
   "outputs": [
    {
     "name": "stderr",
     "output_type": "stream",
     "text": [
      "/usr/local/lib64/python3.6/site-packages/Bio/Entrez/__init__.py:670: UserWarning: \n",
      "Email address is not specified.\n",
      "\n",
      "To make use of NCBI's E-utilities, NCBI requires you to specify your\n",
      "email address with each request.  As an example, if your email address\n",
      "is A.N.Other@example.com, you can specify it as follows:\n",
      "   from Bio import Entrez\n",
      "   Entrez.email = 'A.N.Other@example.com'\n",
      "In case of excessive usage of the E-utilities, NCBI will attempt to contact\n",
      "a user at the email address provided before blocking access to the\n",
      "E-utilities.\n",
      "  UserWarning,\n"
     ]
    },
    {
     "data": {
      "text/html": [
       "<div>\n",
       "<style scoped>\n",
       "    .dataframe tbody tr th:only-of-type {\n",
       "        vertical-align: middle;\n",
       "    }\n",
       "\n",
       "    .dataframe tbody tr th {\n",
       "        vertical-align: top;\n",
       "    }\n",
       "\n",
       "    .dataframe thead th {\n",
       "        text-align: right;\n",
       "    }\n",
       "</style>\n",
       "<table border=\"1\" class=\"dataframe\">\n",
       "  <thead>\n",
       "    <tr style=\"text-align: right;\">\n",
       "      <th></th>\n",
       "      <th>DHRS4L2</th>\n",
       "      <th>RBP3</th>\n",
       "      <th>SDR16C5</th>\n",
       "      <th>ADH4</th>\n",
       "      <th>RDH5</th>\n",
       "      <th>HSD17B6</th>\n",
       "      <th>RDH16</th>\n",
       "      <th>RLBP1</th>\n",
       "      <th>DHRS4</th>\n",
       "      <th>H6PD</th>\n",
       "      <th>PGD</th>\n",
       "      <th>SLC37A4</th>\n",
       "      <th>CRAT</th>\n",
       "      <th>CPT2</th>\n",
       "    </tr>\n",
       "  </thead>\n",
       "  <tbody>\n",
       "    <tr>\n",
       "      <th>Número de artículos</th>\n",
       "      <td>0</td>\n",
       "      <td>0</td>\n",
       "      <td>0</td>\n",
       "      <td>0</td>\n",
       "      <td>0</td>\n",
       "      <td>0</td>\n",
       "      <td>0</td>\n",
       "      <td>0</td>\n",
       "      <td>0</td>\n",
       "      <td>0</td>\n",
       "      <td>0</td>\n",
       "      <td>0</td>\n",
       "      <td>0</td>\n",
       "      <td>0</td>\n",
       "    </tr>\n",
       "  </tbody>\n",
       "</table>\n",
       "</div>"
      ],
      "text/plain": [
       "                     DHRS4L2  RBP3  SDR16C5  ADH4  RDH5  HSD17B6  RDH16  \\\n",
       "Número de artículos        0     0        0     0     0        0      0   \n",
       "\n",
       "                     RLBP1  DHRS4  H6PD  PGD  SLC37A4  CRAT  CPT2  \n",
       "Número de artículos      0      0     0    0        0     0     0  "
      ]
     },
     "execution_count": 59,
     "metadata": {},
     "output_type": "execute_result"
    }
   ],
   "source": [
    "tabla = {}\n",
    "for g in symbol_dict:\n",
    "    gene_symbol= symbol_dict[g]\n",
    "    pmids=buscar_articulos(gene_symbol, \"multiple myeloma\", 1000000)\n",
    "    tabla[gene_symbol] = len(pmids)\n",
    "\n",
    "tabla = dict(sorted(tabla.items(), key=lambda item: item[1], reverse=True))\n",
    "\n",
    "pd.DataFrame(tabla, index=['Número de artículos'])"
   ]
  },
  {
   "cell_type": "code",
   "execution_count": 60,
   "metadata": {},
   "outputs": [
    {
     "name": "stderr",
     "output_type": "stream",
     "text": [
      "/usr/local/lib64/python3.6/site-packages/Bio/Entrez/__init__.py:670: UserWarning: \n",
      "Email address is not specified.\n",
      "\n",
      "To make use of NCBI's E-utilities, NCBI requires you to specify your\n",
      "email address with each request.  As an example, if your email address\n",
      "is A.N.Other@example.com, you can specify it as follows:\n",
      "   from Bio import Entrez\n",
      "   Entrez.email = 'A.N.Other@example.com'\n",
      "In case of excessive usage of the E-utilities, NCBI will attempt to contact\n",
      "a user at the email address provided before blocking access to the\n",
      "E-utilities.\n",
      "  UserWarning,\n"
     ]
    },
    {
     "name": "stdout",
     "output_type": "stream",
     "text": [
      "Title: Elucidation of intermolecular interactions between chlorogenic acid and glucose-6-phosphate translocase: A step towards chemically induced glycogen storage disease type 1b model.\n",
      "Authors: Santosh B Patil, Pramod C Gadad\n",
      "Abstract: Glucose-6-phosphate translocase enzyme, encoded by SLC37A4 gene, is a crucial enzyme involved in transporting glucose-6-phosphate into the endoplasmic reticulum. Inhibition of this enzyme can cause Von-Gierke's/glycogen storage disease sub-type 1b. The current study dealt to elucidate the intermolecular interactions to assess the inhibitory activity of Chlorogenic acid (CGA) against SLC37A4 was assessed by molecular docking and dynamic simulation. The alpha folded model of SLC37A4 and CGA 3D structure were optimized using CHARMM force field, using energy minimization protocol in the Discovery Studio software. Glucose-6-phosphate (G6P) and CGA molecular docking, Molecular dynamics (MD) simulation, analysis of binding free energy of G6P-SLC37A4 and CGA-SLC37A4 complexes was performed for 100 ns using GROMACS, followed by principal component analysis (PCA). The docking score of the CGA-SLC37A4 complex exhibited a higher docking score (- 8.2 kcal/mol) when compared to the G6P-SLC37A4 complex (- 6.5 kcal/mol), suggesting a stronger binding interaction between CGA and SLC37A4. Further, the MD simulation demonstrated a stable backbone and complex Root Mean Square Deviation (RMSD), the least RMS fluctuation, and stable active site residue interactions throughout the 100 ns production run. The CGA complex with SLC37A4 exhibits higher compactness and formed 8 hydrogen bonds to achieve stability. The binding free energy of the G6P-SLC37A4 and CGA-SLC37A4 complex was found to be - 12.73 and - 31.493 kcal/mol. Lys29 formed stable contact for both G6P (- 4.73 kJ/mol) and SLC37A4 (- 2.18 kJ/mol). This study imparts structural insights into the competitive inhibition of SLC37A4 by CGA. CGA shows potential as a candidate to induce manifestations of GSD1b by inhibiting glycogenolysis, and gluconeogenesis.The online version contains supplementary material available at 10.1007/s13205-023-03661-5.\n",
      "\n",
      "\n",
      "Title: The SLC37 family of sugar-phosphate/phosphate exchangers.\n",
      "Authors: Janice Y Chou, Brian C Mansfield\n",
      "Abstract: The SLC37 family members are endoplasmic reticulum (ER)-associated sugar-phosphate/phosphate (P(i)) exchangers. Three of the four members, SLC37A1, SLC37A2, and SLC37A4, function as Pi-linked glucose-6-phosphate (G6P) antiporters catalyzing G6P:P(i) and P(i):P(i) exchanges. The activity of SLC37A3 is unknown. SLC37A4, better known as the G6P transporter (G6PT), has been extensively characterized, functionally and structurally, and is the best characterized family member. G6PT contains 10 transmembrane helices with both N and C termini facing the cytoplasm. The primary in vivo function of the G6PT protein is to translocate G6P from the cytoplasm into the ER lumen where it couples with either the liver/kidney/intestine-restricted glucose-6-phosphatase-α (G6Pase-α or G6PC) or the ubiquitously expressed G6Pase-β (or G6PC3) to hydrolyze G6P to glucose and P(i). The G6PT/G6Pase-α complex maintains interprandial glucose homeostasis, and the G6PT/G6Pase-β complex maintains neutrophil energy homeostasis and functionality. G6PT is highly selective for G6P and is competitively inhibited by cholorogenic acid and its derivatives. Neither SLC37A1 nor SLC37A2 can couple functionally with G6Pase-α or G6Pase-β, and the antiporter activities of SLC37A1 or SLC37A2 are not inhibited by cholorogenic acid. Deficiencies in G6PT cause glycogen storage disease type Ib (GSD-Ib), a metabolic and immune disorder. To date, 91 separate SLC37A4 mutations, including 39 missense mutations, have been identified in GSD-Ib patients. Characterization of missense mutations has yielded valuable information on functionally important residues in the G6PT protein. The biological roles of the other SLC37 proteins remain to be determined and deficiencies have not yet been correlated to diseases.\n",
      "\n",
      "\n",
      "Title: SLC37A1 and SLC37A2 are phosphate-linked, glucose-6-phosphate antiporters.\n",
      "Authors: Chi-Jiunn Pan, Shih-Yin Chen, Hyun Sik Jun, Su Ru Lin, Brian C Mansfield, Janice Y Chou\n",
      "Abstract: Blood glucose homeostasis between meals depends upon production of glucose within the endoplasmic reticulum (ER) of the liver and kidney by hydrolysis of glucose-6-phosphate (G6P) into glucose and phosphate (P(i)). This reaction depends on coupling the G6P transporter (G6PT) with glucose-6-phosphatase-α (G6Pase-α). Only one G6PT, also known as SLC37A4, has been characterized, and it acts as a P(i)-linked G6P antiporter. The other three SLC37 family members, predicted to be sugar-phosphate:P(i) exchangers, have not been characterized functionally. Using reconstituted proteoliposomes, we examine the antiporter activity of the other SLC37 members along with their ability to couple with G6Pase-α. G6PT- and mock-proteoliposomes are used as positive and negative controls, respectively. We show that SLC37A1 and SLC37A2 are ER-associated, P(i)-linked antiporters, that can transport G6P. Unlike G6PT, neither is sensitive to chlorogenic acid, a competitive inhibitor of physiological ER G6P transport, and neither couples to G6Pase-α. We conclude that three of the four SLC37 family members are functional sugar-phosphate antiporters. However, only G6PT/SLC37A4 matches the characteristics of the physiological ER G6P transporter, suggesting the other SLC37 proteins have roles independent of blood glucose homeostasis.\n",
      "\n",
      "\n",
      "Title: Tissue-specific dysregulation of hexose-6-phosphate dehydrogenase and glucose-6-phosphate transporter production in db/db mice as a model of type 2 diabetes.\n",
      "Authors: Y Wang, Y Nakagawa, L Liu, W Wang, X Ren, A Anghel, K Lutfy, T C Friedman, Y Liu\n",
      "Abstract: Tissue-specific amplification of glucocorticoid action through 11β-hydroxysteroid dehydrogenase type 1 (11β-HSD1) affects the development of the metabolic syndrome. Hexose-6-phosphate dehydrogenase (H6PDH) mediates intracellular NADPH availability for 11β-HSD1 and depends on the glucose-6-phosphate transporter (G6PT). Little is known about the tissue-specific alterations of H6PDH and G6PT and their contributions to local glucocorticoid action in db/db mice.We characterised the role of H6PDH and G6PT in pre-receptor metabolism of glucocorticoids by examining the production of the hepatic 11β-HSD1-H6PDH-G6PT system in db/db mice.We observed that increased production of hepatic H6PDH in db/db mice was paralleled by upregulation of hepatic G6PT production and responded to elevated circulating levels of corticosterone. Treatment of db/db mice with the glucocorticoid antagonist RU486 markedly reduced production of both H6PDH and 11β-HSD1 and improved hyperglycaemia and insulin resistance. The reduction of H6PDH and 11β-HSD1 production by RU486 was accompanied by RU486-induced suppression of hepatic G6pt (also known as Slc37a4) mRNA. Incubation of mouse primary hepatocytes with corticosterone enhanced G6PT and H6PDH production with corresponding activation of 11β-HSD1 and PEPCK: effects that were blocked by RU486. Knockdown of H6pd by small interfering RNA showed effects comparable with those of RU486 for attenuating the corticosterone-induced H6PDH production and 11ß-HSD1 reductase activity in these intact cells. Addition of the G6PT inhibitor chlorogenic acid to primary hepatocytes suppressed H6PDH production.These findings suggest that increased hepatic H6PDH and G6PT production contribute to 11β-HSD1 upregulation of local glucocorticoid action that may be related to the development of type 2 diabetes.\n",
      "\n",
      "\n"
     ]
    }
   ],
   "source": [
    "pmids = buscar_articulos(\"SLC37A4\", \"CHLOROGENIC ACID\", 10)\n",
    "\n",
    "articulos = fetch_article_details(pmids)\n",
    "\n",
    "for articulo in articulos:\n",
    "     print(f\"Title: {articulo['title']}\\nAuthors: {', '.join(articulo['authors'])}\\nAbstract: {''.join(articulo['abstract'])}\\n\\n\")"
   ]
  },
  {
   "cell_type": "markdown",
   "metadata": {},
   "source": [
    "**Study of MCSs with medium toxicity**.\n",
    "- We allow up to 10 toxicities and see how many MM lines we manage to inhibit along with the subsystem they belong to. "
   ]
  },
  {
   "cell_type": "code",
   "execution_count": 61,
   "metadata": {},
   "outputs": [
    {
     "name": "stdout",
     "output_type": "stream",
     "text": [
      "Good reactions: 16 kill at least 10 MM lines and not affect more than 5 healthy tissues\n"
     ]
    }
   ],
   "source": [
    "minLineasMieloma = 10\n",
    "maxLineasTejido=10\n",
    "\n",
    "semibuenos=[r for r in numeroModelosMMAfectados if numeroModelosMMAfectados[r]>=minLineasMieloma and ((not r in especificas) or 5<=numeroModelosAfectados[r]<= maxLineasTejido)]\n",
    "print(\"Good reactions:\",len(semibuenos),\"kill at least 10 MM lines and not affect more than 5 healthy tissues\")"
   ]
  },
  {
   "cell_type": "code",
   "execution_count": 62,
   "metadata": {},
   "outputs": [
    {
     "name": "stdout",
     "output_type": "stream",
     "text": [
      "MAR05029 Toxicidades 7 Lineas MM mata 16 Grupo Transport reactions\n",
      "MAR00636 Toxicidades 8 Lineas MM mata 17 Grupo Glycerophospholipid metabolism\n",
      "MAR04898 Toxicidades 6 Lineas MM mata 17 Grupo Transport reactions\n",
      "MAR02594 Toxicidades 9 Lineas MM mata 11 Grupo Carnitine shuttle (cytosolic)\n",
      "MAR00597 Toxicidades 8 Lineas MM mata 17 Grupo Glycerophospholipid metabolism\n",
      "MAR04336 Toxicidades 7 Lineas MM mata 16 Grupo Folate metabolism\n",
      "MAR06505 Toxicidades 7 Lineas MM mata 17 Grupo Transport reactions\n",
      "MAR00651 Toxicidades 7 Lineas MM mata 16 Grupo Glycerophospholipid metabolism\n",
      "MAR04917 Toxicidades 8 Lineas MM mata 14 Grupo Transport reactions\n",
      "MAR00638 Toxicidades 8 Lineas MM mata 17 Grupo Glycerophospholipid metabolism\n",
      "MAR00589 Toxicidades 8 Lineas MM mata 17 Grupo Glycerophospholipid metabolism\n",
      "MAR00625 Toxicidades 8 Lineas MM mata 17 Grupo Glycerophospholipid metabolism\n"
     ]
    }
   ],
   "source": [
    "for r in semibuenos:\n",
    "    afecta=numeroModelosAfectados[r]\n",
    "    if afecta>=5:\n",
    "        print(r,\"Toxicidades\",afecta,\"Lineas MM mata\",numeroModelosMMAfectados[r],\"Grupo\",miGrupo[r])"
   ]
  },
  {
   "cell_type": "markdown",
   "metadata": {},
   "source": [
    "**Additional study: MCSs per model as a function of subsystem**\n",
    "- Explore by code MCSs into each model classified by some interesting subsystems: the carnitine shuttle, exchange or transport reactions, pentose phosphate pathway, retinol metabolism and folate metabolism, glycerophospholipid synthesis."
   ]
  },
  {
   "cell_type": "code",
   "execution_count": 63,
   "metadata": {},
   "outputs": [],
   "source": [
    "folate=[r for r in miGrupo if \"Folate\" in miGrupo[r]]\n",
    "retinol=[r for r in miGrupo if \"Retinol\" in miGrupo[r]]\n",
    "pentoseP=[r for r in miGrupo if \"Pentose phosphate pathway\" in miGrupo[r]]\n",
    "gliceroPL=[r for r in miGrupo if \"Glycerophospholipid\" in miGrupo[r]]"
   ]
  },
  {
   "cell_type": "code",
   "execution_count": 64,
   "metadata": {},
   "outputs": [],
   "source": [
    "carnitine=[r for r in miGrupo if \"Carnitine\" in miGrupo[r]]\n",
    "transport=[r for r in miGrupo if \"Transport\" in miGrupo[r]]"
   ]
  },
  {
   "cell_type": "code",
   "execution_count": 65,
   "metadata": {},
   "outputs": [
    {
     "name": "stdout",
     "output_type": "stream",
     "text": [
      "adipose_tissue\n",
      "\n",
      "Total MCS: 638 || MCS carnitine: 49 || MCS transport: 107\n",
      "\n",
      "adrenal_gland\n",
      "\n",
      "Total MCS: 612 || MCS carnitine: 51 || MCS transport: 101\n",
      "\n",
      "bladder\n",
      "\n",
      "Total MCS: 664 || MCS carnitine: 49 || MCS transport: 113\n",
      "\n",
      "blood\n",
      "\n",
      "Total MCS: 637 || MCS carnitine: 50 || MCS transport: 109\n",
      "\n",
      "blood_vessel\n",
      "\n",
      "Total MCS: 682 || MCS carnitine: 49 || MCS transport: 105\n",
      "\n",
      "brain\n",
      "\n",
      "Total MCS: 646 || MCS carnitine: 54 || MCS transport: 107\n",
      "\n",
      "breast\n",
      "\n",
      "Total MCS: 715 || MCS carnitine: 51 || MCS transport: 116\n",
      "\n",
      "colon\n",
      "\n",
      "Total MCS: 623 || MCS carnitine: 46 || MCS transport: 104\n",
      "\n",
      "esophagus\n",
      "\n",
      "Total MCS: 642 || MCS carnitine: 46 || MCS transport: 109\n",
      "\n",
      "heart\n",
      "\n",
      "Total MCS: 626 || MCS carnitine: 49 || MCS transport: 106\n",
      "\n",
      "lung\n",
      "\n",
      "Total MCS: 671 || MCS carnitine: 49 || MCS transport: 115\n",
      "\n",
      "kidney\n",
      "\n",
      "Total MCS: 657 || MCS carnitine: 49 || MCS transport: 97\n",
      "\n",
      "muscle\n",
      "\n",
      "Total MCS: 717 || MCS carnitine: 52 || MCS transport: 111\n",
      "\n",
      "nerve\n",
      "\n",
      "Total MCS: 680 || MCS carnitine: 48 || MCS transport: 102\n",
      "\n",
      "pancreas\n",
      "\n",
      "Total MCS: 598 || MCS carnitine: 44 || MCS transport: 99\n",
      "\n",
      "pituitary\n",
      "\n",
      "Total MCS: 628 || MCS carnitine: 48 || MCS transport: 105\n",
      "\n",
      "small_intestine\n",
      "\n",
      "Total MCS: 595 || MCS carnitine: 48 || MCS transport: 98\n",
      "\n",
      "stomach\n",
      "\n",
      "Total MCS: 612 || MCS carnitine: 49 || MCS transport: 104\n",
      "\n",
      "vagina\n",
      "\n",
      "Total MCS: 698 || MCS carnitine: 49 || MCS transport: 114\n",
      "\n",
      "prostate\n",
      "\n",
      "Total MCS: 635 || MCS carnitine: 53 || MCS transport: 102\n",
      "\n",
      "skin\n",
      "\n",
      "Total MCS: 688 || MCS carnitine: 49 || MCS transport: 103\n",
      "\n",
      "testis\n",
      "\n",
      "Total MCS: 612 || MCS carnitine: 54 || MCS transport: 104\n",
      "\n",
      "thyroid\n",
      "\n",
      "Total MCS: 667 || MCS carnitine: 48 || MCS transport: 114\n",
      "\n",
      "uterus\n",
      "\n",
      "Total MCS: 729 || MCS carnitine: 54 || MCS transport: 115\n",
      "\n",
      "cervix_uteri\n",
      "\n",
      "Total MCS: 654 || MCS carnitine: 46 || MCS transport: 115\n",
      "\n",
      "fallopian_tube\n",
      "\n",
      "Total MCS: 716 || MCS carnitine: 48 || MCS transport: 113\n",
      "\n",
      "liver\n",
      "\n",
      "Total MCS: 626 || MCS carnitine: 52 || MCS transport: 104\n",
      "\n",
      "ovary\n",
      "\n",
      "Total MCS: 655 || MCS carnitine: 54 || MCS transport: 107\n",
      "\n",
      "salivary_gland\n",
      "\n",
      "Total MCS: 664 || MCS carnitine: 44 || MCS transport: 102\n",
      "\n"
     ]
    }
   ],
   "source": [
    "for i in range(1,30):\n",
    "    MCScarnitine=MCSAllTasks[nombreModelo[i]].intersection(carnitine)\n",
    "    MCStransport=MCSAllTasks[nombreModelo[i]].intersection(transport)\n",
    "    print(nombreModelo[i])\n",
    "    print()\n",
    "    print(\"Total MCS:\",len(MCSAllTasks[nombreModelo[i]]),\"||\",\"MCS carnitine:\",len(MCScarnitine),\"||\",\"MCS transport:\",len(MCStransport))\n",
    "    print()"
   ]
  },
  {
   "cell_type": "code",
   "execution_count": 66,
   "metadata": {},
   "outputs": [
    {
     "name": "stdout",
     "output_type": "stream",
     "text": [
      "adipose_tissue\n",
      "\n",
      "Total MCS: 638 || MCS folate: 0 || MCS retinol: 37 || MCS pentoseP: 1 || MCS gliceroPL: 10\n",
      "\n",
      "adrenal_gland\n",
      "\n",
      "Total MCS: 612 || MCS folate: 0 || MCS retinol: 32 || MCS pentoseP: 1 || MCS gliceroPL: 10\n",
      "\n",
      "bladder\n",
      "\n",
      "Total MCS: 664 || MCS folate: 7 || MCS retinol: 35 || MCS pentoseP: 1 || MCS gliceroPL: 10\n",
      "\n",
      "blood\n",
      "\n",
      "Total MCS: 637 || MCS folate: 1 || MCS retinol: 35 || MCS pentoseP: 1 || MCS gliceroPL: 16\n",
      "\n",
      "blood_vessel\n",
      "\n",
      "Total MCS: 682 || MCS folate: 1 || MCS retinol: 35 || MCS pentoseP: 1 || MCS gliceroPL: 15\n",
      "\n",
      "brain\n",
      "\n",
      "Total MCS: 646 || MCS folate: 0 || MCS retinol: 35 || MCS pentoseP: 1 || MCS gliceroPL: 10\n",
      "\n",
      "breast\n",
      "\n",
      "Total MCS: 715 || MCS folate: 9 || MCS retinol: 37 || MCS pentoseP: 1 || MCS gliceroPL: 9\n",
      "\n",
      "colon\n",
      "\n",
      "Total MCS: 623 || MCS folate: 0 || MCS retinol: 34 || MCS pentoseP: 1 || MCS gliceroPL: 10\n",
      "\n",
      "esophagus\n",
      "\n",
      "Total MCS: 642 || MCS folate: 1 || MCS retinol: 38 || MCS pentoseP: 1 || MCS gliceroPL: 16\n",
      "\n",
      "heart\n",
      "\n",
      "Total MCS: 626 || MCS folate: 1 || MCS retinol: 32 || MCS pentoseP: 1 || MCS gliceroPL: 15\n",
      "\n",
      "lung\n",
      "\n",
      "Total MCS: 671 || MCS folate: 7 || MCS retinol: 35 || MCS pentoseP: 1 || MCS gliceroPL: 9\n",
      "\n",
      "kidney\n",
      "\n",
      "Total MCS: 657 || MCS folate: 0 || MCS retinol: 33 || MCS pentoseP: 1 || MCS gliceroPL: 9\n",
      "\n",
      "muscle\n",
      "\n",
      "Total MCS: 717 || MCS folate: 1 || MCS retinol: 35 || MCS pentoseP: 1 || MCS gliceroPL: 16\n",
      "\n",
      "nerve\n",
      "\n",
      "Total MCS: 680 || MCS folate: 0 || MCS retinol: 37 || MCS pentoseP: 1 || MCS gliceroPL: 9\n",
      "\n",
      "pancreas\n",
      "\n",
      "Total MCS: 598 || MCS folate: 0 || MCS retinol: 34 || MCS pentoseP: 1 || MCS gliceroPL: 10\n",
      "\n",
      "pituitary\n",
      "\n",
      "Total MCS: 628 || MCS folate: 0 || MCS retinol: 34 || MCS pentoseP: 1 || MCS gliceroPL: 10\n",
      "\n",
      "small_intestine\n",
      "\n",
      "Total MCS: 595 || MCS folate: 0 || MCS retinol: 34 || MCS pentoseP: 1 || MCS gliceroPL: 16\n",
      "\n",
      "stomach\n",
      "\n",
      "Total MCS: 612 || MCS folate: 0 || MCS retinol: 32 || MCS pentoseP: 1 || MCS gliceroPL: 9\n",
      "\n",
      "vagina\n",
      "\n",
      "Total MCS: 698 || MCS folate: 7 || MCS retinol: 34 || MCS pentoseP: 1 || MCS gliceroPL: 9\n",
      "\n",
      "prostate\n",
      "\n",
      "Total MCS: 635 || MCS folate: 0 || MCS retinol: 37 || MCS pentoseP: 1 || MCS gliceroPL: 10\n",
      "\n",
      "skin\n",
      "\n",
      "Total MCS: 688 || MCS folate: 2 || MCS retinol: 35 || MCS pentoseP: 1 || MCS gliceroPL: 15\n",
      "\n",
      "testis\n",
      "\n",
      "Total MCS: 612 || MCS folate: 0 || MCS retinol: 35 || MCS pentoseP: 1 || MCS gliceroPL: 10\n",
      "\n",
      "thyroid\n",
      "\n",
      "Total MCS: 667 || MCS folate: 7 || MCS retinol: 38 || MCS pentoseP: 1 || MCS gliceroPL: 10\n",
      "\n",
      "uterus\n",
      "\n",
      "Total MCS: 729 || MCS folate: 0 || MCS retinol: 37 || MCS pentoseP: 1 || MCS gliceroPL: 9\n",
      "\n",
      "cervix_uteri\n",
      "\n",
      "Total MCS: 654 || MCS folate: 7 || MCS retinol: 34 || MCS pentoseP: 1 || MCS gliceroPL: 9\n",
      "\n",
      "fallopian_tube\n",
      "\n",
      "Total MCS: 716 || MCS folate: 7 || MCS retinol: 36 || MCS pentoseP: 1 || MCS gliceroPL: 9\n",
      "\n",
      "liver\n",
      "\n",
      "Total MCS: 626 || MCS folate: 0 || MCS retinol: 34 || MCS pentoseP: 1 || MCS gliceroPL: 11\n",
      "\n",
      "ovary\n",
      "\n",
      "Total MCS: 655 || MCS folate: 0 || MCS retinol: 34 || MCS pentoseP: 1 || MCS gliceroPL: 10\n",
      "\n",
      "salivary_gland\n",
      "\n",
      "Total MCS: 664 || MCS folate: 1 || MCS retinol: 35 || MCS pentoseP: 1 || MCS gliceroPL: 15\n",
      "\n"
     ]
    }
   ],
   "source": [
    "for i in range(1,30):\n",
    "    MCSfolate=MCSAllTasks[nombreModelo[i]].intersection(folate)\n",
    "    MCSretinol=MCSAllTasks[nombreModelo[i]].intersection(retinol)\n",
    "    MCSpentoseP=MCSAllTasks[nombreModelo[i]].intersection(pentoseP)\n",
    "    MCSgliceroPL=MCSAllTasks[nombreModelo[i]].intersection(gliceroPL)\n",
    "    print(nombreModelo[i])\n",
    "    print()\n",
    "    print(\"Total MCS:\",len(MCSAllTasks[nombreModelo[i]]),\"||\",\"MCS folate:\",len(MCSfolate),\"||\",\"MCS retinol:\",len(MCSretinol),\"||\",\"MCS pentoseP:\",len(MCSpentoseP),\"||\",\"MCS gliceroPL:\",len(MCSgliceroPL))\n",
    "    print()"
   ]
  },
  {
   "cell_type": "code",
   "execution_count": 67,
   "metadata": {},
   "outputs": [
    {
     "name": "stdout",
     "output_type": "stream",
     "text": [
      "ACH_000838\n",
      "\n",
      "Total MCS: 784 || MCS carnitine: 51 || MCS transport: 110\n",
      "\n",
      "ACH_000889\n",
      "\n",
      "Total MCS: 702 || MCS carnitine: 51 || MCS transport: 114\n",
      "\n",
      "ACH_000512\n",
      "\n",
      "Total MCS: 710 || MCS carnitine: 62 || MCS transport: 114\n",
      "\n",
      "ACH_000426\n",
      "\n",
      "Total MCS: 619 || MCS carnitine: 46 || MCS transport: 111\n",
      "\n",
      "ACH_000436\n",
      "\n",
      "Total MCS: 677 || MCS carnitine: 47 || MCS transport: 107\n",
      "\n",
      "ACH_000363\n",
      "\n",
      "Total MCS: 683 || MCS carnitine: 54 || MCS transport: 119\n",
      "\n",
      "ACH_000183\n",
      "\n",
      "Total MCS: 711 || MCS carnitine: 54 || MCS transport: 109\n",
      "\n",
      "ACH_000204\n",
      "\n",
      "Total MCS: 636 || MCS carnitine: 56 || MCS transport: 109\n",
      "\n",
      "ACH_000541\n",
      "\n",
      "Total MCS: 670 || MCS carnitine: 49 || MCS transport: 101\n",
      "\n",
      "ACH_000576\n",
      "\n",
      "Total MCS: 647 || MCS carnitine: 43 || MCS transport: 119\n",
      "\n",
      "ACH_000588\n",
      "\n",
      "Total MCS: 676 || MCS carnitine: 51 || MCS transport: 102\n",
      "\n",
      "ACH_000653\n",
      "\n",
      "Total MCS: 709 || MCS carnitine: 51 || MCS transport: 120\n",
      "\n",
      "ACH_000714\n",
      "\n",
      "Total MCS: 643 || MCS carnitine: 52 || MCS transport: 117\n",
      "\n",
      "ACH_000658\n",
      "\n",
      "Total MCS: 670 || MCS carnitine: 47 || MCS transport: 106\n",
      "\n",
      "ACH_000763\n",
      "\n",
      "Total MCS: 680 || MCS carnitine: 47 || MCS transport: 108\n",
      "\n",
      "ACH_000817\n",
      "\n",
      "Total MCS: 713 || MCS carnitine: 52 || MCS transport: 111\n",
      "\n",
      "ACH_000821\n",
      "\n",
      "Total MCS: 620 || MCS carnitine: 51 || MCS transport: 104\n",
      "\n",
      "ACH_000829\n",
      "\n",
      "Total MCS: 663 || MCS carnitine: 65 || MCS transport: 114\n",
      "\n"
     ]
    }
   ],
   "source": [
    "for i in range(31,49):\n",
    "    MCScarnitine=MCSAllTasks[nombreModelo[i]].intersection(carnitine)\n",
    "    MCStransport=MCSAllTasks[nombreModelo[i]].intersection(transport)\n",
    "    print(nombreModelo[i])\n",
    "    print()\n",
    "    print(\"Total MCS:\",len(MCSAllTasks[nombreModelo[i]]),\"||\",\"MCS carnitine:\",len(MCScarnitine),\"||\",\"MCS transport:\",len(MCStransport))\n",
    "    print()"
   ]
  },
  {
   "cell_type": "code",
   "execution_count": 68,
   "metadata": {},
   "outputs": [
    {
     "name": "stdout",
     "output_type": "stream",
     "text": [
      "ACH_000838 || Total MCS: 784 || MCS folate: 1 || MCS retinol: 38 || MCS pentoseP: 4 || MCS gliceroPL: 17\n",
      "ACH_000889 || Total MCS: 702 || MCS folate: 0 || MCS retinol: 39 || MCS pentoseP: 3 || MCS gliceroPL: 14\n",
      "ACH_000512 || Total MCS: 710 || MCS folate: 1 || MCS retinol: 37 || MCS pentoseP: 3 || MCS gliceroPL: 15\n",
      "ACH_000426 || Total MCS: 619 || MCS folate: 1 || MCS retinol: 35 || MCS pentoseP: 1 || MCS gliceroPL: 16\n",
      "ACH_000436 || Total MCS: 677 || MCS folate: 2 || MCS retinol: 34 || MCS pentoseP: 3 || MCS gliceroPL: 15\n",
      "ACH_000363 || Total MCS: 683 || MCS folate: 7 || MCS retinol: 36 || MCS pentoseP: 4 || MCS gliceroPL: 11\n",
      "ACH_000183 || Total MCS: 711 || MCS folate: 1 || MCS retinol: 39 || MCS pentoseP: 3 || MCS gliceroPL: 15\n",
      "ACH_000204 || Total MCS: 636 || MCS folate: 1 || MCS retinol: 35 || MCS pentoseP: 3 || MCS gliceroPL: 16\n",
      "ACH_000541 || Total MCS: 670 || MCS folate: 1 || MCS retinol: 37 || MCS pentoseP: 4 || MCS gliceroPL: 15\n",
      "ACH_000576 || Total MCS: 647 || MCS folate: 1 || MCS retinol: 36 || MCS pentoseP: 3 || MCS gliceroPL: 18\n",
      "ACH_000588 || Total MCS: 676 || MCS folate: 1 || MCS retinol: 37 || MCS pentoseP: 5 || MCS gliceroPL: 15\n",
      "ACH_000653 || Total MCS: 709 || MCS folate: 8 || MCS retinol: 35 || MCS pentoseP: 2 || MCS gliceroPL: 16\n",
      "ACH_000714 || Total MCS: 643 || MCS folate: 1 || MCS retinol: 37 || MCS pentoseP: 5 || MCS gliceroPL: 14\n",
      "ACH_000658 || Total MCS: 670 || MCS folate: 1 || MCS retinol: 38 || MCS pentoseP: 1 || MCS gliceroPL: 15\n",
      "ACH_000763 || Total MCS: 680 || MCS folate: 1 || MCS retinol: 39 || MCS pentoseP: 3 || MCS gliceroPL: 15\n",
      "ACH_000817 || Total MCS: 713 || MCS folate: 1 || MCS retinol: 35 || MCS pentoseP: 4 || MCS gliceroPL: 17\n",
      "ACH_000821 || Total MCS: 620 || MCS folate: 1 || MCS retinol: 36 || MCS pentoseP: 2 || MCS gliceroPL: 17\n",
      "ACH_000829 || Total MCS: 663 || MCS folate: 1 || MCS retinol: 37 || MCS pentoseP: 3 || MCS gliceroPL: 16\n"
     ]
    }
   ],
   "source": [
    "for i in range(31,49):\n",
    "    MCSfolate=MCSAllTasks[nombreModelo[i]].intersection(folate)\n",
    "    MCSretinol=MCSAllTasks[nombreModelo[i]].intersection(retinol)\n",
    "    MCSpentoseP=MCSAllTasks[nombreModelo[i]].intersection(pentoseP)\n",
    "    MCSgliceroPL=MCSAllTasks[nombreModelo[i]].intersection(gliceroPL)\n",
    "    print(nombreModelo[i],\"||\",\"Total MCS:\",len(MCSAllTasks[nombreModelo[i]]),\"||\",\"MCS folate:\",len(MCSfolate),\"||\",\"MCS retinol:\",len(MCSretinol),\"||\",\"MCS pentoseP:\",len(MCSpentoseP),\"||\",\"MCS gliceroPL:\",len(MCSgliceroPL))"
   ]
  },
  {
   "cell_type": "markdown",
   "metadata": {},
   "source": [
    "**Remarks**\n",
    "- In general, we have many more toxicities and targets in retinol metabolism with respect to folate and the pentose phosphate pathway. \n",
    "- The figures are around the same between healthy and diseased tissues. Of particular note is the pentose phosphate pathway, where we find a higher number of possible pathways of attack for almost all MM lines compared to healthy tissues.\n",
    "- The folate metabolism is interesting in the sense that all the MM lines present 1 MCS and to see if it is the same for all of them, with the exception of one line that does not present it and to see if this reaction or MCS could not coincide with the toxicities found in healthy tissues."
   ]
  },
  {
   "cell_type": "markdown",
   "metadata": {},
   "source": [
    "MCSs enquiry promising folate metabolism"
   ]
  },
  {
   "cell_type": "code",
   "execution_count": 69,
   "metadata": {},
   "outputs": [
    {
     "name": "stdout",
     "output_type": "stream",
     "text": [
      "MAR04336 Toxicidades 7 Lineas MM mata 16 Grupo Folate metabolism\n"
     ]
    }
   ],
   "source": [
    "for r in MCSfolate:\n",
    "    afecta=0\n",
    "    if r in numeroModelosAfectados:\n",
    "        afecta=numeroModelosAfectados[r]    \n",
    "    print(r,\"Toxicidades\",afecta,\"Lineas MM mata\",numeroModelosMMAfectados[r],\"Grupo\",miGrupo[r])"
   ]
  },
  {
   "cell_type": "code",
   "execution_count": 70,
   "metadata": {},
   "outputs": [
    {
     "name": "stdout",
     "output_type": "stream",
     "text": [
      "MAR04336 Folate metabolism\n",
      "\n",
      "{'salivary_gland', 'heart', 'blood_vessel', 'esophagus', 'blood', 'skin', 'muscle'}\n",
      "\n",
      "{'ACH_000512', 'ACH_000821', 'ACH_000541', 'ACH_000714', 'ACH_000588', 'ACH_000658', 'ACH_000436', 'ACH_000817', 'ACH_000576', 'ACH_000204', 'ACH_000426', 'ACH_000829', 'ACH_000653', 'ACH_000183', 'ACH_000838', 'ACH_000763'}\n"
     ]
    }
   ],
   "source": [
    "for r in MCSfolate:\n",
    "    if numeroModelosAfectados[r]>0:\n",
    "        print(r,miGrupo[r])\n",
    "        print()\n",
    "        print(modelosAfectados[r])\n",
    "        print()\n",
    "        print(modelosMMAfectados[r])"
   ]
  },
  {
   "cell_type": "code",
   "execution_count": 71,
   "metadata": {},
   "outputs": [
    {
     "data": {
      "text/html": [
       "\n",
       "        <table>\n",
       "            <tr>\n",
       "                <td><strong>Reaction identifier</strong></td><td>MAR04336</td>\n",
       "            </tr><tr>\n",
       "                <td><strong>Name</strong></td><td>10-formyltetrahydrofolate:NADP+ oxidoreductase</td>\n",
       "            </tr><tr>\n",
       "                <td><strong>Memory address</strong></td>\n",
       "                <td>0x7f77b3af6b70</td>\n",
       "            </tr><tr>\n",
       "                <td><strong>Stoichiometry</strong></td>\n",
       "                <td>\n",
       "                    <p style='text-align:right'>MAM00266c + MAM02040c + MAM02554c --> MAM01596c + MAM02039c + MAM02555c + MAM02980c</p>\n",
       "                    <p style='text-align:right'>10-formyl-THF + H2O + NADP+ --> CO2 + H+ + NADPH + THF</p>\n",
       "                </td>\n",
       "            </tr><tr>\n",
       "                <td><strong>GPR</strong></td><td>ENSG00000136010 or ENSG00000144908</td>\n",
       "            </tr><tr>\n",
       "                <td><strong>Lower bound</strong></td><td>0.0</td>\n",
       "            </tr><tr>\n",
       "                <td><strong>Upper bound</strong></td><td>1000.0</td>\n",
       "            </tr>\n",
       "        </table>\n",
       "        "
      ],
      "text/plain": [
       "<Reaction MAR04336 at 0x7f77b3af6b70>"
      ]
     },
     "execution_count": 71,
     "metadata": {},
     "output_type": "execute_result"
    }
   ],
   "source": [
    "modeloBase.reactions.get_by_id(\"MAR04336\")"
   ]
  },
  {
   "cell_type": "code",
   "execution_count": 72,
   "metadata": {},
   "outputs": [
    {
     "data": {
      "text/html": [
       "<div>\n",
       "<style scoped>\n",
       "    .dataframe tbody tr th:only-of-type {\n",
       "        vertical-align: middle;\n",
       "    }\n",
       "\n",
       "    .dataframe tbody tr th {\n",
       "        vertical-align: top;\n",
       "    }\n",
       "\n",
       "    .dataframe thead th {\n",
       "        text-align: right;\n",
       "    }\n",
       "</style>\n",
       "<table border=\"1\" class=\"dataframe\">\n",
       "  <thead>\n",
       "    <tr style=\"text-align: right;\">\n",
       "      <th></th>\n",
       "      <th>entrezgene</th>\n",
       "      <th>name</th>\n",
       "      <th>symbol</th>\n",
       "    </tr>\n",
       "    <tr>\n",
       "      <th>query</th>\n",
       "      <th></th>\n",
       "      <th></th>\n",
       "      <th></th>\n",
       "    </tr>\n",
       "  </thead>\n",
       "  <tbody>\n",
       "    <tr>\n",
       "      <th>ENSG00000136010</th>\n",
       "      <td>160428</td>\n",
       "      <td>aldehyde dehydrogenase 1 family member L2</td>\n",
       "      <td>ALDH1L2</td>\n",
       "    </tr>\n",
       "    <tr>\n",
       "      <th>ENSG00000144908</th>\n",
       "      <td>10840</td>\n",
       "      <td>aldehyde dehydrogenase 1 family member L1</td>\n",
       "      <td>ALDH1L1</td>\n",
       "    </tr>\n",
       "  </tbody>\n",
       "</table>\n",
       "</div>"
      ],
      "text/plain": [
       "                entrezgene                                       name   symbol\n",
       "query                                                                         \n",
       "ENSG00000136010     160428  aldehyde dehydrogenase 1 family member L2  ALDH1L2\n",
       "ENSG00000144908      10840  aldehyde dehydrogenase 1 family member L1  ALDH1L1"
      ]
     },
     "execution_count": 72,
     "metadata": {},
     "output_type": "execute_result"
    }
   ],
   "source": [
    "genes_interes=[\"ENSG00000136010\", \"ENSG00000144908\"]\n",
    "#Buscamos info de los genes de interés \n",
    "genes_a_buscar = [gene for gene in genes_interes]\n",
    "mg = mygene.MyGeneInfo()\n",
    "df = mg.querymany(genes_a_buscar, scopes='ensembl.gene', species=9606, as_dataframe=True)\n",
    "df.iloc[:, [2, 3, 4]]"
   ]
  }
 ],
 "metadata": {
  "kernelspec": {
   "display_name": "Python3.6",
   "language": "python",
   "name": "python3.6"
  },
  "language_info": {
   "codemirror_mode": {
    "name": "ipython",
    "version": 3
   },
   "file_extension": ".py",
   "mimetype": "text/x-python",
   "name": "python",
   "nbconvert_exporter": "python",
   "pygments_lexer": "ipython3",
   "version": "3.6.8"
  }
 },
 "nbformat": 4,
 "nbformat_minor": 4
}
